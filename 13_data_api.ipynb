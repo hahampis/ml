{
 "cells": [
  {
   "cell_type": "code",
   "execution_count": 1,
   "metadata": {},
   "outputs": [],
   "source": [
    "import tensorflow as tf\n",
    "import numpy as np"
   ]
  },
  {
   "cell_type": "code",
   "execution_count": 3,
   "metadata": {},
   "outputs": [
    {
     "name": "stderr",
     "output_type": "stream",
     "text": [
      "2022-11-20 17:49:53.449488: I tensorflow/compiler/jit/xla_cpu_device.cc:41] Not creating XLA devices, tf_xla_enable_xla_devices not set\n",
      "2022-11-20 17:49:53.452483: I tensorflow/core/platform/cpu_feature_guard.cc:142] This TensorFlow binary is optimized with oneAPI Deep Neural Network Library (oneDNN) to use the following CPU instructions in performance-critical operations:  SSE4.1 SSE4.2 AVX AVX2 FMA\n",
      "To enable them in other operations, rebuild TensorFlow with the appropriate compiler flags.\n",
      "2022-11-20 17:49:53.455530: I tensorflow/core/common_runtime/process_util.cc:146] Creating new thread pool with default inter op setting: 2. Tune using inter_op_parallelism_threads for best performance.\n"
     ]
    },
    {
     "data": {
      "text/plain": [
       "[<tf.Tensor: shape=(), dtype=int32, numpy=1>,\n",
       " <tf.Tensor: shape=(), dtype=float32, numpy=2.0>,\n",
       " <tf.Tensor: shape=(), dtype=float64, numpy=3.0>,\n",
       " <tf.Tensor: shape=(), dtype=string, numpy=b'4'>,\n",
       " <tf.Tensor: shape=(), dtype=float32, numpy=5.0>]"
      ]
     },
     "execution_count": 3,
     "metadata": {},
     "output_type": "execute_result"
    }
   ],
   "source": [
    "record_defaults=[0, np.nan, tf.constant(np.nan, dtype=tf.float64), \"Hello\", tf.constant([])]\n",
    "parsed_fields = tf.io.decode_csv('1,2,3,4,5', record_defaults)\n",
    "parsed_fields"
   ]
  },
  {
   "cell_type": "code",
   "execution_count": 4,
   "metadata": {},
   "outputs": [
    {
     "data": {
      "text/plain": [
       "[<tf.Tensor: shape=(), dtype=int32, numpy=0>,\n",
       " <tf.Tensor: shape=(), dtype=float32, numpy=nan>,\n",
       " <tf.Tensor: shape=(), dtype=float64, numpy=nan>,\n",
       " <tf.Tensor: shape=(), dtype=string, numpy=b'Hello'>,\n",
       " <tf.Tensor: shape=(), dtype=float32, numpy=5.0>]"
      ]
     },
     "execution_count": 4,
     "metadata": {},
     "output_type": "execute_result"
    }
   ],
   "source": [
    "parsed_fields = tf.io.decode_csv(',,,,5', record_defaults)\n",
    "parsed_fields\n"
   ]
  },
  {
   "cell_type": "code",
   "execution_count": 5,
   "metadata": {},
   "outputs": [],
   "source": [
    "from sklearn.datasets import load_sample_images\n",
    "\n",
    "img = load_sample_images()[\"images\"][0]"
   ]
  },
  {
   "cell_type": "code",
   "execution_count": null,
   "metadata": {},
   "outputs": [],
   "source": [
    "data = tf.io.encode_jpeg(img)\n",
    "data"
   ]
  },
  {
   "cell_type": "code",
   "execution_count": 2,
   "metadata": {},
   "outputs": [
    {
     "name": "stderr",
     "output_type": "stream",
     "text": [
      "2022-10-30 10:20:44.329736: I tensorflow/compiler/jit/xla_cpu_device.cc:41] Not creating XLA devices, tf_xla_enable_xla_devices not set\n",
      "2022-10-30 10:20:44.331891: I tensorflow/core/platform/cpu_feature_guard.cc:142] This TensorFlow binary is optimized with oneAPI Deep Neural Network Library (oneDNN) to use the following CPU instructions in performance-critical operations:  SSE4.1 SSE4.2 AVX AVX2 FMA\n",
      "To enable them in other operations, rebuild TensorFlow with the appropriate compiler flags.\n",
      "2022-10-30 10:20:44.334980: I tensorflow/core/common_runtime/process_util.cc:146] Creating new thread pool with default inter op setting: 2. Tune using inter_op_parallelism_threads for best performance.\n"
     ]
    },
    {
     "data": {
      "text/plain": [
       "<TensorSliceDataset shapes: (), types: tf.int32>"
      ]
     },
     "execution_count": 2,
     "metadata": {},
     "output_type": "execute_result"
    }
   ],
   "source": [
    "X = tf.range(10)\n",
    "dataset = tf.data.Dataset.from_tensor_slices(X)\n",
    "dataset"
   ]
  },
  {
   "cell_type": "code",
   "execution_count": 3,
   "metadata": {},
   "outputs": [
    {
     "name": "stdout",
     "output_type": "stream",
     "text": [
      "tf.Tensor(0, shape=(), dtype=int32)\n",
      "tf.Tensor(1, shape=(), dtype=int32)\n",
      "tf.Tensor(2, shape=(), dtype=int32)\n",
      "tf.Tensor(3, shape=(), dtype=int32)\n",
      "tf.Tensor(4, shape=(), dtype=int32)\n",
      "tf.Tensor(5, shape=(), dtype=int32)\n",
      "tf.Tensor(6, shape=(), dtype=int32)\n",
      "tf.Tensor(7, shape=(), dtype=int32)\n",
      "tf.Tensor(8, shape=(), dtype=int32)\n",
      "tf.Tensor(9, shape=(), dtype=int32)\n"
     ]
    }
   ],
   "source": [
    "for item in dataset:\n",
    "    print(item)"
   ]
  },
  {
   "cell_type": "code",
   "execution_count": 4,
   "metadata": {},
   "outputs": [
    {
     "name": "stdout",
     "output_type": "stream",
     "text": [
      "tf.Tensor([0 1 2 3 4 5 6], shape=(7,), dtype=int32)\n",
      "tf.Tensor([7 8 9 0 1 2 3], shape=(7,), dtype=int32)\n",
      "tf.Tensor([4 5 6 7 8 9 0], shape=(7,), dtype=int32)\n",
      "tf.Tensor([1 2 3 4 5 6 7], shape=(7,), dtype=int32)\n",
      "tf.Tensor([8 9], shape=(2,), dtype=int32)\n"
     ]
    }
   ],
   "source": [
    "dataset = dataset.repeat(3).batch(7)\n",
    "for item in dataset:\n",
    "    print(item)\n"
   ]
  },
  {
   "cell_type": "code",
   "execution_count": 5,
   "metadata": {},
   "outputs": [
    {
     "name": "stdout",
     "output_type": "stream",
     "text": [
      "tf.Tensor([ 0  1  4  9 16 25 36], shape=(7,), dtype=int32)\n",
      "tf.Tensor([49 64 81  0  1  4  9], shape=(7,), dtype=int32)\n",
      "tf.Tensor([16 25 36 49 64 81  0], shape=(7,), dtype=int32)\n",
      "tf.Tensor([ 1  4  9 16 25 36 49], shape=(7,), dtype=int32)\n",
      "tf.Tensor([64 81], shape=(2,), dtype=int32)\n"
     ]
    },
    {
     "name": "stderr",
     "output_type": "stream",
     "text": [
      "2022-10-30 10:20:44.561053: I tensorflow/compiler/mlir/mlir_graph_optimization_pass.cc:116] None of the MLIR optimization passes are enabled (registered 2)\n",
      "2022-10-30 10:20:44.581411: I tensorflow/core/platform/profile_utils/cpu_utils.cc:112] CPU Frequency: 2099940000 Hz\n"
     ]
    }
   ],
   "source": [
    "dataset = dataset.map(lambda x: x**2, num_parallel_calls=4)\n",
    "for item in dataset:\n",
    "    print(item)"
   ]
  },
  {
   "cell_type": "code",
   "execution_count": 6,
   "metadata": {},
   "outputs": [
    {
     "name": "stdout",
     "output_type": "stream",
     "text": [
      "tf.Tensor(0, shape=(), dtype=int32)\n",
      "tf.Tensor(1, shape=(), dtype=int32)\n",
      "tf.Tensor(4, shape=(), dtype=int32)\n",
      "tf.Tensor(9, shape=(), dtype=int32)\n",
      "tf.Tensor(16, shape=(), dtype=int32)\n",
      "tf.Tensor(25, shape=(), dtype=int32)\n",
      "tf.Tensor(36, shape=(), dtype=int32)\n",
      "tf.Tensor(49, shape=(), dtype=int32)\n",
      "tf.Tensor(64, shape=(), dtype=int32)\n",
      "tf.Tensor(81, shape=(), dtype=int32)\n",
      "tf.Tensor(0, shape=(), dtype=int32)\n",
      "tf.Tensor(1, shape=(), dtype=int32)\n",
      "tf.Tensor(4, shape=(), dtype=int32)\n",
      "tf.Tensor(9, shape=(), dtype=int32)\n",
      "tf.Tensor(16, shape=(), dtype=int32)\n",
      "tf.Tensor(25, shape=(), dtype=int32)\n",
      "tf.Tensor(36, shape=(), dtype=int32)\n",
      "tf.Tensor(49, shape=(), dtype=int32)\n",
      "tf.Tensor(64, shape=(), dtype=int32)\n",
      "tf.Tensor(81, shape=(), dtype=int32)\n",
      "tf.Tensor(0, shape=(), dtype=int32)\n",
      "tf.Tensor(1, shape=(), dtype=int32)\n",
      "tf.Tensor(4, shape=(), dtype=int32)\n",
      "tf.Tensor(9, shape=(), dtype=int32)\n",
      "tf.Tensor(16, shape=(), dtype=int32)\n",
      "tf.Tensor(25, shape=(), dtype=int32)\n",
      "tf.Tensor(36, shape=(), dtype=int32)\n",
      "tf.Tensor(49, shape=(), dtype=int32)\n",
      "tf.Tensor(64, shape=(), dtype=int32)\n",
      "tf.Tensor(81, shape=(), dtype=int32)\n"
     ]
    }
   ],
   "source": [
    "dataset = dataset.unbatch()\n",
    "for item in dataset:\n",
    "    print(item)"
   ]
  },
  {
   "cell_type": "code",
   "execution_count": 7,
   "metadata": {},
   "outputs": [
    {
     "name": "stdout",
     "output_type": "stream",
     "text": [
      "tf.Tensor(0, shape=(), dtype=int32)\n",
      "tf.Tensor(1, shape=(), dtype=int32)\n",
      "tf.Tensor(4, shape=(), dtype=int32)\n",
      "tf.Tensor(9, shape=(), dtype=int32)\n",
      "tf.Tensor(0, shape=(), dtype=int32)\n",
      "tf.Tensor(1, shape=(), dtype=int32)\n",
      "tf.Tensor(4, shape=(), dtype=int32)\n",
      "tf.Tensor(9, shape=(), dtype=int32)\n",
      "tf.Tensor(0, shape=(), dtype=int32)\n",
      "tf.Tensor(1, shape=(), dtype=int32)\n",
      "tf.Tensor(4, shape=(), dtype=int32)\n",
      "tf.Tensor(9, shape=(), dtype=int32)\n"
     ]
    }
   ],
   "source": [
    "dataset = dataset.filter(lambda x: x < 10)\n",
    "for item in dataset:\n",
    "    print(item)"
   ]
  },
  {
   "cell_type": "code",
   "execution_count": 8,
   "metadata": {},
   "outputs": [
    {
     "name": "stdout",
     "output_type": "stream",
     "text": [
      "tf.Tensor(0, shape=(), dtype=int32)\n",
      "tf.Tensor(1, shape=(), dtype=int32)\n",
      "tf.Tensor(4, shape=(), dtype=int32)\n"
     ]
    }
   ],
   "source": [
    "for item in dataset.take(3):\n",
    "    print(item)"
   ]
  },
  {
   "cell_type": "code",
   "execution_count": 9,
   "metadata": {},
   "outputs": [
    {
     "data": {
      "text/plain": [
       "['datasets/train01.csv',\n",
       " 'datasets/train02.csv',\n",
       " 'datasets/train03.csv',\n",
       " 'datasets/train04.csv',\n",
       " 'datasets/train05.csv']"
      ]
     },
     "execution_count": 9,
     "metadata": {},
     "output_type": "execute_result"
    }
   ],
   "source": [
    "train_filepaths = [f\"datasets/train0{i}.csv\" for i in range(1, 6)]\n",
    "train_filepaths"
   ]
  },
  {
   "cell_type": "code",
   "execution_count": 10,
   "metadata": {},
   "outputs": [
    {
     "data": {
      "text/plain": [
       "<ShuffleDataset shapes: (), types: tf.string>"
      ]
     },
     "execution_count": 10,
     "metadata": {},
     "output_type": "execute_result"
    }
   ],
   "source": [
    "filepath_dataset = tf.data.Dataset.list_files(train_filepaths, seed=42)\n",
    "filepath_dataset"
   ]
  },
  {
   "cell_type": "code",
   "execution_count": 11,
   "metadata": {},
   "outputs": [
    {
     "name": "stdout",
     "output_type": "stream",
     "text": [
      "tf.Tensor(b'datasets/train01.csv', shape=(), dtype=string)\n",
      "tf.Tensor(b'datasets/train05.csv', shape=(), dtype=string)\n",
      "tf.Tensor(b'datasets/train02.csv', shape=(), dtype=string)\n",
      "tf.Tensor(b'datasets/train04.csv', shape=(), dtype=string)\n",
      "tf.Tensor(b'datasets/train03.csv', shape=(), dtype=string)\n"
     ]
    }
   ],
   "source": [
    "for item in filepath_dataset:\n",
    "    print(item)"
   ]
  },
  {
   "cell_type": "code",
   "execution_count": 12,
   "metadata": {},
   "outputs": [
    {
     "data": {
      "text/plain": [
       "<InterleaveDataset shapes: (), types: tf.string>"
      ]
     },
     "execution_count": 12,
     "metadata": {},
     "output_type": "execute_result"
    }
   ],
   "source": [
    "n_readers = 5\n",
    "dataset = filepath_dataset.interleave(\n",
    "    lambda filepath: tf.data.TextLineDataset(filepath).skip(1),\n",
    "    cycle_length=n_readers,\n",
    ")\n",
    "dataset"
   ]
  },
  {
   "cell_type": "code",
   "execution_count": 13,
   "metadata": {},
   "outputs": [
    {
     "name": "stdout",
     "output_type": "stream",
     "text": [
      "tf.Tensor(b'143.208.230.15 lacnic', shape=(), dtype=string)\n",
      "tf.Tensor(b'109.182.81.87 ripencc', shape=(), dtype=string)\n",
      "tf.Tensor(b'101.102.133.63 apnic', shape=(), dtype=string)\n",
      "tf.Tensor(b'102.35.223.140 afrinic', shape=(), dtype=string)\n",
      "tf.Tensor(b'11.106.190.79 arin', shape=(), dtype=string)\n",
      "tf.Tensor(b'131.0.44.151 lacnic', shape=(), dtype=string)\n",
      "tf.Tensor(b'109.163.253.139 ripencc', shape=(), dtype=string)\n",
      "tf.Tensor(b'119.64.222.174 apnic', shape=(), dtype=string)\n",
      "tf.Tensor(b'102.25.182.162 afrinic', shape=(), dtype=string)\n",
      "tf.Tensor(b'100.246.16.16 arin', shape=(), dtype=string)\n",
      "tf.Tensor(b'131.255.199.148 lacnic', shape=(), dtype=string)\n",
      "tf.Tensor(b'109.231.179.25 ripencc', shape=(), dtype=string)\n",
      "tf.Tensor(b'101.203.61.64 apnic', shape=(), dtype=string)\n",
      "tf.Tensor(b'102.47.156.8 afrinic', shape=(), dtype=string)\n",
      "tf.Tensor(b'107.7.218.14 arin', shape=(), dtype=string)\n",
      "tf.Tensor(b'131.0.170.57 lacnic', shape=(), dtype=string)\n",
      "tf.Tensor(b'109.151.67.28 ripencc', shape=(), dtype=string)\n",
      "tf.Tensor(b'111.158.113.173 apnic', shape=(), dtype=string)\n",
      "tf.Tensor(b'105.181.2.54 afrinic', shape=(), dtype=string)\n",
      "tf.Tensor(b'11.4.250.226 arin', shape=(), dtype=string)\n",
      "tf.Tensor(b'131.178.118.191 lacnic', shape=(), dtype=string)\n",
      "tf.Tensor(b'109.205.6.24 ripencc', shape=(), dtype=string)\n",
      "tf.Tensor(b'120.117.155.240 apnic', shape=(), dtype=string)\n",
      "tf.Tensor(b'105.135.54.43 afrinic', shape=(), dtype=string)\n",
      "tf.Tensor(b'107.3.67.242 arin', shape=(), dtype=string)\n",
      "tf.Tensor(b'138.36.196.235 lacnic', shape=(), dtype=string)\n",
      "tf.Tensor(b'109.75.166.165 ripencc', shape=(), dtype=string)\n",
      "tf.Tensor(b'115.61.40.222 apnic', shape=(), dtype=string)\n",
      "tf.Tensor(b'105.176.87.199 afrinic', shape=(), dtype=string)\n",
      "tf.Tensor(b'104.130.46.102 arin', shape=(), dtype=string)\n",
      "tf.Tensor(b'131.196.108.133 lacnic', shape=(), dtype=string)\n",
      "tf.Tensor(b'109.128.144.133 ripencc', shape=(), dtype=string)\n",
      "tf.Tensor(b'119.235.102.13 apnic', shape=(), dtype=string)\n",
      "tf.Tensor(b'102.95.130.217 afrinic', shape=(), dtype=string)\n",
      "tf.Tensor(b'12.155.112.183 arin', shape=(), dtype=string)\n",
      "tf.Tensor(b'131.196.254.178 lacnic', shape=(), dtype=string)\n",
      "tf.Tensor(b'109.124.98.144 ripencc', shape=(), dtype=string)\n",
      "tf.Tensor(b'113.191.12.232 apnic', shape=(), dtype=string)\n",
      "tf.Tensor(b'105.138.48.253 afrinic', shape=(), dtype=string)\n",
      "tf.Tensor(b'108.53.122.213 arin', shape=(), dtype=string)\n",
      "tf.Tensor(b'132.247.170.3 lacnic', shape=(), dtype=string)\n",
      "tf.Tensor(b'109.7.107.106 ripencc', shape=(), dtype=string)\n",
      "tf.Tensor(b'120.37.68.140 apnic', shape=(), dtype=string)\n",
      "tf.Tensor(b'105.167.15.196 afrinic', shape=(), dtype=string)\n",
      "tf.Tensor(b'107.100.252.181 arin', shape=(), dtype=string)\n"
     ]
    }
   ],
   "source": [
    "for item in dataset:\n",
    "    print(item)"
   ]
  },
  {
   "cell_type": "code",
   "execution_count": 14,
   "metadata": {},
   "outputs": [
    {
     "name": "stdout",
     "output_type": "stream",
     "text": [
      "tf.Tensor(b'109.182.81.87 ripencc', shape=(), dtype=string)\n",
      "tf.Tensor(b'11.106.190.79 arin', shape=(), dtype=string)\n",
      "tf.Tensor(b'101.102.133.63 apnic', shape=(), dtype=string)\n",
      "tf.Tensor(b'100.246.16.16 arin', shape=(), dtype=string)\n",
      "tf.Tensor(b'102.35.223.140 afrinic', shape=(), dtype=string)\n",
      "tf.Tensor(b'109.163.253.139 ripencc', shape=(), dtype=string)\n",
      "tf.Tensor(b'143.208.230.15 lacnic', shape=(), dtype=string)\n",
      "tf.Tensor(b'119.64.222.174 apnic', shape=(), dtype=string)\n",
      "tf.Tensor(b'107.7.218.14 arin', shape=(), dtype=string)\n",
      "tf.Tensor(b'109.231.179.25 ripencc', shape=(), dtype=string)\n",
      "tf.Tensor(b'131.0.44.151 lacnic', shape=(), dtype=string)\n",
      "tf.Tensor(b'102.25.182.162 afrinic', shape=(), dtype=string)\n",
      "tf.Tensor(b'101.203.61.64 apnic', shape=(), dtype=string)\n",
      "tf.Tensor(b'102.47.156.8 afrinic', shape=(), dtype=string)\n",
      "tf.Tensor(b'131.255.199.148 lacnic', shape=(), dtype=string)\n",
      "tf.Tensor(b'109.151.67.28 ripencc', shape=(), dtype=string)\n",
      "tf.Tensor(b'131.0.170.57 lacnic', shape=(), dtype=string)\n",
      "tf.Tensor(b'111.158.113.173 apnic', shape=(), dtype=string)\n",
      "tf.Tensor(b'11.4.250.226 arin', shape=(), dtype=string)\n",
      "tf.Tensor(b'107.3.67.242 arin', shape=(), dtype=string)\n",
      "tf.Tensor(b'105.181.2.54 afrinic', shape=(), dtype=string)\n",
      "tf.Tensor(b'109.205.6.24 ripencc', shape=(), dtype=string)\n",
      "tf.Tensor(b'120.117.155.240 apnic', shape=(), dtype=string)\n",
      "tf.Tensor(b'131.178.118.191 lacnic', shape=(), dtype=string)\n",
      "tf.Tensor(b'105.135.54.43 afrinic', shape=(), dtype=string)\n",
      "tf.Tensor(b'104.130.46.102 arin', shape=(), dtype=string)\n",
      "tf.Tensor(b'109.75.166.165 ripencc', shape=(), dtype=string)\n",
      "tf.Tensor(b'115.61.40.222 apnic', shape=(), dtype=string)\n",
      "tf.Tensor(b'105.176.87.199 afrinic', shape=(), dtype=string)\n",
      "tf.Tensor(b'109.128.144.133 ripencc', shape=(), dtype=string)\n",
      "tf.Tensor(b'12.155.112.183 arin', shape=(), dtype=string)\n",
      "tf.Tensor(b'102.95.130.217 afrinic', shape=(), dtype=string)\n",
      "tf.Tensor(b'131.196.108.133 lacnic', shape=(), dtype=string)\n",
      "tf.Tensor(b'119.235.102.13 apnic', shape=(), dtype=string)\n",
      "tf.Tensor(b'109.124.98.144 ripencc', shape=(), dtype=string)\n",
      "tf.Tensor(b'138.36.196.235 lacnic', shape=(), dtype=string)\n",
      "tf.Tensor(b'105.138.48.253 afrinic', shape=(), dtype=string)\n",
      "tf.Tensor(b'113.191.12.232 apnic', shape=(), dtype=string)\n",
      "tf.Tensor(b'107.100.252.181 arin', shape=(), dtype=string)\n",
      "tf.Tensor(b'131.196.254.178 lacnic', shape=(), dtype=string)\n",
      "tf.Tensor(b'108.53.122.213 arin', shape=(), dtype=string)\n",
      "tf.Tensor(b'132.247.170.3 lacnic', shape=(), dtype=string)\n",
      "tf.Tensor(b'109.7.107.106 ripencc', shape=(), dtype=string)\n",
      "tf.Tensor(b'105.167.15.196 afrinic', shape=(), dtype=string)\n",
      "tf.Tensor(b'120.37.68.140 apnic', shape=(), dtype=string)\n"
     ]
    }
   ],
   "source": [
    "dataset = dataset.shuffle(buffer_size=3)\n",
    "for item in dataset:\n",
    "    print(item)"
   ]
  },
  {
   "cell_type": "code",
   "execution_count": 15,
   "metadata": {},
   "outputs": [
    {
     "data": {
      "text/plain": [
       "<bound method DatasetV2.batch of <ShuffleDataset shapes: (), types: tf.string>>"
      ]
     },
     "execution_count": 15,
     "metadata": {},
     "output_type": "execute_result"
    }
   ],
   "source": [
    "dataset.batch"
   ]
  },
  {
   "cell_type": "code",
   "execution_count": 16,
   "metadata": {},
   "outputs": [
    {
     "data": {
      "text/plain": [
       "[0.0,\n",
       " 0.0,\n",
       " 0.0,\n",
       " 0.0,\n",
       " 0.0,\n",
       " 0.0,\n",
       " 0.0,\n",
       " 0.0,\n",
       " <tf.Tensor: shape=(0,), dtype=float32, numpy=array([], dtype=float32)>]"
      ]
     },
     "execution_count": 16,
     "metadata": {},
     "output_type": "execute_result"
    }
   ],
   "source": [
    "n_inputs = 8\n",
    "defs = [0.] * n_inputs + [tf.constant([], dtype=tf.float32)]\n",
    "defs"
   ]
  },
  {
   "cell_type": "code",
   "execution_count": 17,
   "metadata": {},
   "outputs": [
    {
     "data": {
      "text/plain": [
       "<function tensorflow.python.ops.array_ops.stack(values, axis=0, name='stack')>"
      ]
     },
     "execution_count": 17,
     "metadata": {},
     "output_type": "execute_result"
    }
   ],
   "source": [
    "tf.stack"
   ]
  },
  {
   "cell_type": "markdown",
   "metadata": {},
   "source": [
    "TF Records"
   ]
  },
  {
   "cell_type": "code",
   "execution_count": 18,
   "metadata": {},
   "outputs": [],
   "source": [
    "with tf.io.TFRecordWriter(\"my_data.tfrecord\") as f:\n",
    "    f.write(b\"This is the first record\")\n",
    "    f.write(b\"And this is the second record\")"
   ]
  },
  {
   "cell_type": "code",
   "execution_count": 19,
   "metadata": {},
   "outputs": [
    {
     "name": "stdout",
     "output_type": "stream",
     "text": [
      "tf.Tensor(b'This is the first record', shape=(), dtype=string)\n",
      "tf.Tensor(b'And this is the second record', shape=(), dtype=string)\n"
     ]
    }
   ],
   "source": [
    "filepaths = [\"my_data.tfrecord\"]\n",
    "dataset = tf.data.TFRecordDataset(filepaths)\n",
    "for item in dataset:\n",
    "    print(item)"
   ]
  },
  {
   "cell_type": "markdown",
   "metadata": {},
   "source": [
    "Embeddings"
   ]
  },
  {
   "cell_type": "code",
   "execution_count": 4,
   "metadata": {},
   "outputs": [],
   "source": [
    "\n",
    "vocab = [\"<1H OCEAN\", \"INLAND\", \"NEAR OCEAN\", \"NEAR BAY\", \"ISLAND\"]\n",
    "indices = tf.range(len(vocab), dtype=tf.int64)\n",
    "table_init = tf.lookup.KeyValueTensorInitializer(vocab, indices)\n",
    "num_oov_buckets = 2\n",
    "table = tf.lookup.StaticVocabularyTable(table_init, num_oov_buckets)"
   ]
  },
  {
   "cell_type": "code",
   "execution_count": 2,
   "metadata": {},
   "outputs": [
    {
     "name": "stderr",
     "output_type": "stream",
     "text": [
      "2022-11-06 11:48:15.900135: I tensorflow/compiler/jit/xla_cpu_device.cc:41] Not creating XLA devices, tf_xla_enable_xla_devices not set\n",
      "2022-11-06 11:48:15.902455: I tensorflow/core/platform/cpu_feature_guard.cc:142] This TensorFlow binary is optimized with oneAPI Deep Neural Network Library (oneDNN) to use the following CPU instructions in performance-critical operations:  SSE4.1 SSE4.2 AVX AVX2 FMA\n",
      "To enable them in other operations, rebuild TensorFlow with the appropriate compiler flags.\n",
      "2022-11-06 11:48:15.905738: I tensorflow/core/common_runtime/process_util.cc:146] Creating new thread pool with default inter op setting: 2. Tune using inter_op_parallelism_threads for best performance.\n"
     ]
    }
   ],
   "source": [
    "num_oov_buckets = 2\n",
    "embedding_dim = 2\n",
    "embed_init = tf.random.uniform([len(vocab) + num_oov_buckets, embedding_dim])\n",
    "embedding_matrix = tf.Variable(embed_init)"
   ]
  },
  {
   "cell_type": "code",
   "execution_count": 3,
   "metadata": {},
   "outputs": [
    {
     "data": {
      "text/plain": [
       "<tf.Variable 'Variable:0' shape=(7, 2) dtype=float32, numpy=\n",
       "array([[0.3461361 , 0.38232267],\n",
       "       [0.69162285, 0.6161684 ],\n",
       "       [0.9946238 , 0.75492716],\n",
       "       [0.12662959, 0.7484466 ],\n",
       "       [0.87431633, 0.89529157],\n",
       "       [0.6687441 , 0.4083786 ],\n",
       "       [0.7331686 , 0.41069627]], dtype=float32)>"
      ]
     },
     "execution_count": 3,
     "metadata": {},
     "output_type": "execute_result"
    }
   ],
   "source": [
    "embedding_matrix"
   ]
  },
  {
   "cell_type": "code",
   "execution_count": 5,
   "metadata": {},
   "outputs": [
    {
     "data": {
      "text/plain": [
       "<tf.Tensor: shape=(4,), dtype=int64, numpy=array([3, 5, 1, 1])>"
      ]
     },
     "execution_count": 5,
     "metadata": {},
     "output_type": "execute_result"
    }
   ],
   "source": [
    "categories = tf.constant([\"NEAR BAY\", \"DESERT\", \"INLAND\", \"INLAND\"])\n",
    "cat_indices = table.lookup(categories)\n",
    "cat_indices"
   ]
  },
  {
   "cell_type": "code",
   "execution_count": 6,
   "metadata": {},
   "outputs": [
    {
     "data": {
      "text/plain": [
       "<tf.Tensor: shape=(4, 2), dtype=float32, numpy=\n",
       "array([[0.12662959, 0.7484466 ],\n",
       "       [0.6687441 , 0.4083786 ],\n",
       "       [0.69162285, 0.6161684 ],\n",
       "       [0.69162285, 0.6161684 ]], dtype=float32)>"
      ]
     },
     "execution_count": 6,
     "metadata": {},
     "output_type": "execute_result"
    }
   ],
   "source": [
    "tf.nn.embedding_lookup(embedding_matrix, cat_indices)"
   ]
  },
  {
   "cell_type": "code",
   "execution_count": 7,
   "metadata": {},
   "outputs": [
    {
     "data": {
      "text/plain": [
       "<tf.Tensor: shape=(4, 2), dtype=float32, numpy=\n",
       "array([[ 0.01509653, -0.02175293],\n",
       "       [ 0.03029987, -0.04906092],\n",
       "       [-0.01422281,  0.01884592],\n",
       "       [-0.01422281,  0.01884592]], dtype=float32)>"
      ]
     },
     "execution_count": 7,
     "metadata": {},
     "output_type": "execute_result"
    }
   ],
   "source": [
    "embedding = tf.keras.layers.Embedding(input_dim=len(vocab) + num_oov_buckets,\n",
    "                                      output_dim=embedding_dim)\n",
    "embedding(cat_indices)"
   ]
  },
  {
   "cell_type": "code",
   "execution_count": null,
   "metadata": {},
   "outputs": [],
   "source": [
    "regular_inputs = tf.keras.layers.Input(shape=[8])\n",
    "categories = tf.keras.layers.Input(shape=[], dtype=tf.string)\n",
    "cat_indices = tf.keras.layers.Lambda(lambda cats: table.lookup(cats))(categories)\n",
    "cat_embed = tf.keras.layers.Embedding(input_dim=7, output_dim=2)(cat_indices)\n",
    "encoded_inputs = tf.keras.layers.concatenate([regular_inputs, cat_embed])\n",
    "outputs = tf.keras.layers.Dense(1)(encoded_inputs)\n",
    "model = tf.keras.models.Model(inputs=[regular_inputs, categories],\n",
    "                              outputs=[outputs])"
   ]
  }
 ],
 "metadata": {
  "kernelspec": {
   "display_name": "Python 3.9.12 ('ml')",
   "language": "python",
   "name": "python3"
  },
  "language_info": {
   "codemirror_mode": {
    "name": "ipython",
    "version": 3
   },
   "file_extension": ".py",
   "mimetype": "text/x-python",
   "name": "python",
   "nbconvert_exporter": "python",
   "pygments_lexer": "ipython3",
   "version": "3.9.12"
  },
  "orig_nbformat": 4,
  "vscode": {
   "interpreter": {
    "hash": "976019bd7028fad645a45aaa2b51f9e68e9bcad9b4e9047d93bf7b882332665b"
   }
  }
 },
 "nbformat": 4,
 "nbformat_minor": 2
}
