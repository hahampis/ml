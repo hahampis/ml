{
 "cells": [
  {
   "cell_type": "markdown",
   "metadata": {},
   "source": [
    "### Train a deep MLP on the MNIST dataset"
   ]
  },
  {
   "cell_type": "code",
   "execution_count": 1,
   "metadata": {},
   "outputs": [],
   "source": [
    "from tensorflow import keras"
   ]
  },
  {
   "cell_type": "code",
   "execution_count": 2,
   "metadata": {},
   "outputs": [],
   "source": [
    "(X_train_full, y_train_full), (X_test, y_test) = keras.datasets.mnist.load_data()"
   ]
  },
  {
   "cell_type": "code",
   "execution_count": 3,
   "metadata": {},
   "outputs": [],
   "source": [
    "# Scale the features for Gradient Descent (is it really necessary?)\n",
    "X_valid, X_train = X_train_full[:5000] / 255.0, X_train_full[5000:] / 255.0\n",
    "y_valid, y_train = y_train_full[:5000], y_train_full[5000:]\n",
    "X_test = X_test / 255.0"
   ]
  },
  {
   "cell_type": "code",
   "execution_count": 4,
   "metadata": {},
   "outputs": [
    {
     "name": "stderr",
     "output_type": "stream",
     "text": [
      "2022-02-20 10:22:35.814423: I tensorflow/compiler/jit/xla_cpu_device.cc:41] Not creating XLA devices, tf_xla_enable_xla_devices not set\n",
      "2022-02-20 10:22:35.816218: I tensorflow/core/platform/cpu_feature_guard.cc:142] This TensorFlow binary is optimized with oneAPI Deep Neural Network Library (oneDNN) to use the following CPU instructions in performance-critical operations:  SSE4.1 SSE4.2 AVX AVX2 FMA\n",
      "To enable them in other operations, rebuild TensorFlow with the appropriate compiler flags.\n",
      "2022-02-20 10:22:35.819625: I tensorflow/core/common_runtime/process_util.cc:146] Creating new thread pool with default inter op setting: 2. Tune using inter_op_parallelism_threads for best performance.\n"
     ]
    }
   ],
   "source": [
    "model = keras.models.Sequential()\n",
    "model.add(keras.layers.Flatten(input_shape=[28, 28]))\n",
    "model.add(keras.layers.Dense(200, activation=\"relu\"))\n",
    "model.add(keras.layers.Dense(200, activation=\"relu\"))\n",
    "model.add(keras.layers.Dense(10, activation=\"softmax\"))"
   ]
  },
  {
   "cell_type": "code",
   "execution_count": 5,
   "metadata": {},
   "outputs": [
    {
     "name": "stdout",
     "output_type": "stream",
     "text": [
      "Model: \"sequential\"\n",
      "_________________________________________________________________\n",
      "Layer (type)                 Output Shape              Param #   \n",
      "=================================================================\n",
      "flatten (Flatten)            (None, 784)               0         \n",
      "_________________________________________________________________\n",
      "dense (Dense)                (None, 200)               157000    \n",
      "_________________________________________________________________\n",
      "dense_1 (Dense)              (None, 200)               40200     \n",
      "_________________________________________________________________\n",
      "dense_2 (Dense)              (None, 10)                2010      \n",
      "=================================================================\n",
      "Total params: 199,210\n",
      "Trainable params: 199,210\n",
      "Non-trainable params: 0\n",
      "_________________________________________________________________\n"
     ]
    }
   ],
   "source": [
    "model.summary()"
   ]
  },
  {
   "cell_type": "code",
   "execution_count": 6,
   "metadata": {},
   "outputs": [],
   "source": [
    "model.compile(optimizer=keras.optimizers.SGD(),\n",
    "              loss=keras.losses.sparse_categorical_crossentropy,\n",
    "              metrics=keras.metrics.sparse_categorical_accuracy)"
   ]
  },
  {
   "cell_type": "code",
   "execution_count": 7,
   "metadata": {},
   "outputs": [
    {
     "name": "stderr",
     "output_type": "stream",
     "text": [
      "2022-02-20 10:31:06.960467: I tensorflow/compiler/mlir/mlir_graph_optimization_pass.cc:116] None of the MLIR optimization passes are enabled (registered 2)\n",
      "2022-02-20 10:31:06.989922: I tensorflow/core/platform/profile_utils/cpu_utils.cc:112] CPU Frequency: 2099940000 Hz\n"
     ]
    },
    {
     "name": "stdout",
     "output_type": "stream",
     "text": [
      "Epoch 1/100\n",
      "1719/1719 [==============================] - 27s 15ms/step - loss: 1.1195 - sparse_categorical_accuracy: 0.6981 - val_loss: 0.3185 - val_sparse_categorical_accuracy: 0.9082\n",
      "Epoch 2/100\n",
      "1719/1719 [==============================] - 22s 13ms/step - loss: 0.3229 - sparse_categorical_accuracy: 0.9059 - val_loss: 0.2452 - val_sparse_categorical_accuracy: 0.9326\n",
      "Epoch 3/100\n",
      "1719/1719 [==============================] - 31s 18ms/step - loss: 0.2569 - sparse_categorical_accuracy: 0.9272 - val_loss: 0.2094 - val_sparse_categorical_accuracy: 0.9426\n",
      "Epoch 4/100\n",
      "1719/1719 [==============================] - 28s 16ms/step - loss: 0.2203 - sparse_categorical_accuracy: 0.9376 - val_loss: 0.1851 - val_sparse_categorical_accuracy: 0.9476\n",
      "Epoch 5/100\n",
      "1719/1719 [==============================] - 33s 19ms/step - loss: 0.1915 - sparse_categorical_accuracy: 0.9462 - val_loss: 0.1595 - val_sparse_categorical_accuracy: 0.9574\n",
      "Epoch 6/100\n",
      "1719/1719 [==============================] - 34s 20ms/step - loss: 0.1697 - sparse_categorical_accuracy: 0.9509 - val_loss: 0.1483 - val_sparse_categorical_accuracy: 0.9582\n",
      "Epoch 7/100\n",
      "1719/1719 [==============================] - 33s 19ms/step - loss: 0.1506 - sparse_categorical_accuracy: 0.9567 - val_loss: 0.1357 - val_sparse_categorical_accuracy: 0.9626\n",
      "Epoch 8/100\n",
      "1719/1719 [==============================] - 32s 18ms/step - loss: 0.1356 - sparse_categorical_accuracy: 0.9616 - val_loss: 0.1257 - val_sparse_categorical_accuracy: 0.9652\n",
      "Epoch 9/100\n",
      "1719/1719 [==============================] - 33s 19ms/step - loss: 0.1254 - sparse_categorical_accuracy: 0.9641 - val_loss: 0.1182 - val_sparse_categorical_accuracy: 0.9674\n",
      "Epoch 10/100\n",
      "1719/1719 [==============================] - 41s 24ms/step - loss: 0.1113 - sparse_categorical_accuracy: 0.9685 - val_loss: 0.1139 - val_sparse_categorical_accuracy: 0.9682\n",
      "Epoch 11/100\n",
      "1719/1719 [==============================] - 36s 21ms/step - loss: 0.1053 - sparse_categorical_accuracy: 0.9704 - val_loss: 0.1039 - val_sparse_categorical_accuracy: 0.9702\n",
      "Epoch 12/100\n",
      "1719/1719 [==============================] - 25s 15ms/step - loss: 0.0973 - sparse_categorical_accuracy: 0.9728 - val_loss: 0.1026 - val_sparse_categorical_accuracy: 0.9708\n",
      "Epoch 13/100\n",
      "1719/1719 [==============================] - 33s 19ms/step - loss: 0.0908 - sparse_categorical_accuracy: 0.9737 - val_loss: 0.0977 - val_sparse_categorical_accuracy: 0.9738\n",
      "Epoch 14/100\n",
      "1719/1719 [==============================] - 25s 14ms/step - loss: 0.0844 - sparse_categorical_accuracy: 0.9765 - val_loss: 0.0937 - val_sparse_categorical_accuracy: 0.9742\n",
      "Epoch 15/100\n",
      "1719/1719 [==============================] - 27s 16ms/step - loss: 0.0825 - sparse_categorical_accuracy: 0.9768 - val_loss: 0.0911 - val_sparse_categorical_accuracy: 0.9746\n",
      "Epoch 16/100\n",
      "1719/1719 [==============================] - 25s 15ms/step - loss: 0.0733 - sparse_categorical_accuracy: 0.9797 - val_loss: 0.0878 - val_sparse_categorical_accuracy: 0.9746\n",
      "Epoch 17/100\n",
      "1719/1719 [==============================] - 23s 13ms/step - loss: 0.0668 - sparse_categorical_accuracy: 0.9811 - val_loss: 0.0858 - val_sparse_categorical_accuracy: 0.9756\n",
      "Epoch 18/100\n",
      "1719/1719 [==============================] - 25s 15ms/step - loss: 0.0646 - sparse_categorical_accuracy: 0.9823 - val_loss: 0.0831 - val_sparse_categorical_accuracy: 0.9776\n",
      "Epoch 19/100\n",
      "1719/1719 [==============================] - 31s 18ms/step - loss: 0.0581 - sparse_categorical_accuracy: 0.9839 - val_loss: 0.0821 - val_sparse_categorical_accuracy: 0.9774\n",
      "Epoch 20/100\n",
      "1719/1719 [==============================] - 25s 14ms/step - loss: 0.0564 - sparse_categorical_accuracy: 0.9844 - val_loss: 0.0808 - val_sparse_categorical_accuracy: 0.9764\n",
      "Epoch 21/100\n",
      "1719/1719 [==============================] - 20s 12ms/step - loss: 0.0527 - sparse_categorical_accuracy: 0.9864 - val_loss: 0.0774 - val_sparse_categorical_accuracy: 0.9766\n",
      "Epoch 22/100\n",
      "1719/1719 [==============================] - 14s 8ms/step - loss: 0.0491 - sparse_categorical_accuracy: 0.9868 - val_loss: 0.0741 - val_sparse_categorical_accuracy: 0.9782\n",
      "Epoch 23/100\n",
      "1719/1719 [==============================] - 26s 15ms/step - loss: 0.0487 - sparse_categorical_accuracy: 0.9874 - val_loss: 0.0768 - val_sparse_categorical_accuracy: 0.9774\n",
      "Epoch 24/100\n",
      "1719/1719 [==============================] - 22s 13ms/step - loss: 0.0452 - sparse_categorical_accuracy: 0.9887 - val_loss: 0.0759 - val_sparse_categorical_accuracy: 0.9764\n",
      "Epoch 25/100\n",
      "1719/1719 [==============================] - 26s 15ms/step - loss: 0.0447 - sparse_categorical_accuracy: 0.9891 - val_loss: 0.0719 - val_sparse_categorical_accuracy: 0.9778\n",
      "Epoch 26/100\n",
      "1719/1719 [==============================] - 26s 15ms/step - loss: 0.0397 - sparse_categorical_accuracy: 0.9897 - val_loss: 0.0714 - val_sparse_categorical_accuracy: 0.9788\n",
      "Epoch 27/100\n",
      "1719/1719 [==============================] - 19s 11ms/step - loss: 0.0389 - sparse_categorical_accuracy: 0.9903 - val_loss: 0.0707 - val_sparse_categorical_accuracy: 0.9782\n",
      "Epoch 28/100\n",
      "1719/1719 [==============================] - 22s 13ms/step - loss: 0.0356 - sparse_categorical_accuracy: 0.9913 - val_loss: 0.0686 - val_sparse_categorical_accuracy: 0.9784\n",
      "Epoch 29/100\n",
      "1719/1719 [==============================] - 24s 14ms/step - loss: 0.0344 - sparse_categorical_accuracy: 0.9915 - val_loss: 0.0709 - val_sparse_categorical_accuracy: 0.9790\n",
      "Epoch 30/100\n",
      "1719/1719 [==============================] - 30s 17ms/step - loss: 0.0336 - sparse_categorical_accuracy: 0.9919 - val_loss: 0.0696 - val_sparse_categorical_accuracy: 0.9786\n",
      "Epoch 31/100\n",
      "1719/1719 [==============================] - 29s 17ms/step - loss: 0.0304 - sparse_categorical_accuracy: 0.9931 - val_loss: 0.0697 - val_sparse_categorical_accuracy: 0.9794\n",
      "Epoch 32/100\n",
      "1719/1719 [==============================] - 26s 15ms/step - loss: 0.0299 - sparse_categorical_accuracy: 0.9930 - val_loss: 0.0697 - val_sparse_categorical_accuracy: 0.9792\n",
      "Epoch 33/100\n",
      "1719/1719 [==============================] - 27s 16ms/step - loss: 0.0294 - sparse_categorical_accuracy: 0.9933 - val_loss: 0.0682 - val_sparse_categorical_accuracy: 0.9796\n",
      "Epoch 34/100\n",
      "1719/1719 [==============================] - 26s 15ms/step - loss: 0.0269 - sparse_categorical_accuracy: 0.9941 - val_loss: 0.0679 - val_sparse_categorical_accuracy: 0.9792\n",
      "Epoch 35/100\n",
      "1719/1719 [==============================] - 27s 16ms/step - loss: 0.0251 - sparse_categorical_accuracy: 0.9942 - val_loss: 0.0688 - val_sparse_categorical_accuracy: 0.9782\n",
      "Epoch 36/100\n",
      "1719/1719 [==============================] - 22s 13ms/step - loss: 0.0232 - sparse_categorical_accuracy: 0.9951 - val_loss: 0.0708 - val_sparse_categorical_accuracy: 0.9792\n",
      "Epoch 37/100\n",
      "1719/1719 [==============================] - 25s 15ms/step - loss: 0.0252 - sparse_categorical_accuracy: 0.9945 - val_loss: 0.0657 - val_sparse_categorical_accuracy: 0.9802\n",
      "Epoch 38/100\n",
      "1719/1719 [==============================] - 21s 12ms/step - loss: 0.0218 - sparse_categorical_accuracy: 0.9958 - val_loss: 0.0681 - val_sparse_categorical_accuracy: 0.9804\n",
      "Epoch 39/100\n",
      "1719/1719 [==============================] - 23s 14ms/step - loss: 0.0201 - sparse_categorical_accuracy: 0.9964 - val_loss: 0.0673 - val_sparse_categorical_accuracy: 0.9790\n",
      "Epoch 40/100\n",
      "1719/1719 [==============================] - 28s 17ms/step - loss: 0.0214 - sparse_categorical_accuracy: 0.9957 - val_loss: 0.0679 - val_sparse_categorical_accuracy: 0.9802\n",
      "Epoch 41/100\n",
      "1719/1719 [==============================] - 25s 15ms/step - loss: 0.0191 - sparse_categorical_accuracy: 0.9970 - val_loss: 0.0676 - val_sparse_categorical_accuracy: 0.9800\n",
      "Epoch 42/100\n",
      "1719/1719 [==============================] - 21s 12ms/step - loss: 0.0190 - sparse_categorical_accuracy: 0.9967 - val_loss: 0.0679 - val_sparse_categorical_accuracy: 0.9788\n",
      "Epoch 43/100\n",
      "1719/1719 [==============================] - 22s 13ms/step - loss: 0.0159 - sparse_categorical_accuracy: 0.9974 - val_loss: 0.0657 - val_sparse_categorical_accuracy: 0.9794\n",
      "Epoch 44/100\n",
      "1719/1719 [==============================] - 29s 17ms/step - loss: 0.0166 - sparse_categorical_accuracy: 0.9975 - val_loss: 0.0650 - val_sparse_categorical_accuracy: 0.9806\n",
      "Epoch 45/100\n",
      "1719/1719 [==============================] - 25s 15ms/step - loss: 0.0159 - sparse_categorical_accuracy: 0.9976 - val_loss: 0.0667 - val_sparse_categorical_accuracy: 0.9798\n",
      "Epoch 46/100\n",
      "1719/1719 [==============================] - 23s 13ms/step - loss: 0.0155 - sparse_categorical_accuracy: 0.9979 - val_loss: 0.0667 - val_sparse_categorical_accuracy: 0.9796\n",
      "Epoch 47/100\n",
      "1719/1719 [==============================] - 22s 13ms/step - loss: 0.0137 - sparse_categorical_accuracy: 0.9982 - val_loss: 0.0648 - val_sparse_categorical_accuracy: 0.9808\n",
      "Epoch 48/100\n",
      "1719/1719 [==============================] - 24s 14ms/step - loss: 0.0132 - sparse_categorical_accuracy: 0.9986 - val_loss: 0.0680 - val_sparse_categorical_accuracy: 0.9798\n",
      "Epoch 49/100\n",
      "1719/1719 [==============================] - 25s 14ms/step - loss: 0.0126 - sparse_categorical_accuracy: 0.9986 - val_loss: 0.0689 - val_sparse_categorical_accuracy: 0.9802\n",
      "Epoch 50/100\n",
      "1719/1719 [==============================] - 25s 14ms/step - loss: 0.0126 - sparse_categorical_accuracy: 0.9985 - val_loss: 0.0659 - val_sparse_categorical_accuracy: 0.9800\n",
      "Epoch 51/100\n",
      "1719/1719 [==============================] - 22s 13ms/step - loss: 0.0122 - sparse_categorical_accuracy: 0.9986 - val_loss: 0.0658 - val_sparse_categorical_accuracy: 0.9782\n",
      "Epoch 52/100\n",
      "1719/1719 [==============================] - 23s 13ms/step - loss: 0.0114 - sparse_categorical_accuracy: 0.9988 - val_loss: 0.0674 - val_sparse_categorical_accuracy: 0.9794\n",
      "Epoch 53/100\n",
      "1719/1719 [==============================] - 27s 15ms/step - loss: 0.0105 - sparse_categorical_accuracy: 0.9990 - val_loss: 0.0679 - val_sparse_categorical_accuracy: 0.9808\n",
      "Epoch 54/100\n",
      "1719/1719 [==============================] - 29s 17ms/step - loss: 0.0104 - sparse_categorical_accuracy: 0.9993 - val_loss: 0.0687 - val_sparse_categorical_accuracy: 0.9794\n",
      "Epoch 55/100\n",
      "1719/1719 [==============================] - 27s 16ms/step - loss: 0.0103 - sparse_categorical_accuracy: 0.9991 - val_loss: 0.0667 - val_sparse_categorical_accuracy: 0.9812\n",
      "Epoch 56/100\n",
      "1719/1719 [==============================] - 26s 15ms/step - loss: 0.0093 - sparse_categorical_accuracy: 0.9994 - val_loss: 0.0708 - val_sparse_categorical_accuracy: 0.9784\n",
      "Epoch 57/100\n",
      "1719/1719 [==============================] - 23s 14ms/step - loss: 0.0095 - sparse_categorical_accuracy: 0.9990 - val_loss: 0.0670 - val_sparse_categorical_accuracy: 0.9800\n"
     ]
    }
   ],
   "source": [
    "# Train the model with checkpoints and early stopping using callbacks\n",
    "checkpoint_cb = keras.callbacks.ModelCheckpoint(\"mnist_ann.h5\", save_best_only=True)\n",
    "early_stopping_cb = keras.callbacks.EarlyStopping(patience=10, restore_best_weights=True)\n",
    "history = model.fit(X_train, y_train, epochs=100,\n",
    "                    validation_data=(X_valid, y_valid),\n",
    "                    callbacks=[checkpoint_cb, early_stopping_cb])"
   ]
  },
  {
   "cell_type": "code",
   "execution_count": 13,
   "metadata": {},
   "outputs": [
    {
     "name": "stdout",
     "output_type": "stream",
     "text": [
      "313/313 [==============================] - 2s 6ms/step - loss: 0.0646 - sparse_categorical_accuracy: 0.9797\n"
     ]
    },
    {
     "data": {
      "text/plain": [
       "[0.06462757289409637, 0.9797000288963318]"
      ]
     },
     "execution_count": 13,
     "metadata": {},
     "output_type": "execute_result"
    }
   ],
   "source": [
    "# saved model is the same as the `model` currently in memory as early_stopping_cb automatically\n",
    "# rolls back to best model\n",
    "model.evaluate(X_test, y_test)"
   ]
  }
 ],
 "metadata": {
  "kernelspec": {
   "display_name": "Python 3.9.12 ('ml')",
   "language": "python",
   "name": "python3"
  },
  "language_info": {
   "codemirror_mode": {
    "name": "ipython",
    "version": 3
   },
   "file_extension": ".py",
   "mimetype": "text/x-python",
   "name": "python",
   "nbconvert_exporter": "python",
   "pygments_lexer": "ipython3",
   "version": "3.9.12 (main, Apr  5 2022, 06:56:58) \n[GCC 7.5.0]"
  },
  "orig_nbformat": 4,
  "vscode": {
   "interpreter": {
    "hash": "976019bd7028fad645a45aaa2b51f9e68e9bcad9b4e9047d93bf7b882332665b"
   }
  }
 },
 "nbformat": 4,
 "nbformat_minor": 2
}
