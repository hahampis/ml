{
 "cells": [
  {
   "cell_type": "code",
   "execution_count": 1,
   "metadata": {},
   "outputs": [],
   "source": [
    "from tensorflow import keras\n",
    "import numpy as np\n"
   ]
  },
  {
   "cell_type": "code",
   "execution_count": 2,
   "metadata": {},
   "outputs": [],
   "source": [
    "# load the CIFAR10 dataset\n",
    "(X_train, y_train), (X_test, y_test) = keras.datasets.cifar10.load_data()"
   ]
  },
  {
   "cell_type": "code",
   "execution_count": 12,
   "metadata": {},
   "outputs": [],
   "source": [
    "# Scale the input features\n",
    "X_train_scaled = X_train / 255.0\n",
    "X_test_scaled = X_test / 255.0"
   ]
  },
  {
   "cell_type": "code",
   "execution_count": 13,
   "metadata": {},
   "outputs": [],
   "source": [
    "# Build a DNN with 20 hidden layers of 100 neurons each,\n",
    "# using He initialization and the ELU activation function.\n",
    "model = keras.models.Sequential()\n",
    "model.add(keras.layers.Flatten(input_shape=[32, 32, 3]))\n",
    "for _ in range(20):\n",
    "    model.add(keras.layers.Dense(100, activation=\"elu\", kernel_initializer=\"he_normal\"))\n",
    "model.add(keras.layers.Dense(10, activation=\"softmax\"))    # output layer"
   ]
  },
  {
   "cell_type": "code",
   "execution_count": 14,
   "metadata": {},
   "outputs": [
    {
     "name": "stdout",
     "output_type": "stream",
     "text": [
      "Model: \"sequential_2\"\n",
      "_________________________________________________________________\n",
      "Layer (type)                 Output Shape              Param #   \n",
      "=================================================================\n",
      "flatten_2 (Flatten)          (None, 3072)              0         \n",
      "_________________________________________________________________\n",
      "dense_42 (Dense)             (None, 100)               307300    \n",
      "_________________________________________________________________\n",
      "dense_43 (Dense)             (None, 100)               10100     \n",
      "_________________________________________________________________\n",
      "dense_44 (Dense)             (None, 100)               10100     \n",
      "_________________________________________________________________\n",
      "dense_45 (Dense)             (None, 100)               10100     \n",
      "_________________________________________________________________\n",
      "dense_46 (Dense)             (None, 100)               10100     \n",
      "_________________________________________________________________\n",
      "dense_47 (Dense)             (None, 100)               10100     \n",
      "_________________________________________________________________\n",
      "dense_48 (Dense)             (None, 100)               10100     \n",
      "_________________________________________________________________\n",
      "dense_49 (Dense)             (None, 100)               10100     \n",
      "_________________________________________________________________\n",
      "dense_50 (Dense)             (None, 100)               10100     \n",
      "_________________________________________________________________\n",
      "dense_51 (Dense)             (None, 100)               10100     \n",
      "_________________________________________________________________\n",
      "dense_52 (Dense)             (None, 100)               10100     \n",
      "_________________________________________________________________\n",
      "dense_53 (Dense)             (None, 100)               10100     \n",
      "_________________________________________________________________\n",
      "dense_54 (Dense)             (None, 100)               10100     \n",
      "_________________________________________________________________\n",
      "dense_55 (Dense)             (None, 100)               10100     \n",
      "_________________________________________________________________\n",
      "dense_56 (Dense)             (None, 100)               10100     \n",
      "_________________________________________________________________\n",
      "dense_57 (Dense)             (None, 100)               10100     \n",
      "_________________________________________________________________\n",
      "dense_58 (Dense)             (None, 100)               10100     \n",
      "_________________________________________________________________\n",
      "dense_59 (Dense)             (None, 100)               10100     \n",
      "_________________________________________________________________\n",
      "dense_60 (Dense)             (None, 100)               10100     \n",
      "_________________________________________________________________\n",
      "dense_61 (Dense)             (None, 100)               10100     \n",
      "_________________________________________________________________\n",
      "dense_62 (Dense)             (None, 10)                1010      \n",
      "=================================================================\n",
      "Total params: 500,210\n",
      "Trainable params: 500,210\n",
      "Non-trainable params: 0\n",
      "_________________________________________________________________\n"
     ]
    }
   ],
   "source": [
    "model.summary()"
   ]
  },
  {
   "cell_type": "code",
   "execution_count": 15,
   "metadata": {},
   "outputs": [],
   "source": [
    "# Learning rate scheduling\n",
    "lr_scheduler = keras.callbacks.ReduceLROnPlateau(factor=0.5, patience=5)"
   ]
  },
  {
   "cell_type": "code",
   "execution_count": 16,
   "metadata": {},
   "outputs": [],
   "source": [
    "# Use Nadam optimizer and early stopping\n",
    "optimizer = keras.optimizers.Nadam()\n",
    "checkpoint_cb = keras.callbacks.ModelCheckpoint(\"11_nadam.h5\")\n",
    "early_stopping_cb = keras.callbacks.EarlyStopping(patience=10, restore_best_weights=True)"
   ]
  },
  {
   "cell_type": "code",
   "execution_count": null,
   "metadata": {},
   "outputs": [],
   "source": [
    "model.compile(loss=keras.losses.sparse_categorical_crossentropy,\n",
    "              optimizer=optimizer,\n",
    "              metrics=keras.metrics.sparse_categorical_accuracy)"
   ]
  },
  {
   "cell_type": "code",
   "execution_count": null,
   "metadata": {},
   "outputs": [
    {
     "name": "stdout",
     "output_type": "stream",
     "text": [
      "Epoch 1/100\n",
      "1407/1407 [==============================] - 97s 67ms/step - loss: 2.2984 - sparse_categorical_accuracy: 0.1979 - val_loss: 1.9603 - val_sparse_categorical_accuracy: 0.2624\n",
      "Epoch 2/100\n",
      "1407/1407 [==============================] - 99s 70ms/step - loss: 1.8786 - sparse_categorical_accuracy: 0.3138 - val_loss: 1.8875 - val_sparse_categorical_accuracy: 0.3176\n",
      "Epoch 3/100\n",
      "1407/1407 [==============================] - 99s 70ms/step - loss: 1.7976 - sparse_categorical_accuracy: 0.3498 - val_loss: 1.9647 - val_sparse_categorical_accuracy: 0.2834\n",
      "Epoch 4/100\n",
      "1407/1407 [==============================] - 100s 71ms/step - loss: 1.7472 - sparse_categorical_accuracy: 0.3729 - val_loss: 1.7319 - val_sparse_categorical_accuracy: 0.3924\n",
      "Epoch 5/100\n",
      "1407/1407 [==============================] - 101s 72ms/step - loss: 1.6968 - sparse_categorical_accuracy: 0.3923 - val_loss: 1.7034 - val_sparse_categorical_accuracy: 0.3930\n",
      "Epoch 6/100\n",
      "1407/1407 [==============================] - 100s 71ms/step - loss: 1.6704 - sparse_categorical_accuracy: 0.4007 - val_loss: 1.7242 - val_sparse_categorical_accuracy: 0.3974\n",
      "Epoch 7/100\n",
      "1407/1407 [==============================] - 86s 61ms/step - loss: 1.6488 - sparse_categorical_accuracy: 0.4149 - val_loss: 2.1600 - val_sparse_categorical_accuracy: 0.1962\n",
      "Epoch 8/100\n",
      "1407/1407 [==============================] - 81s 57ms/step - loss: 1.9914 - sparse_categorical_accuracy: 0.2425 - val_loss: 1.8272 - val_sparse_categorical_accuracy: 0.3190\n",
      "Epoch 9/100\n",
      "1407/1407 [==============================] - 81s 57ms/step - loss: 1.8091 - sparse_categorical_accuracy: 0.3217 - val_loss: 1.7680 - val_sparse_categorical_accuracy: 0.3404\n",
      "Epoch 10/100\n",
      "1407/1407 [==============================] - 92s 65ms/step - loss: 1.7482 - sparse_categorical_accuracy: 0.3541 - val_loss: 1.8361 - val_sparse_categorical_accuracy: 0.3300\n",
      "Epoch 11/100\n",
      "1407/1407 [==============================] - 101s 72ms/step - loss: 1.6598 - sparse_categorical_accuracy: 0.3985 - val_loss: 1.7027 - val_sparse_categorical_accuracy: 0.3942\n",
      "Epoch 12/100\n",
      "1407/1407 [==============================] - 103s 73ms/step - loss: 1.6352 - sparse_categorical_accuracy: 0.4117 - val_loss: 1.6751 - val_sparse_categorical_accuracy: 0.3972\n",
      "Epoch 13/100\n",
      "1407/1407 [==============================] - 103s 73ms/step - loss: 1.6000 - sparse_categorical_accuracy: 0.4263 - val_loss: 1.6161 - val_sparse_categorical_accuracy: 0.4210\n",
      "Epoch 14/100\n",
      "1407/1407 [==============================] - 101s 72ms/step - loss: 1.5716 - sparse_categorical_accuracy: 0.4371 - val_loss: 1.6153 - val_sparse_categorical_accuracy: 0.4274\n",
      "Epoch 15/100\n",
      "1407/1407 [==============================] - 107s 76ms/step - loss: 1.5660 - sparse_categorical_accuracy: 0.4415 - val_loss: 1.6080 - val_sparse_categorical_accuracy: 0.4368\n",
      "Epoch 16/100\n",
      "1407/1407 [==============================] - 105s 74ms/step - loss: 1.5491 - sparse_categorical_accuracy: 0.4432 - val_loss: 1.5898 - val_sparse_categorical_accuracy: 0.4422\n",
      "Epoch 17/100\n",
      "1407/1407 [==============================] - 107s 76ms/step - loss: 1.5357 - sparse_categorical_accuracy: 0.4527 - val_loss: 1.5965 - val_sparse_categorical_accuracy: 0.4298\n",
      "Epoch 18/100\n",
      "1407/1407 [==============================] - 106s 75ms/step - loss: 1.5240 - sparse_categorical_accuracy: 0.4558 - val_loss: 1.5687 - val_sparse_categorical_accuracy: 0.4488\n",
      "Epoch 19/100\n",
      "1407/1407 [==============================] - 104s 74ms/step - loss: 1.4955 - sparse_categorical_accuracy: 0.4691 - val_loss: 1.5596 - val_sparse_categorical_accuracy: 0.4454\n",
      "Epoch 20/100\n",
      "1407/1407 [==============================] - 106s 75ms/step - loss: 1.5116 - sparse_categorical_accuracy: 0.4609 - val_loss: 1.6571 - val_sparse_categorical_accuracy: 0.4082\n",
      "Epoch 21/100\n",
      "1407/1407 [==============================] - 106s 75ms/step - loss: 1.5571 - sparse_categorical_accuracy: 0.4456 - val_loss: 1.5858 - val_sparse_categorical_accuracy: 0.4498\n",
      "Epoch 22/100\n",
      "1407/1407 [==============================] - 105s 75ms/step - loss: 1.4858 - sparse_categorical_accuracy: 0.4743 - val_loss: 1.5728 - val_sparse_categorical_accuracy: 0.4332\n",
      "Epoch 23/100\n",
      "1407/1407 [==============================] - 104s 74ms/step - loss: 1.4682 - sparse_categorical_accuracy: 0.4817 - val_loss: 1.5414 - val_sparse_categorical_accuracy: 0.4636\n",
      "Epoch 24/100\n",
      "1407/1407 [==============================] - 106s 75ms/step - loss: 1.4421 - sparse_categorical_accuracy: 0.4859 - val_loss: 1.5260 - val_sparse_categorical_accuracy: 0.4578\n",
      "Epoch 25/100\n",
      "1407/1407 [==============================] - 108s 77ms/step - loss: 1.4457 - sparse_categorical_accuracy: 0.4843 - val_loss: 1.5298 - val_sparse_categorical_accuracy: 0.4642\n",
      "Epoch 26/100\n",
      "1407/1407 [==============================] - 104s 74ms/step - loss: 1.4319 - sparse_categorical_accuracy: 0.4880 - val_loss: 1.5680 - val_sparse_categorical_accuracy: 0.4570\n",
      "Epoch 27/100\n",
      "1407/1407 [==============================] - 101s 72ms/step - loss: 1.4181 - sparse_categorical_accuracy: 0.4983 - val_loss: 1.4995 - val_sparse_categorical_accuracy: 0.4688\n",
      "Epoch 28/100\n",
      "1407/1407 [==============================] - 103s 73ms/step - loss: 1.4034 - sparse_categorical_accuracy: 0.5005 - val_loss: 1.4972 - val_sparse_categorical_accuracy: 0.4660\n",
      "Epoch 29/100\n",
      "1407/1407 [==============================] - 106s 75ms/step - loss: 1.3811 - sparse_categorical_accuracy: 0.5062 - val_loss: 1.5292 - val_sparse_categorical_accuracy: 0.4724\n",
      "Epoch 30/100\n",
      "1407/1407 [==============================] - 103s 73ms/step - loss: 1.3756 - sparse_categorical_accuracy: 0.5094 - val_loss: 1.5251 - val_sparse_categorical_accuracy: 0.4758\n",
      "Epoch 31/100\n",
      "1407/1407 [==============================] - 110s 78ms/step - loss: 1.3492 - sparse_categorical_accuracy: 0.5241 - val_loss: 1.5167 - val_sparse_categorical_accuracy: 0.4684\n",
      "Epoch 32/100\n",
      "1407/1407 [==============================] - 105s 74ms/step - loss: 1.3488 - sparse_categorical_accuracy: 0.5222 - val_loss: 1.5162 - val_sparse_categorical_accuracy: 0.4810\n",
      "Epoch 33/100\n",
      "1407/1407 [==============================] - 104s 74ms/step - loss: 1.3296 - sparse_categorical_accuracy: 0.5288 - val_loss: 1.5100 - val_sparse_categorical_accuracy: 0.4728\n",
      "Epoch 34/100\n",
      "1407/1407 [==============================] - 106s 75ms/step - loss: 1.2726 - sparse_categorical_accuracy: 0.5471 - val_loss: 1.4911 - val_sparse_categorical_accuracy: 0.4842\n",
      "Epoch 35/100\n",
      "1407/1407 [==============================] - 105s 74ms/step - loss: 1.2442 - sparse_categorical_accuracy: 0.5587 - val_loss: 1.5190 - val_sparse_categorical_accuracy: 0.4790\n",
      "Epoch 36/100\n",
      "1407/1407 [==============================] - 105s 75ms/step - loss: 1.2280 - sparse_categorical_accuracy: 0.5595 - val_loss: 1.5048 - val_sparse_categorical_accuracy: 0.4872\n",
      "Epoch 37/100\n",
      "1407/1407 [==============================] - 105s 74ms/step - loss: 1.2217 - sparse_categorical_accuracy: 0.5671 - val_loss: 1.4855 - val_sparse_categorical_accuracy: 0.4966\n",
      "Epoch 38/100\n",
      "1407/1407 [==============================] - 105s 75ms/step - loss: 6.3891 - sparse_categorical_accuracy: 0.5267 - val_loss: 1.8304 - val_sparse_categorical_accuracy: 0.3148\n",
      "Epoch 39/100\n",
      "1407/1407 [==============================] - 110s 78ms/step - loss: 1.9939 - sparse_categorical_accuracy: 0.3316 - val_loss: 1.8015 - val_sparse_categorical_accuracy: 0.3310\n",
      "Epoch 40/100\n",
      "1407/1407 [==============================] - 104s 74ms/step - loss: 1.7483 - sparse_categorical_accuracy: 0.3495 - val_loss: 1.7428 - val_sparse_categorical_accuracy: 0.3636\n",
      "Epoch 41/100\n",
      "1407/1407 [==============================] - 104s 74ms/step - loss: 1.6950 - sparse_categorical_accuracy: 0.3809 - val_loss: 1.7091 - val_sparse_categorical_accuracy: 0.3786\n",
      "Epoch 42/100\n",
      "1407/1407 [==============================] - 105s 75ms/step - loss: 1.6430 - sparse_categorical_accuracy: 0.4003 - val_loss: 1.6780 - val_sparse_categorical_accuracy: 0.3988\n",
      "Epoch 43/100\n",
      "1407/1407 [==============================] - 104s 74ms/step - loss: 1.6004 - sparse_categorical_accuracy: 0.4192 - val_loss: 1.6552 - val_sparse_categorical_accuracy: 0.4076\n",
      "Epoch 44/100\n",
      "1407/1407 [==============================] - 104s 74ms/step - loss: 1.5803 - sparse_categorical_accuracy: 0.4291 - val_loss: 1.6470 - val_sparse_categorical_accuracy: 0.4090\n",
      "Epoch 45/100\n",
      "1407/1407 [==============================] - 104s 74ms/step - loss: 1.5738 - sparse_categorical_accuracy: 0.4317 - val_loss: 1.6195 - val_sparse_categorical_accuracy: 0.4262\n",
      "Epoch 46/100\n",
      "1407/1407 [==============================] - 105s 74ms/step - loss: 1.5383 - sparse_categorical_accuracy: 0.4459 - val_loss: 1.5969 - val_sparse_categorical_accuracy: 0.4364\n",
      "Epoch 47/100\n",
      "1407/1407 [==============================] - 104s 74ms/step - loss: 1.5071 - sparse_categorical_accuracy: 0.4602 - val_loss: 1.5790 - val_sparse_categorical_accuracy: 0.4426\n"
     ]
    }
   ],
   "source": [
    "# Train the model\n",
    "history = model.fit(X_train_scaled, y_train, epochs=100,\n",
    "                    validation_split=0.1,\n",
    "                    callbacks=[early_stopping_cb, lr_scheduler])"
   ]
  },
  {
   "cell_type": "code",
   "execution_count": null,
   "metadata": {},
   "outputs": [
    {
     "data": {
      "image/png": "[encoded data removed]",
      "text/plain": [
       "<Figure size 576x360 with 1 Axes>"
      ]
     },
     "metadata": {
      "needs_background": "light"
     },
     "output_type": "display_data"
    }
   ],
   "source": [
    "import pandas as pd\n",
    "import matplotlib.pyplot as plt\n",
    "\n",
    "pd.DataFrame(history.history).plot(figsize=(8, 5))\n",
    "plt.grid(True)\n",
    "# plt.gca().set_ylim(0, 1) # set the vertical range to [0-1]\n",
    "plt.show()"
   ]
  },
  {
   "cell_type": "code",
   "execution_count": null,
   "metadata": {},
   "outputs": [
    {
     "name": "stderr",
     "output_type": "stream",
     "text": [
      "2022-08-15 12:55:17.812509: I tensorflow/compiler/jit/xla_cpu_device.cc:41] Not creating XLA devices, tf_xla_enable_xla_devices not set\n",
      "2022-08-15 12:55:17.813673: I tensorflow/core/platform/cpu_feature_guard.cc:142] This TensorFlow binary is optimized with oneAPI Deep Neural Network Library (oneDNN) to use the following CPU instructions in performance-critical operations:  SSE4.1 SSE4.2 AVX AVX2 FMA\n",
      "To enable them in other operations, rebuild TensorFlow with the appropriate compiler flags.\n",
      "2022-08-15 12:55:17.816428: I tensorflow/core/common_runtime/process_util.cc:146] Creating new thread pool with default inter op setting: 2. Tune using inter_op_parallelism_threads for best performance.\n"
     ]
    }
   ],
   "source": [
    "# Batch Normalization\n",
    "model_bn = keras.models.Sequential()\n",
    "model_bn.add(keras.layers.Flatten(input_shape=[32, 32, 3]))\n",
    "model_bn.add(keras.layers.BatchNormalization())\n",
    "for _ in range(20):\n",
    "    model_bn.add(keras.layers.Dense(100, activation=\"elu\", kernel_initializer=\"he_normal\"))\n",
    "    model_bn.add(keras.layers.BatchNormalization())\n",
    "model_bn.add(keras.layers.Dense(10, activation=\"softmax\"))    # output layer"
   ]
  },
  {
   "cell_type": "code",
   "execution_count": null,
   "metadata": {},
   "outputs": [
    {
     "name": "stdout",
     "output_type": "stream",
     "text": [
      "Model: \"sequential\"\n",
      "_________________________________________________________________\n",
      "Layer (type)                 Output Shape              Param #   \n",
      "=================================================================\n",
      "flatten (Flatten)            (None, 3072)              0         \n",
      "_________________________________________________________________\n",
      "batch_normalization (BatchNo (None, 3072)              12288     \n",
      "_________________________________________________________________\n",
      "dense (Dense)                (None, 100)               307300    \n",
      "_________________________________________________________________\n",
      "batch_normalization_1 (Batch (None, 100)               400       \n",
      "_________________________________________________________________\n",
      "dense_1 (Dense)              (None, 100)               10100     \n",
      "_________________________________________________________________\n",
      "batch_normalization_2 (Batch (None, 100)               400       \n",
      "_________________________________________________________________\n",
      "dense_2 (Dense)              (None, 100)               10100     \n",
      "_________________________________________________________________\n",
      "batch_normalization_3 (Batch (None, 100)               400       \n",
      "_________________________________________________________________\n",
      "dense_3 (Dense)              (None, 100)               10100     \n",
      "_________________________________________________________________\n",
      "batch_normalization_4 (Batch (None, 100)               400       \n",
      "_________________________________________________________________\n",
      "dense_4 (Dense)              (None, 100)               10100     \n",
      "_________________________________________________________________\n",
      "batch_normalization_5 (Batch (None, 100)               400       \n",
      "_________________________________________________________________\n",
      "dense_5 (Dense)              (None, 100)               10100     \n",
      "_________________________________________________________________\n",
      "batch_normalization_6 (Batch (None, 100)               400       \n",
      "_________________________________________________________________\n",
      "dense_6 (Dense)              (None, 100)               10100     \n",
      "_________________________________________________________________\n",
      "batch_normalization_7 (Batch (None, 100)               400       \n",
      "_________________________________________________________________\n",
      "dense_7 (Dense)              (None, 100)               10100     \n",
      "_________________________________________________________________\n",
      "batch_normalization_8 (Batch (None, 100)               400       \n",
      "_________________________________________________________________\n",
      "dense_8 (Dense)              (None, 100)               10100     \n",
      "_________________________________________________________________\n",
      "batch_normalization_9 (Batch (None, 100)               400       \n",
      "_________________________________________________________________\n",
      "dense_9 (Dense)              (None, 100)               10100     \n",
      "_________________________________________________________________\n",
      "batch_normalization_10 (Batc (None, 100)               400       \n",
      "_________________________________________________________________\n",
      "dense_10 (Dense)             (None, 100)               10100     \n",
      "_________________________________________________________________\n",
      "batch_normalization_11 (Batc (None, 100)               400       \n",
      "_________________________________________________________________\n",
      "dense_11 (Dense)             (None, 100)               10100     \n",
      "_________________________________________________________________\n",
      "batch_normalization_12 (Batc (None, 100)               400       \n",
      "_________________________________________________________________\n",
      "dense_12 (Dense)             (None, 100)               10100     \n",
      "_________________________________________________________________\n",
      "batch_normalization_13 (Batc (None, 100)               400       \n",
      "_________________________________________________________________\n",
      "dense_13 (Dense)             (None, 100)               10100     \n",
      "_________________________________________________________________\n",
      "batch_normalization_14 (Batc (None, 100)               400       \n",
      "_________________________________________________________________\n",
      "dense_14 (Dense)             (None, 100)               10100     \n",
      "_________________________________________________________________\n",
      "batch_normalization_15 (Batc (None, 100)               400       \n",
      "_________________________________________________________________\n",
      "dense_15 (Dense)             (None, 100)               10100     \n",
      "_________________________________________________________________\n",
      "batch_normalization_16 (Batc (None, 100)               400       \n",
      "_________________________________________________________________\n",
      "dense_16 (Dense)             (None, 100)               10100     \n",
      "_________________________________________________________________\n",
      "batch_normalization_17 (Batc (None, 100)               400       \n",
      "_________________________________________________________________\n",
      "dense_17 (Dense)             (None, 100)               10100     \n",
      "_________________________________________________________________\n",
      "batch_normalization_18 (Batc (None, 100)               400       \n",
      "_________________________________________________________________\n",
      "dense_18 (Dense)             (None, 100)               10100     \n",
      "_________________________________________________________________\n",
      "batch_normalization_19 (Batc (None, 100)               400       \n",
      "_________________________________________________________________\n",
      "dense_19 (Dense)             (None, 100)               10100     \n",
      "_________________________________________________________________\n",
      "batch_normalization_20 (Batc (None, 100)               400       \n",
      "_________________________________________________________________\n",
      "dense_20 (Dense)             (None, 10)                1010      \n",
      "=================================================================\n",
      "Total params: 520,498\n",
      "Trainable params: 510,354\n",
      "Non-trainable params: 10,144\n",
      "_________________________________________________________________\n"
     ]
    }
   ],
   "source": [
    "model_bn.summary()"
   ]
  },
  {
   "cell_type": "code",
   "execution_count": null,
   "metadata": {},
   "outputs": [
    {
     "data": {
      "text/plain": [
       "[('batch_normalization/gamma:0', True),\n",
       " ('batch_normalization/beta:0', True),\n",
       " ('batch_normalization/moving_mean:0', False),\n",
       " ('batch_normalization/moving_variance:0', False)]"
      ]
     },
     "execution_count": 6,
     "metadata": {},
     "output_type": "execute_result"
    }
   ],
   "source": [
    "[(var.name, var.trainable) for var in model_bn.layers[1].variables]"
   ]
  },
  {
   "cell_type": "code",
   "execution_count": null,
   "metadata": {},
   "outputs": [],
   "source": [
    "lr_scheduler = keras.callbacks.ReduceLROnPlateau(factor=0.5, patience=5)\n",
    "optimizer = keras.optimizers.Nadam()\n",
    "checkpoint_cb = keras.callbacks.ModelCheckpoint(\"11_nadam_bn.h5\")\n",
    "early_stopping_cb = keras.callbacks.EarlyStopping(patience=10, restore_best_weights=True)"
   ]
  },
  {
   "cell_type": "code",
   "execution_count": null,
   "metadata": {},
   "outputs": [],
   "source": [
    "model_bn.compile(loss=keras.losses.sparse_categorical_crossentropy,\n",
    "              optimizer=optimizer,\n",
    "              metrics=keras.metrics.sparse_categorical_accuracy)"
   ]
  },
  {
   "cell_type": "code",
   "execution_count": null,
   "metadata": {},
   "outputs": [
    {
     "name": "stderr",
     "output_type": "stream",
     "text": [
      "2022-08-15 13:01:50.243083: I tensorflow/compiler/mlir/mlir_graph_optimization_pass.cc:116] None of the MLIR optimization passes are enabled (registered 2)\n",
      "2022-08-15 13:01:50.268896: I tensorflow/core/platform/profile_utils/cpu_utils.cc:112] CPU Frequency: 2099940000 Hz\n"
     ]
    },
    {
     "name": "stdout",
     "output_type": "stream",
     "text": [
      "Epoch 1/100\n",
      "1407/1407 [==============================] - 157s 104ms/step - loss: 2.0642 - sparse_categorical_accuracy: 0.2611 - val_loss: 1.6995 - val_sparse_categorical_accuracy: 0.3962\n",
      "Epoch 2/100\n",
      "1407/1407 [==============================] - 153s 109ms/step - loss: 1.7409 - sparse_categorical_accuracy: 0.3743 - val_loss: 1.7137 - val_sparse_categorical_accuracy: 0.3946\n",
      "Epoch 3/100\n",
      "1407/1407 [==============================] - 156s 111ms/step - loss: 1.6607 - sparse_categorical_accuracy: 0.4121 - val_loss: 1.5493 - val_sparse_categorical_accuracy: 0.4436\n",
      "Epoch 4/100\n",
      "1407/1407 [==============================] - 159s 113ms/step - loss: 1.6012 - sparse_categorical_accuracy: 0.4346 - val_loss: 1.5314 - val_sparse_categorical_accuracy: 0.4574\n",
      "Epoch 5/100\n",
      "1407/1407 [==============================] - 158s 112ms/step - loss: 1.5537 - sparse_categorical_accuracy: 0.4501 - val_loss: 1.5086 - val_sparse_categorical_accuracy: 0.4704\n",
      "Epoch 6/100\n",
      "1407/1407 [==============================] - 155s 110ms/step - loss: 1.5092 - sparse_categorical_accuracy: 0.4688 - val_loss: 1.4861 - val_sparse_categorical_accuracy: 0.4716\n",
      "Epoch 7/100\n",
      "1407/1407 [==============================] - 155s 110ms/step - loss: 1.4677 - sparse_categorical_accuracy: 0.4858 - val_loss: 1.4562 - val_sparse_categorical_accuracy: 0.4864\n",
      "Epoch 8/100\n",
      "1407/1407 [==============================] - 159s 113ms/step - loss: 1.4528 - sparse_categorical_accuracy: 0.4895 - val_loss: 1.4120 - val_sparse_categorical_accuracy: 0.5054\n",
      "Epoch 9/100\n",
      "1407/1407 [==============================] - 158s 112ms/step - loss: 1.4155 - sparse_categorical_accuracy: 0.5022 - val_loss: 1.3982 - val_sparse_categorical_accuracy: 0.5102\n",
      "Epoch 10/100\n",
      "1407/1407 [==============================] - 158s 113ms/step - loss: 1.3856 - sparse_categorical_accuracy: 0.5163 - val_loss: 1.3849 - val_sparse_categorical_accuracy: 0.5232\n",
      "Epoch 11/100\n",
      "1407/1407 [==============================] - 156s 111ms/step - loss: 1.3483 - sparse_categorical_accuracy: 0.5306 - val_loss: 1.3720 - val_sparse_categorical_accuracy: 0.5184\n",
      "Epoch 12/100\n",
      "1407/1407 [==============================] - 157s 111ms/step - loss: 1.3348 - sparse_categorical_accuracy: 0.5324 - val_loss: 1.3696 - val_sparse_categorical_accuracy: 0.5190\n",
      "Epoch 13/100\n",
      "1407/1407 [==============================] - 158s 112ms/step - loss: 1.3190 - sparse_categorical_accuracy: 0.5413 - val_loss: 1.3497 - val_sparse_categorical_accuracy: 0.5232\n",
      "Epoch 14/100\n",
      "1407/1407 [==============================] - 164s 117ms/step - loss: 1.2920 - sparse_categorical_accuracy: 0.5516 - val_loss: 1.3586 - val_sparse_categorical_accuracy: 0.5218\n",
      "Epoch 15/100\n",
      "1407/1407 [==============================] - 161s 114ms/step - loss: 1.2843 - sparse_categorical_accuracy: 0.5525 - val_loss: 1.3807 - val_sparse_categorical_accuracy: 0.5196\n",
      "Epoch 16/100\n",
      "1407/1407 [==============================] - 158s 113ms/step - loss: 1.2555 - sparse_categorical_accuracy: 0.5584 - val_loss: 1.3606 - val_sparse_categorical_accuracy: 0.5320\n",
      "Epoch 17/100\n",
      "1407/1407 [==============================] - 156s 111ms/step - loss: 1.2408 - sparse_categorical_accuracy: 0.5679 - val_loss: 1.3315 - val_sparse_categorical_accuracy: 0.5344\n",
      "Epoch 18/100\n",
      "1407/1407 [==============================] - 160s 114ms/step - loss: 1.2291 - sparse_categorical_accuracy: 0.5721 - val_loss: 1.3851 - val_sparse_categorical_accuracy: 0.5130\n",
      "Epoch 19/100\n",
      "1407/1407 [==============================] - 161s 114ms/step - loss: 1.2161 - sparse_categorical_accuracy: 0.5768 - val_loss: 1.3579 - val_sparse_categorical_accuracy: 0.5268\n",
      "Epoch 20/100\n",
      "1407/1407 [==============================] - 158s 112ms/step - loss: 1.1926 - sparse_categorical_accuracy: 0.5823 - val_loss: 1.3206 - val_sparse_categorical_accuracy: 0.5392\n",
      "Epoch 21/100\n",
      "1407/1407 [==============================] - 161s 114ms/step - loss: 1.1811 - sparse_categorical_accuracy: 0.5909 - val_loss: 1.3428 - val_sparse_categorical_accuracy: 0.5372\n",
      "Epoch 22/100\n",
      "1407/1407 [==============================] - 160s 113ms/step - loss: 1.1657 - sparse_categorical_accuracy: 0.5920 - val_loss: 1.3516 - val_sparse_categorical_accuracy: 0.5298\n",
      "Epoch 23/100\n",
      "1407/1407 [==============================] - 160s 113ms/step - loss: 1.1543 - sparse_categorical_accuracy: 0.6019 - val_loss: 1.3417 - val_sparse_categorical_accuracy: 0.5450\n",
      "Epoch 24/100\n",
      "1407/1407 [==============================] - 159s 113ms/step - loss: 1.1485 - sparse_categorical_accuracy: 0.6036 - val_loss: 1.3513 - val_sparse_categorical_accuracy: 0.5210\n",
      "Epoch 25/100\n",
      "1407/1407 [==============================] - 160s 114ms/step - loss: 1.1277 - sparse_categorical_accuracy: 0.6069 - val_loss: 1.3072 - val_sparse_categorical_accuracy: 0.5400\n",
      "Epoch 26/100\n",
      "1407/1407 [==============================] - 164s 117ms/step - loss: 1.1154 - sparse_categorical_accuracy: 0.6099 - val_loss: 1.3371 - val_sparse_categorical_accuracy: 0.5308\n",
      "Epoch 27/100\n",
      "1407/1407 [==============================] - 167s 119ms/step - loss: 1.1041 - sparse_categorical_accuracy: 0.6169 - val_loss: 1.3204 - val_sparse_categorical_accuracy: 0.5458\n",
      "Epoch 28/100\n",
      "1407/1407 [==============================] - 164s 117ms/step - loss: 1.0836 - sparse_categorical_accuracy: 0.6234 - val_loss: 1.3226 - val_sparse_categorical_accuracy: 0.5440\n",
      "Epoch 29/100\n",
      "1407/1407 [==============================] - 171s 122ms/step - loss: 1.0788 - sparse_categorical_accuracy: 0.6256 - val_loss: 1.3615 - val_sparse_categorical_accuracy: 0.5418\n",
      "Epoch 30/100\n",
      "1407/1407 [==============================] - 162s 115ms/step - loss: 1.0769 - sparse_categorical_accuracy: 0.6264 - val_loss: 1.3615 - val_sparse_categorical_accuracy: 0.5310\n",
      "Epoch 31/100\n",
      "1407/1407 [==============================] - 157s 112ms/step - loss: 1.0243 - sparse_categorical_accuracy: 0.6462 - val_loss: 1.3144 - val_sparse_categorical_accuracy: 0.5468\n",
      "Epoch 32/100\n",
      "1407/1407 [==============================] - 157s 112ms/step - loss: 0.9685 - sparse_categorical_accuracy: 0.6634 - val_loss: 1.3274 - val_sparse_categorical_accuracy: 0.5414\n",
      "Epoch 33/100\n",
      "1407/1407 [==============================] - 158s 113ms/step - loss: 0.9721 - sparse_categorical_accuracy: 0.6648 - val_loss: 1.3177 - val_sparse_categorical_accuracy: 0.5472\n",
      "Epoch 34/100\n",
      "1407/1407 [==============================] - 157s 111ms/step - loss: 0.9500 - sparse_categorical_accuracy: 0.6696 - val_loss: 1.3139 - val_sparse_categorical_accuracy: 0.5492\n",
      "Epoch 35/100\n",
      "1407/1407 [==============================] - 158s 112ms/step - loss: 0.9489 - sparse_categorical_accuracy: 0.6686 - val_loss: 1.3464 - val_sparse_categorical_accuracy: 0.5398\n"
     ]
    }
   ],
   "source": [
    "history = model_bn.fit(X_train_scaled, y_train, epochs=100,\n",
    "                    validation_split=0.1,\n",
    "                    callbacks=[early_stopping_cb, lr_scheduler])"
   ]
  },
  {
   "cell_type": "code",
   "execution_count": null,
   "metadata": {},
   "outputs": [
    {
     "data": {
      "image/png": "[encoded data removed]",
      "text/plain": [
       "<Figure size 576x360 with 1 Axes>"
      ]
     },
     "metadata": {
      "needs_background": "light"
     },
     "output_type": "display_data"
    }
   ],
   "source": [
    "import pandas as pd\n",
    "import matplotlib.pyplot as plt\n",
    "\n",
    "pd.DataFrame(history.history).plot(figsize=(8, 5))\n",
    "plt.grid(True)\n",
    "# plt.gca().set_ylim(0, 1) # set the vertical range to [0-1]\n",
    "plt.show()"
   ]
  },
  {
   "cell_type": "code",
   "execution_count": 3,
   "metadata": {},
   "outputs": [
    {
     "name": "stderr",
     "output_type": "stream",
     "text": [
      "2022-08-18 10:05:19.125943: I tensorflow/compiler/jit/xla_cpu_device.cc:41] Not creating XLA devices, tf_xla_enable_xla_devices not set\n",
      "2022-08-18 10:05:19.126954: I tensorflow/core/platform/cpu_feature_guard.cc:142] This TensorFlow binary is optimized with oneAPI Deep Neural Network Library (oneDNN) to use the following CPU instructions in performance-critical operations:  SSE4.1 SSE4.2 AVX AVX2 FMA\n",
      "To enable them in other operations, rebuild TensorFlow with the appropriate compiler flags.\n",
      "2022-08-18 10:05:19.130478: I tensorflow/core/common_runtime/process_util.cc:146] Creating new thread pool with default inter op setting: 2. Tune using inter_op_parallelism_threads for best performance.\n"
     ]
    }
   ],
   "source": [
    "# SELU\n",
    "# First, we need to normalize the data (mean 0, std 1)\n",
    "# The solutions notebook does it like this:\n",
    "# X_means = X_train.mean(axis=0)\n",
    "mean, std = X_train.mean(), X_test.std()\n",
    "X_train_norm = (X_train - mean) / std\n",
    "X_test_norm = (X_test - mean) / std\n",
    "model_selu = keras.models.Sequential()\n",
    "model_selu.add(keras.layers.Flatten(input_shape=[32, 32, 3]))\n",
    "for _ in range(20):\n",
    "    model_selu.add(keras.layers.Dense(100, activation=\"selu\", kernel_initializer=\"lecun_normal\"))\n",
    "model_selu.add(keras.layers.Dense(10, activation=\"softmax\"))"
   ]
  },
  {
   "cell_type": "code",
   "execution_count": null,
   "metadata": {},
   "outputs": [
    {
     "name": "stdout",
     "output_type": "stream",
     "text": [
      "Model: \"sequential_2\"\n",
      "_________________________________________________________________\n",
      "Layer (type)                 Output Shape              Param #   \n",
      "=================================================================\n",
      "flatten_2 (Flatten)          (None, 3072)              0         \n",
      "_________________________________________________________________\n",
      "dense_22 (Dense)             (None, 100)               307300    \n",
      "_________________________________________________________________\n",
      "dense_23 (Dense)             (None, 100)               10100     \n",
      "_________________________________________________________________\n",
      "dense_24 (Dense)             (None, 100)               10100     \n",
      "_________________________________________________________________\n",
      "dense_25 (Dense)             (None, 100)               10100     \n",
      "_________________________________________________________________\n",
      "dense_26 (Dense)             (None, 100)               10100     \n",
      "_________________________________________________________________\n",
      "dense_27 (Dense)             (None, 100)               10100     \n",
      "_________________________________________________________________\n",
      "dense_28 (Dense)             (None, 100)               10100     \n",
      "_________________________________________________________________\n",
      "dense_29 (Dense)             (None, 100)               10100     \n",
      "_________________________________________________________________\n",
      "dense_30 (Dense)             (None, 100)               10100     \n",
      "_________________________________________________________________\n",
      "dense_31 (Dense)             (None, 100)               10100     \n",
      "_________________________________________________________________\n",
      "dense_32 (Dense)             (None, 100)               10100     \n",
      "_________________________________________________________________\n",
      "dense_33 (Dense)             (None, 100)               10100     \n",
      "_________________________________________________________________\n",
      "dense_34 (Dense)             (None, 100)               10100     \n",
      "_________________________________________________________________\n",
      "dense_35 (Dense)             (None, 100)               10100     \n",
      "_________________________________________________________________\n",
      "dense_36 (Dense)             (None, 100)               10100     \n",
      "_________________________________________________________________\n",
      "dense_37 (Dense)             (None, 100)               10100     \n",
      "_________________________________________________________________\n",
      "dense_38 (Dense)             (None, 100)               10100     \n",
      "_________________________________________________________________\n",
      "dense_39 (Dense)             (None, 100)               10100     \n",
      "_________________________________________________________________\n",
      "dense_40 (Dense)             (None, 100)               10100     \n",
      "_________________________________________________________________\n",
      "dense_41 (Dense)             (None, 100)               10100     \n",
      "_________________________________________________________________\n",
      "dense_42 (Dense)             (None, 10)                1010      \n",
      "=================================================================\n",
      "Total params: 500,210\n",
      "Trainable params: 500,210\n",
      "Non-trainable params: 0\n",
      "_________________________________________________________________\n"
     ]
    }
   ],
   "source": [
    "model_selu.summary()"
   ]
  },
  {
   "cell_type": "code",
   "execution_count": null,
   "metadata": {},
   "outputs": [],
   "source": [
    "lr_scheduler = keras.callbacks.ReduceLROnPlateau(factor=0.5, patience=5)\n",
    "optimizer = keras.optimizers.Nadam()\n",
    "checkpoint_cb = keras.callbacks.ModelCheckpoint(\"11_nadam_selu.h5\")\n",
    "early_stopping_cb = keras.callbacks.EarlyStopping(patience=10, restore_best_weights=True)"
   ]
  },
  {
   "cell_type": "code",
   "execution_count": null,
   "metadata": {},
   "outputs": [],
   "source": [
    "model_selu.compile(loss=keras.losses.sparse_categorical_crossentropy,\n",
    "              optimizer=optimizer,\n",
    "              metrics=keras.metrics.sparse_categorical_accuracy)"
   ]
  },
  {
   "cell_type": "code",
   "execution_count": null,
   "metadata": {},
   "outputs": [
    {
     "name": "stdout",
     "output_type": "stream",
     "text": [
      "Epoch 1/100\n",
      "1407/1407 [==============================] - 102s 69ms/step - loss: 2.1291 - sparse_categorical_accuracy: 0.2354 - val_loss: 1.8627 - val_sparse_categorical_accuracy: 0.3226\n",
      "Epoch 2/100\n",
      "1407/1407 [==============================] - 101s 72ms/step - loss: 1.8100 - sparse_categorical_accuracy: 0.3498 - val_loss: 1.8359 - val_sparse_categorical_accuracy: 0.3566\n",
      "Epoch 3/100\n",
      "1407/1407 [==============================] - 96s 68ms/step - loss: 1.6917 - sparse_categorical_accuracy: 0.4023 - val_loss: 1.7240 - val_sparse_categorical_accuracy: 0.4072\n",
      "Epoch 4/100\n",
      "1407/1407 [==============================] - 99s 70ms/step - loss: 1.6298 - sparse_categorical_accuracy: 0.4215 - val_loss: 1.7093 - val_sparse_categorical_accuracy: 0.4112\n",
      "Epoch 5/100\n",
      "1407/1407 [==============================] - 95s 68ms/step - loss: 1.5606 - sparse_categorical_accuracy: 0.4443 - val_loss: 1.6278 - val_sparse_categorical_accuracy: 0.4310\n",
      "Epoch 6/100\n",
      "1407/1407 [==============================] - 97s 69ms/step - loss: 1.5286 - sparse_categorical_accuracy: 0.4595 - val_loss: 1.6148 - val_sparse_categorical_accuracy: 0.4442\n",
      "Epoch 7/100\n",
      "1407/1407 [==============================] - 95s 68ms/step - loss: 1.5104 - sparse_categorical_accuracy: 0.4636 - val_loss: 1.5966 - val_sparse_categorical_accuracy: 0.4318\n",
      "Epoch 8/100\n",
      "1407/1407 [==============================] - 97s 69ms/step - loss: 1.4841 - sparse_categorical_accuracy: 0.4764 - val_loss: 1.5658 - val_sparse_categorical_accuracy: 0.4414\n",
      "Epoch 9/100\n",
      "1407/1407 [==============================] - 97s 69ms/step - loss: 1.4754 - sparse_categorical_accuracy: 0.4854 - val_loss: 1.5748 - val_sparse_categorical_accuracy: 0.4448\n",
      "Epoch 10/100\n",
      "1407/1407 [==============================] - 98s 70ms/step - loss: 1.4597 - sparse_categorical_accuracy: 0.4846 - val_loss: 1.5146 - val_sparse_categorical_accuracy: 0.4674\n",
      "Epoch 11/100\n",
      "1407/1407 [==============================] - 96s 69ms/step - loss: 1.3779 - sparse_categorical_accuracy: 0.5166 - val_loss: 1.4846 - val_sparse_categorical_accuracy: 0.4738\n",
      "Epoch 12/100\n",
      "1407/1407 [==============================] - 98s 70ms/step - loss: 1.3473 - sparse_categorical_accuracy: 0.5275 - val_loss: 1.5237 - val_sparse_categorical_accuracy: 0.4716\n",
      "Epoch 13/100\n",
      "1407/1407 [==============================] - 99s 70ms/step - loss: 1.3513 - sparse_categorical_accuracy: 0.5239 - val_loss: 1.5696 - val_sparse_categorical_accuracy: 0.4548\n",
      "Epoch 14/100\n",
      "1407/1407 [==============================] - 99s 71ms/step - loss: 1.3674 - sparse_categorical_accuracy: 0.5181 - val_loss: 1.5391 - val_sparse_categorical_accuracy: 0.4730\n",
      "Epoch 15/100\n",
      "1407/1407 [==============================] - 98s 70ms/step - loss: 1.3332 - sparse_categorical_accuracy: 0.5361 - val_loss: 1.7208 - val_sparse_categorical_accuracy: 0.4032\n",
      "Epoch 16/100\n",
      "1407/1407 [==============================] - 102s 73ms/step - loss: 1.5000 - sparse_categorical_accuracy: 0.4632 - val_loss: 1.5332 - val_sparse_categorical_accuracy: 0.4740\n",
      "Epoch 17/100\n",
      "1407/1407 [==============================] - 96s 68ms/step - loss: 1.3185 - sparse_categorical_accuracy: 0.5326 - val_loss: 1.4846 - val_sparse_categorical_accuracy: 0.4796\n",
      "Epoch 18/100\n",
      "1407/1407 [==============================] - 98s 70ms/step - loss: 1.2750 - sparse_categorical_accuracy: 0.5495 - val_loss: 1.4616 - val_sparse_categorical_accuracy: 0.5002\n",
      "Epoch 19/100\n",
      "1407/1407 [==============================] - 100s 71ms/step - loss: 1.2559 - sparse_categorical_accuracy: 0.5574 - val_loss: 1.4675 - val_sparse_categorical_accuracy: 0.4988\n",
      "Epoch 20/100\n",
      "1407/1407 [==============================] - 97s 69ms/step - loss: 1.2130 - sparse_categorical_accuracy: 0.5692 - val_loss: 1.4742 - val_sparse_categorical_accuracy: 0.5020\n",
      "Epoch 21/100\n",
      "1407/1407 [==============================] - 99s 70ms/step - loss: 1.1965 - sparse_categorical_accuracy: 0.5785 - val_loss: 1.4734 - val_sparse_categorical_accuracy: 0.5060\n",
      "Epoch 22/100\n",
      "1407/1407 [==============================] - 100s 71ms/step - loss: 1.1713 - sparse_categorical_accuracy: 0.5877 - val_loss: 1.5088 - val_sparse_categorical_accuracy: 0.4930\n",
      "Epoch 23/100\n",
      "1407/1407 [==============================] - 99s 71ms/step - loss: 1.1423 - sparse_categorical_accuracy: 0.6009 - val_loss: 1.4719 - val_sparse_categorical_accuracy: 0.5020\n",
      "Epoch 24/100\n",
      "1407/1407 [==============================] - 96s 68ms/step - loss: 1.0836 - sparse_categorical_accuracy: 0.6187 - val_loss: 1.4731 - val_sparse_categorical_accuracy: 0.5074\n",
      "Epoch 25/100\n",
      "1407/1407 [==============================] - 102s 73ms/step - loss: 1.0462 - sparse_categorical_accuracy: 0.6349 - val_loss: 1.5081 - val_sparse_categorical_accuracy: 0.5140\n",
      "Epoch 26/100\n",
      "1407/1407 [==============================] - 97s 69ms/step - loss: 1.0282 - sparse_categorical_accuracy: 0.6386 - val_loss: 1.5072 - val_sparse_categorical_accuracy: 0.5116\n",
      "Epoch 27/100\n",
      "1407/1407 [==============================] - 99s 71ms/step - loss: 1.0134 - sparse_categorical_accuracy: 0.6470 - val_loss: 1.4863 - val_sparse_categorical_accuracy: 0.5122\n",
      "Epoch 28/100\n",
      "1407/1407 [==============================] - 97s 69ms/step - loss: 1.0057 - sparse_categorical_accuracy: 0.6525 - val_loss: 1.5232 - val_sparse_categorical_accuracy: 0.5180\n"
     ]
    }
   ],
   "source": [
    "history = model_selu.fit(X_train_norm, y_train, epochs=100,\n",
    "                    validation_split=0.1,\n",
    "                    callbacks=[early_stopping_cb, lr_scheduler])"
   ]
  },
  {
   "cell_type": "code",
   "execution_count": null,
   "metadata": {},
   "outputs": [
    {
     "data": {
      "text/plain": [
       "<function matplotlib.pyplot.show(close=None, block=None)>"
      ]
     },
     "execution_count": 23,
     "metadata": {},
     "output_type": "execute_result"
    },
    {
     "data": {
      "image/png": "[encoded data removed]",
      "text/plain": [
       "<Figure size 576x360 with 1 Axes>"
      ]
     },
     "metadata": {
      "needs_background": "light"
     },
     "output_type": "display_data"
    }
   ],
   "source": [
    "import pandas as pd\n",
    "import matplotlib.pyplot as plt\n",
    "\n",
    "pd.DataFrame(history.history).plot(figsize=(8, 5))\n",
    "plt.grid(True)\n",
    "# plt.gca().set_ylim(0, 1) # set the vertical range to [0-1]\n",
    "plt.show"
   ]
  },
  {
   "cell_type": "code",
   "execution_count": 5,
   "metadata": {},
   "outputs": [],
   "source": [
    "# Regularize the model with alpha dropout\n",
    "model_reg = keras.models.Sequential()\n",
    "model_reg.add(keras.layers.Flatten(input_shape=[32, 32, 3]))\n",
    "for _ in range(20):\n",
    "    # model_reg.add(keras.layers.AlphaDropout(0.2))\n",
    "    model_reg.add(keras.layers.Dense(100, activation=\"selu\", kernel_initializer=\"lecun_normal\"))\n",
    "model_reg.add(keras.layers.AlphaDropout(0.2))\n",
    "model_reg.add(keras.layers.Dense(10, activation=\"softmax\"))"
   ]
  },
  {
   "cell_type": "code",
   "execution_count": 6,
   "metadata": {},
   "outputs": [],
   "source": [
    "lr_scheduler = keras.callbacks.ReduceLROnPlateau(factor=0.5, patience=5)\n",
    "optimizer = keras.optimizers.Nadam()\n",
    "checkpoint_cb = keras.callbacks.ModelCheckpoint(\"11_nadam_selu_reg.h5\")\n",
    "early_stopping_cb = keras.callbacks.EarlyStopping(patience=20, restore_best_weights=True)"
   ]
  },
  {
   "cell_type": "code",
   "execution_count": 7,
   "metadata": {},
   "outputs": [],
   "source": [
    "model_reg.compile(loss=keras.losses.sparse_categorical_crossentropy,\n",
    "              optimizer=optimizer,\n",
    "              metrics=keras.metrics.sparse_categorical_accuracy)"
   ]
  },
  {
   "cell_type": "code",
   "execution_count": 8,
   "metadata": {},
   "outputs": [
    {
     "name": "stderr",
     "output_type": "stream",
     "text": [
      "2022-08-18 10:17:56.219195: I tensorflow/compiler/mlir/mlir_graph_optimization_pass.cc:116] None of the MLIR optimization passes are enabled (registered 2)\n",
      "2022-08-18 10:17:56.244303: I tensorflow/core/platform/profile_utils/cpu_utils.cc:112] CPU Frequency: 2099940000 Hz\n"
     ]
    },
    {
     "name": "stdout",
     "output_type": "stream",
     "text": [
      "Epoch 1/100\n",
      "1407/1407 [==============================] - 104s 71ms/step - loss: 2.1043 - sparse_categorical_accuracy: 0.2598 - val_loss: 1.9797 - val_sparse_categorical_accuracy: 0.3248\n",
      "Epoch 2/100\n",
      "1407/1407 [==============================] - 110s 78ms/step - loss: 1.8125 - sparse_categorical_accuracy: 0.3455 - val_loss: 1.9519 - val_sparse_categorical_accuracy: 0.3302\n",
      "Epoch 3/100\n",
      "1407/1407 [==============================] - 108s 77ms/step - loss: 1.7468 - sparse_categorical_accuracy: 0.3743 - val_loss: 1.8070 - val_sparse_categorical_accuracy: 0.3748\n",
      "Epoch 4/100\n",
      "1407/1407 [==============================] - 109s 78ms/step - loss: 1.6803 - sparse_categorical_accuracy: 0.3971 - val_loss: 1.9792 - val_sparse_categorical_accuracy: 0.3684\n",
      "Epoch 5/100\n",
      "1407/1407 [==============================] - 112s 79ms/step - loss: 1.7045 - sparse_categorical_accuracy: 0.3899 - val_loss: 1.8276 - val_sparse_categorical_accuracy: 0.4182\n",
      "Epoch 6/100\n",
      "1407/1407 [==============================] - 108s 77ms/step - loss: 1.6011 - sparse_categorical_accuracy: 0.4351 - val_loss: 1.7129 - val_sparse_categorical_accuracy: 0.4326\n",
      "Epoch 7/100\n",
      "1407/1407 [==============================] - 112s 80ms/step - loss: 1.5764 - sparse_categorical_accuracy: 0.4398 - val_loss: 1.7287 - val_sparse_categorical_accuracy: 0.4332\n",
      "Epoch 8/100\n",
      "1407/1407 [==============================] - 91s 64ms/step - loss: 1.5304 - sparse_categorical_accuracy: 0.4562 - val_loss: 1.7144 - val_sparse_categorical_accuracy: 0.4362\n",
      "Epoch 9/100\n",
      "1407/1407 [==============================] - 89s 63ms/step - loss: 1.5093 - sparse_categorical_accuracy: 0.4683 - val_loss: 1.7320 - val_sparse_categorical_accuracy: 0.4344\n",
      "Epoch 10/100\n",
      "1407/1407 [==============================] - 89s 63ms/step - loss: 1.4832 - sparse_categorical_accuracy: 0.4739 - val_loss: 1.6446 - val_sparse_categorical_accuracy: 0.4656\n",
      "Epoch 11/100\n",
      "1407/1407 [==============================] - 82s 58ms/step - loss: 1.4544 - sparse_categorical_accuracy: 0.4820 - val_loss: 1.6537 - val_sparse_categorical_accuracy: 0.4620\n",
      "Epoch 12/100\n",
      "1407/1407 [==============================] - 86s 61ms/step - loss: 1.4270 - sparse_categorical_accuracy: 0.4988 - val_loss: 1.6113 - val_sparse_categorical_accuracy: 0.4752\n",
      "Epoch 13/100\n",
      "1407/1407 [==============================] - 96s 68ms/step - loss: 1.3935 - sparse_categorical_accuracy: 0.5052 - val_loss: 1.6056 - val_sparse_categorical_accuracy: 0.4674\n",
      "Epoch 14/100\n",
      "1407/1407 [==============================] - 96s 68ms/step - loss: 2.6690 - sparse_categorical_accuracy: 0.4831 - val_loss: 1.6831 - val_sparse_categorical_accuracy: 0.4460\n",
      "Epoch 15/100\n",
      "1407/1407 [==============================] - 108s 77ms/step - loss: 1.4418 - sparse_categorical_accuracy: 0.4850 - val_loss: 1.6903 - val_sparse_categorical_accuracy: 0.4558\n",
      "Epoch 16/100\n",
      "1407/1407 [==============================] - 113s 80ms/step - loss: 1.3959 - sparse_categorical_accuracy: 0.5028 - val_loss: 1.6329 - val_sparse_categorical_accuracy: 0.4642\n",
      "Epoch 17/100\n",
      "1407/1407 [==============================] - 109s 78ms/step - loss: 1.3510 - sparse_categorical_accuracy: 0.5224 - val_loss: 1.5892 - val_sparse_categorical_accuracy: 0.4826\n",
      "Epoch 18/100\n",
      "1407/1407 [==============================] - 110s 78ms/step - loss: 1.3301 - sparse_categorical_accuracy: 0.5303 - val_loss: 1.6055 - val_sparse_categorical_accuracy: 0.4716\n",
      "Epoch 19/100\n",
      "1407/1407 [==============================] - 111s 79ms/step - loss: 1.3236 - sparse_categorical_accuracy: 0.5272 - val_loss: 1.5950 - val_sparse_categorical_accuracy: 0.4784\n",
      "Epoch 20/100\n",
      "1407/1407 [==============================] - 112s 80ms/step - loss: 1.3044 - sparse_categorical_accuracy: 0.5359 - val_loss: 1.6846 - val_sparse_categorical_accuracy: 0.4858\n",
      "Epoch 21/100\n",
      "1407/1407 [==============================] - 108s 77ms/step - loss: 1.2887 - sparse_categorical_accuracy: 0.5461 - val_loss: 1.6682 - val_sparse_categorical_accuracy: 0.4724\n",
      "Epoch 22/100\n",
      "1407/1407 [==============================] - 113s 80ms/step - loss: 1.2830 - sparse_categorical_accuracy: 0.5447 - val_loss: 1.7486 - val_sparse_categorical_accuracy: 0.4718\n",
      "Epoch 23/100\n",
      "1407/1407 [==============================] - 109s 78ms/step - loss: 1.2011 - sparse_categorical_accuracy: 0.5765 - val_loss: 1.7474 - val_sparse_categorical_accuracy: 0.4984\n",
      "Epoch 24/100\n",
      "1407/1407 [==============================] - 110s 78ms/step - loss: 1.1565 - sparse_categorical_accuracy: 0.5907 - val_loss: 1.6728 - val_sparse_categorical_accuracy: 0.4988\n",
      "Epoch 25/100\n",
      "1407/1407 [==============================] - 112s 80ms/step - loss: 1.1335 - sparse_categorical_accuracy: 0.5977 - val_loss: 1.6865 - val_sparse_categorical_accuracy: 0.5032\n",
      "Epoch 26/100\n",
      "1407/1407 [==============================] - 111s 79ms/step - loss: 1.1101 - sparse_categorical_accuracy: 0.6075 - val_loss: 1.7906 - val_sparse_categorical_accuracy: 0.4912\n",
      "Epoch 27/100\n",
      "1407/1407 [==============================] - 113s 80ms/step - loss: 1.0911 - sparse_categorical_accuracy: 0.6152 - val_loss: 1.7519 - val_sparse_categorical_accuracy: 0.4956\n",
      "Epoch 28/100\n",
      "1407/1407 [==============================] - 115s 82ms/step - loss: 1.0372 - sparse_categorical_accuracy: 0.6301 - val_loss: 1.7978 - val_sparse_categorical_accuracy: 0.5068\n",
      "Epoch 29/100\n",
      "1407/1407 [==============================] - 113s 80ms/step - loss: 0.9920 - sparse_categorical_accuracy: 0.6496 - val_loss: 1.8603 - val_sparse_categorical_accuracy: 0.5138\n",
      "Epoch 30/100\n",
      "1407/1407 [==============================] - 111s 79ms/step - loss: 1.9151 - sparse_categorical_accuracy: 0.6525 - val_loss: 1.8983 - val_sparse_categorical_accuracy: 0.4942\n",
      "Epoch 31/100\n",
      "1407/1407 [==============================] - 94s 67ms/step - loss: 1.0248 - sparse_categorical_accuracy: 0.6373 - val_loss: 1.9035 - val_sparse_categorical_accuracy: 0.4992\n",
      "Epoch 32/100\n",
      "1407/1407 [==============================] - 113s 80ms/step - loss: 0.9867 - sparse_categorical_accuracy: 0.6512 - val_loss: 1.9576 - val_sparse_categorical_accuracy: 0.5028\n",
      "Epoch 33/100\n",
      "1407/1407 [==============================] - 112s 80ms/step - loss: 0.9541 - sparse_categorical_accuracy: 0.6635 - val_loss: 1.9978 - val_sparse_categorical_accuracy: 0.5022\n",
      "Epoch 34/100\n",
      "1407/1407 [==============================] - 117s 83ms/step - loss: 0.9324 - sparse_categorical_accuracy: 0.6698 - val_loss: 1.9990 - val_sparse_categorical_accuracy: 0.5056\n",
      "Epoch 35/100\n",
      "1407/1407 [==============================] - 121s 86ms/step - loss: 0.9270 - sparse_categorical_accuracy: 0.6725 - val_loss: 2.0925 - val_sparse_categorical_accuracy: 0.5044\n",
      "Epoch 36/100\n",
      "1407/1407 [==============================] - 93s 66ms/step - loss: 0.9196 - sparse_categorical_accuracy: 0.6769 - val_loss: 2.0718 - val_sparse_categorical_accuracy: 0.4986\n",
      "Epoch 37/100\n",
      "1407/1407 [==============================] - 105s 75ms/step - loss: 0.9073 - sparse_categorical_accuracy: 0.6812 - val_loss: 2.1038 - val_sparse_categorical_accuracy: 0.5038\n"
     ]
    }
   ],
   "source": [
    "history = model_reg.fit(X_train_norm, y_train, epochs=100,\n",
    "                    validation_split=0.1,\n",
    "                    callbacks=[early_stopping_cb, lr_scheduler])"
   ]
  },
  {
   "cell_type": "code",
   "execution_count": 19,
   "metadata": {},
   "outputs": [],
   "source": [
    "# MC dropout\n",
    "y_probas = np.stack([model_reg(X_test_norm, training=True)\n",
    "                     for sample in range(100)])\n",
    "y_proba = y_probas.mean(axis=0)"
   ]
  },
  {
   "cell_type": "code",
   "execution_count": 21,
   "metadata": {},
   "outputs": [
    {
     "data": {
      "text/plain": [
       "array([[0.02, 0.01, 0.14, 0.11, 0.19, 0.1 , 0.25, 0.17, 0.  , 0.01]],\n",
       "      dtype=float32)"
      ]
     },
     "execution_count": 21,
     "metadata": {},
     "output_type": "execute_result"
    }
   ],
   "source": [
    "np.round(model_reg.predict(X_test_norm[:1]), 2)"
   ]
  },
  {
   "cell_type": "code",
   "execution_count": 22,
   "metadata": {},
   "outputs": [
    {
     "data": {
      "text/plain": [
       "array([[[0.05, 0.03, 0.1 , 0.2 , 0.09, 0.23, 0.1 , 0.15, 0.03, 0.03]],\n",
       "\n",
       "       [[0.05, 0.03, 0.09, 0.19, 0.09, 0.16, 0.1 , 0.21, 0.03, 0.04]],\n",
       "\n",
       "       [[0.08, 0.03, 0.17, 0.13, 0.15, 0.12, 0.13, 0.13, 0.03, 0.03]],\n",
       "\n",
       "       [[0.05, 0.03, 0.09, 0.22, 0.08, 0.2 , 0.09, 0.17, 0.03, 0.03]],\n",
       "\n",
       "       [[0.05, 0.03, 0.09, 0.18, 0.1 , 0.15, 0.11, 0.21, 0.03, 0.04]],\n",
       "\n",
       "       [[0.05, 0.04, 0.09, 0.16, 0.1 , 0.13, 0.1 , 0.25, 0.02, 0.06]],\n",
       "\n",
       "       [[0.05, 0.04, 0.08, 0.18, 0.1 , 0.13, 0.11, 0.24, 0.02, 0.06]],\n",
       "\n",
       "       [[0.07, 0.08, 0.09, 0.14, 0.09, 0.11, 0.11, 0.18, 0.04, 0.09]],\n",
       "\n",
       "       [[0.05, 0.03, 0.12, 0.15, 0.13, 0.14, 0.15, 0.17, 0.02, 0.04]],\n",
       "\n",
       "       [[0.05, 0.03, 0.11, 0.17, 0.12, 0.15, 0.14, 0.17, 0.02, 0.03]],\n",
       "\n",
       "       [[0.04, 0.02, 0.11, 0.21, 0.08, 0.25, 0.1 , 0.13, 0.03, 0.02]],\n",
       "\n",
       "       [[0.05, 0.04, 0.08, 0.18, 0.09, 0.15, 0.1 , 0.23, 0.03, 0.05]],\n",
       "\n",
       "       [[0.03, 0.03, 0.1 , 0.15, 0.12, 0.13, 0.12, 0.27, 0.01, 0.04]],\n",
       "\n",
       "       [[0.05, 0.05, 0.08, 0.18, 0.09, 0.13, 0.11, 0.22, 0.03, 0.06]],\n",
       "\n",
       "       [[0.05, 0.04, 0.09, 0.18, 0.09, 0.15, 0.1 , 0.23, 0.03, 0.05]],\n",
       "\n",
       "       [[0.06, 0.06, 0.08, 0.16, 0.09, 0.12, 0.12, 0.21, 0.03, 0.08]],\n",
       "\n",
       "       [[0.07, 0.09, 0.09, 0.14, 0.1 , 0.1 , 0.11, 0.18, 0.04, 0.1 ]],\n",
       "\n",
       "       [[0.04, 0.03, 0.08, 0.17, 0.1 , 0.14, 0.11, 0.26, 0.02, 0.05]],\n",
       "\n",
       "       [[0.04, 0.02, 0.13, 0.15, 0.15, 0.14, 0.18, 0.15, 0.02, 0.02]],\n",
       "\n",
       "       [[0.05, 0.02, 0.11, 0.19, 0.12, 0.17, 0.15, 0.14, 0.03, 0.03]],\n",
       "\n",
       "       [[0.04, 0.02, 0.1 , 0.23, 0.08, 0.26, 0.11, 0.12, 0.03, 0.02]],\n",
       "\n",
       "       [[0.05, 0.04, 0.09, 0.15, 0.11, 0.12, 0.12, 0.24, 0.02, 0.05]],\n",
       "\n",
       "       [[0.05, 0.03, 0.1 , 0.21, 0.09, 0.2 , 0.1 , 0.18, 0.03, 0.03]],\n",
       "\n",
       "       [[0.04, 0.02, 0.1 , 0.19, 0.09, 0.19, 0.11, 0.2 , 0.02, 0.03]],\n",
       "\n",
       "       [[0.04, 0.02, 0.1 , 0.2 , 0.11, 0.17, 0.14, 0.15, 0.03, 0.03]],\n",
       "\n",
       "       [[0.04, 0.04, 0.09, 0.16, 0.11, 0.13, 0.12, 0.25, 0.02, 0.05]],\n",
       "\n",
       "       [[0.07, 0.1 , 0.08, 0.14, 0.09, 0.1 , 0.11, 0.17, 0.04, 0.11]],\n",
       "\n",
       "       [[0.05, 0.04, 0.08, 0.17, 0.1 , 0.14, 0.1 , 0.24, 0.03, 0.05]],\n",
       "\n",
       "       [[0.03, 0.02, 0.09, 0.24, 0.08, 0.28, 0.11, 0.11, 0.03, 0.02]],\n",
       "\n",
       "       [[0.04, 0.02, 0.13, 0.15, 0.15, 0.14, 0.19, 0.15, 0.02, 0.02]],\n",
       "\n",
       "       [[0.04, 0.04, 0.08, 0.18, 0.09, 0.15, 0.1 , 0.25, 0.02, 0.05]],\n",
       "\n",
       "       [[0.04, 0.02, 0.11, 0.22, 0.1 , 0.25, 0.12, 0.12, 0.02, 0.02]],\n",
       "\n",
       "       [[0.07, 0.1 , 0.08, 0.14, 0.09, 0.1 , 0.11, 0.17, 0.04, 0.11]],\n",
       "\n",
       "       [[0.05, 0.04, 0.09, 0.16, 0.11, 0.12, 0.12, 0.24, 0.02, 0.05]],\n",
       "\n",
       "       [[0.03, 0.02, 0.16, 0.08, 0.26, 0.08, 0.22, 0.12, 0.01, 0.01]],\n",
       "\n",
       "       [[0.04, 0.02, 0.14, 0.12, 0.17, 0.11, 0.21, 0.15, 0.01, 0.02]],\n",
       "\n",
       "       [[0.05, 0.04, 0.09, 0.17, 0.1 , 0.13, 0.12, 0.24, 0.02, 0.05]],\n",
       "\n",
       "       [[0.05, 0.04, 0.09, 0.18, 0.09, 0.15, 0.11, 0.22, 0.03, 0.05]],\n",
       "\n",
       "       [[0.08, 0.07, 0.09, 0.15, 0.09, 0.11, 0.09, 0.18, 0.05, 0.09]],\n",
       "\n",
       "       [[0.04, 0.02, 0.09, 0.21, 0.1 , 0.21, 0.12, 0.15, 0.03, 0.03]],\n",
       "\n",
       "       [[0.04, 0.02, 0.12, 0.18, 0.12, 0.17, 0.16, 0.15, 0.02, 0.03]],\n",
       "\n",
       "       [[0.04, 0.02, 0.09, 0.2 , 0.1 , 0.2 , 0.11, 0.19, 0.02, 0.03]],\n",
       "\n",
       "       [[0.06, 0.03, 0.09, 0.2 , 0.09, 0.19, 0.1 , 0.17, 0.03, 0.04]],\n",
       "\n",
       "       [[0.07, 0.1 , 0.08, 0.14, 0.09, 0.1 , 0.11, 0.17, 0.04, 0.11]],\n",
       "\n",
       "       [[0.04, 0.02, 0.1 , 0.23, 0.08, 0.27, 0.11, 0.12, 0.02, 0.01]],\n",
       "\n",
       "       [[0.07, 0.11, 0.06, 0.13, 0.08, 0.07, 0.09, 0.15, 0.04, 0.18]],\n",
       "\n",
       "       [[0.04, 0.04, 0.08, 0.17, 0.1 , 0.13, 0.11, 0.25, 0.02, 0.05]],\n",
       "\n",
       "       [[0.04, 0.02, 0.12, 0.19, 0.11, 0.19, 0.14, 0.14, 0.02, 0.02]],\n",
       "\n",
       "       [[0.04, 0.02, 0.1 , 0.21, 0.09, 0.23, 0.11, 0.16, 0.02, 0.02]],\n",
       "\n",
       "       [[0.06, 0.05, 0.09, 0.16, 0.1 , 0.13, 0.11, 0.22, 0.03, 0.06]],\n",
       "\n",
       "       [[0.05, 0.04, 0.09, 0.17, 0.09, 0.13, 0.11, 0.24, 0.03, 0.05]],\n",
       "\n",
       "       [[0.07, 0.09, 0.08, 0.14, 0.09, 0.1 , 0.11, 0.17, 0.04, 0.1 ]],\n",
       "\n",
       "       [[0.04, 0.02, 0.1 , 0.22, 0.08, 0.28, 0.1 , 0.11, 0.03, 0.01]],\n",
       "\n",
       "       [[0.04, 0.02, 0.1 , 0.22, 0.08, 0.27, 0.11, 0.12, 0.03, 0.02]],\n",
       "\n",
       "       [[0.04, 0.02, 0.13, 0.16, 0.13, 0.15, 0.17, 0.16, 0.02, 0.03]],\n",
       "\n",
       "       [[0.05, 0.03, 0.11, 0.2 , 0.09, 0.19, 0.11, 0.15, 0.03, 0.03]],\n",
       "\n",
       "       [[0.05, 0.02, 0.1 , 0.21, 0.09, 0.2 , 0.1 , 0.16, 0.03, 0.03]],\n",
       "\n",
       "       [[0.07, 0.09, 0.08, 0.14, 0.09, 0.1 , 0.11, 0.17, 0.04, 0.11]],\n",
       "\n",
       "       [[0.05, 0.03, 0.09, 0.19, 0.09, 0.16, 0.11, 0.2 , 0.03, 0.04]],\n",
       "\n",
       "       [[0.04, 0.03, 0.09, 0.18, 0.09, 0.14, 0.11, 0.25, 0.02, 0.04]],\n",
       "\n",
       "       [[0.07, 0.08, 0.09, 0.13, 0.1 , 0.1 , 0.11, 0.18, 0.04, 0.09]],\n",
       "\n",
       "       [[0.05, 0.04, 0.08, 0.17, 0.1 , 0.13, 0.11, 0.24, 0.02, 0.06]],\n",
       "\n",
       "       [[0.05, 0.04, 0.09, 0.17, 0.09, 0.13, 0.11, 0.23, 0.03, 0.06]],\n",
       "\n",
       "       [[0.03, 0.02, 0.1 , 0.22, 0.08, 0.3 , 0.11, 0.1 , 0.02, 0.01]],\n",
       "\n",
       "       [[0.05, 0.03, 0.09, 0.19, 0.09, 0.17, 0.1 , 0.2 , 0.03, 0.04]],\n",
       "\n",
       "       [[0.04, 0.03, 0.08, 0.18, 0.09, 0.14, 0.11, 0.26, 0.02, 0.05]],\n",
       "\n",
       "       [[0.04, 0.02, 0.1 , 0.21, 0.1 , 0.22, 0.12, 0.15, 0.03, 0.02]],\n",
       "\n",
       "       [[0.05, 0.04, 0.09, 0.19, 0.09, 0.15, 0.11, 0.21, 0.03, 0.05]],\n",
       "\n",
       "       [[0.05, 0.03, 0.1 , 0.19, 0.09, 0.24, 0.1 , 0.15, 0.03, 0.02]],\n",
       "\n",
       "       [[0.05, 0.03, 0.1 , 0.19, 0.1 , 0.16, 0.11, 0.21, 0.02, 0.04]],\n",
       "\n",
       "       [[0.04, 0.02, 0.13, 0.16, 0.14, 0.15, 0.17, 0.14, 0.02, 0.02]],\n",
       "\n",
       "       [[0.05, 0.03, 0.09, 0.21, 0.09, 0.18, 0.1 , 0.19, 0.03, 0.04]],\n",
       "\n",
       "       [[0.04, 0.03, 0.09, 0.2 , 0.09, 0.16, 0.1 , 0.22, 0.02, 0.04]],\n",
       "\n",
       "       [[0.07, 0.08, 0.08, 0.14, 0.09, 0.11, 0.11, 0.18, 0.04, 0.1 ]],\n",
       "\n",
       "       [[0.05, 0.03, 0.09, 0.18, 0.09, 0.14, 0.1 , 0.24, 0.02, 0.05]],\n",
       "\n",
       "       [[0.04, 0.02, 0.1 , 0.21, 0.09, 0.2 , 0.11, 0.17, 0.02, 0.03]],\n",
       "\n",
       "       [[0.06, 0.08, 0.08, 0.15, 0.09, 0.11, 0.11, 0.19, 0.04, 0.09]],\n",
       "\n",
       "       [[0.03, 0.02, 0.1 , 0.21, 0.1 , 0.23, 0.12, 0.14, 0.02, 0.02]],\n",
       "\n",
       "       [[0.05, 0.04, 0.09, 0.2 , 0.09, 0.16, 0.11, 0.19, 0.03, 0.05]],\n",
       "\n",
       "       [[0.07, 0.09, 0.08, 0.14, 0.09, 0.1 , 0.11, 0.17, 0.04, 0.11]],\n",
       "\n",
       "       [[0.08, 0.21, 0.05, 0.08, 0.05, 0.05, 0.06, 0.1 , 0.06, 0.26]],\n",
       "\n",
       "       [[0.05, 0.03, 0.09, 0.18, 0.1 , 0.14, 0.11, 0.23, 0.02, 0.04]],\n",
       "\n",
       "       [[0.05, 0.03, 0.11, 0.18, 0.1 , 0.17, 0.11, 0.19, 0.02, 0.03]],\n",
       "\n",
       "       [[0.05, 0.04, 0.08, 0.17, 0.09, 0.13, 0.11, 0.23, 0.03, 0.06]],\n",
       "\n",
       "       [[0.03, 0.02, 0.1 , 0.23, 0.08, 0.26, 0.11, 0.13, 0.02, 0.02]],\n",
       "\n",
       "       [[0.06, 0.04, 0.09, 0.17, 0.09, 0.14, 0.09, 0.22, 0.03, 0.06]],\n",
       "\n",
       "       [[0.06, 0.08, 0.09, 0.13, 0.1 , 0.1 , 0.11, 0.2 , 0.03, 0.09]],\n",
       "\n",
       "       [[0.05, 0.02, 0.1 , 0.22, 0.09, 0.22, 0.12, 0.13, 0.03, 0.02]],\n",
       "\n",
       "       [[0.03, 0.02, 0.09, 0.23, 0.08, 0.27, 0.11, 0.14, 0.02, 0.02]],\n",
       "\n",
       "       [[0.05, 0.03, 0.09, 0.19, 0.09, 0.17, 0.1 , 0.22, 0.03, 0.03]],\n",
       "\n",
       "       [[0.07, 0.1 , 0.08, 0.14, 0.09, 0.1 , 0.11, 0.17, 0.04, 0.11]],\n",
       "\n",
       "       [[0.05, 0.03, 0.08, 0.19, 0.09, 0.15, 0.1 , 0.24, 0.02, 0.04]],\n",
       "\n",
       "       [[0.04, 0.04, 0.09, 0.15, 0.11, 0.12, 0.12, 0.25, 0.02, 0.05]],\n",
       "\n",
       "       [[0.05, 0.03, 0.1 , 0.19, 0.09, 0.19, 0.1 , 0.18, 0.03, 0.03]],\n",
       "\n",
       "       [[0.04, 0.04, 0.09, 0.17, 0.1 , 0.12, 0.12, 0.26, 0.02, 0.05]],\n",
       "\n",
       "       [[0.08, 0.14, 0.06, 0.12, 0.07, 0.07, 0.09, 0.14, 0.05, 0.18]],\n",
       "\n",
       "       [[0.06, 0.04, 0.09, 0.17, 0.1 , 0.13, 0.11, 0.22, 0.03, 0.06]],\n",
       "\n",
       "       [[0.05, 0.03, 0.08, 0.19, 0.09, 0.16, 0.11, 0.21, 0.03, 0.05]],\n",
       "\n",
       "       [[0.07, 0.1 , 0.08, 0.14, 0.09, 0.1 , 0.11, 0.17, 0.04, 0.11]],\n",
       "\n",
       "       [[0.04, 0.04, 0.09, 0.16, 0.1 , 0.13, 0.11, 0.26, 0.02, 0.05]]],\n",
       "      dtype=float32)"
      ]
     },
     "execution_count": 22,
     "metadata": {},
     "output_type": "execute_result"
    }
   ],
   "source": [
    "np.round(y_probas[:, :1], 2)"
   ]
  },
  {
   "cell_type": "code",
   "execution_count": 23,
   "metadata": {},
   "outputs": [
    {
     "data": {
      "text/plain": [
       "6"
      ]
     },
     "execution_count": 23,
     "metadata": {},
     "output_type": "execute_result"
    }
   ],
   "source": [
    "np.argmax(np.round(model_reg.predict(X_test_norm[:1]), 2))"
   ]
  },
  {
   "cell_type": "code",
   "execution_count": 30,
   "metadata": {},
   "outputs": [],
   "source": [
    "y_pred = np.reshape(np.argmax(y_proba, axis=1), (10000, 1))"
   ]
  },
  {
   "cell_type": "code",
   "execution_count": 32,
   "metadata": {},
   "outputs": [
    {
     "data": {
      "text/plain": [
       "0.2972"
      ]
     },
     "execution_count": 32,
     "metadata": {},
     "output_type": "execute_result"
    }
   ],
   "source": [
    "accuracy = np.sum(y_pred == y_test) / len(y_test)\n",
    "accuracy"
   ]
  }
 ],
 "metadata": {
  "kernelspec": {
   "display_name": "Python 3.9.12 ('ml')",
   "language": "python",
   "name": "python3"
  },
  "language_info": {
   "codemirror_mode": {
    "name": "ipython",
    "version": 3
   },
   "file_extension": ".py",
   "mimetype": "text/x-python",
   "name": "python",
   "nbconvert_exporter": "python",
   "pygments_lexer": "ipython3",
   "version": "3.9.12"
  },
  "orig_nbformat": 4,
  "vscode": {
   "interpreter": {
    "hash": "976019bd7028fad645a45aaa2b51f9e68e9bcad9b4e9047d93bf7b882332665b"
   }
  }
 },
 "nbformat": 4,
 "nbformat_minor": 2
}
