{
 "cells": [
  {
   "cell_type": "code",
   "execution_count": 1,
   "metadata": {},
   "outputs": [],
   "source": [
    "from sklearn.datasets import fetch_openml\n",
    "import numpy as np\n"
   ]
  },
  {
   "cell_type": "code",
   "execution_count": 2,
   "metadata": {},
   "outputs": [],
   "source": [
    "import warnings\n",
    "warnings.filterwarnings(action='ignore', message='^internal gelsd')"
   ]
  },
  {
   "cell_type": "code",
   "execution_count": 3,
   "metadata": {},
   "outputs": [
    {
     "output_type": "execute_result",
     "data": {
      "text/plain": [
       "dict_keys(['data', 'target', 'feature_names', 'DESCR', 'details', 'categories', 'url'])"
      ]
     },
     "metadata": {},
     "execution_count": 3
    }
   ],
   "source": [
    "mnist = fetch_openml('mnist_784', version=1)\n",
    "mnist.keys()"
   ]
  },
  {
   "cell_type": "code",
   "execution_count": 4,
   "metadata": {},
   "outputs": [
    {
     "output_type": "stream",
     "name": "stdout",
     "text": [
      "**Author**: Yann LeCun, Corinna Cortes, Christopher J.C. Burges  \n**Source**: [MNIST Website](http://yann.lecun.com/exdb/mnist/) - Date unknown  \n**Please cite**:  \n\nThe MNIST database of handwritten digits with 784 features, raw data available at: http://yann.lecun.com/exdb/mnist/. It can be split in a training set of the first 60,000 examples, and a test set of 10,000 examples  \n\nIt is a subset of a larger set available from NIST. The digits have been size-normalized and centered in a fixed-size image. It is a good database for people who want to try learning techniques and pattern recognition methods on real-world data while spending minimal efforts on preprocessing and formatting. The original black and white (bilevel) images from NIST were size normalized to fit in a 20x20 pixel box while preserving their aspect ratio. The resulting images contain grey levels as a result of the anti-aliasing technique used by the normalization algorithm. the images were centered in a 28x28 image by computing the center of mass of the pixels, and translating the image so as to position this point at the center of the 28x28 field.  \n\nWith some classification methods (particularly template-based methods, such as SVM and K-nearest neighbors), the error rate improves when the digits are centered by bounding box rather than center of mass. If you do this kind of pre-processing, you should report it in your publications. The MNIST database was constructed from NIST's NIST originally designated SD-3 as their training set and SD-1 as their test set. However, SD-3 is much cleaner and easier to recognize than SD-1. The reason for this can be found on the fact that SD-3 was collected among Census Bureau employees, while SD-1 was collected among high-school students. Drawing sensible conclusions from learning experiments requires that the result be independent of the choice of training set and test among the complete set of samples. Therefore it was necessary to build a new database by mixing NIST's datasets.  \n\nThe MNIST training set is composed of 30,000 patterns from SD-3 and 30,000 patterns from SD-1. Our test set was composed of 5,000 patterns from SD-3 and 5,000 patterns from SD-1. The 60,000 pattern training set contained examples from approximately 250 writers. We made sure that the sets of writers of the training set and test set were disjoint. SD-1 contains 58,527 digit images written by 500 different writers. In contrast to SD-3, where blocks of data from each writer appeared in sequence, the data in SD-1 is scrambled. Writer identities for SD-1 is available and we used this information to unscramble the writers. We then split SD-1 in two: characters written by the first 250 writers went into our new training set. The remaining 250 writers were placed in our test set. Thus we had two sets with nearly 30,000 examples each. The new training set was completed with enough examples from SD-3, starting at pattern # 0, to make a full set of 60,000 training patterns. Similarly, the new test set was completed with SD-3 examples starting at pattern # 35,000 to make a full set with 60,000 test patterns. Only a subset of 10,000 test images (5,000 from SD-1 and 5,000 from SD-3) is available on this site. The full 60,000 sample training set is available.\n\nDownloaded from openml.org.\n"
     ]
    }
   ],
   "source": [
    "print(mnist.DESCR)"
   ]
  },
  {
   "cell_type": "code",
   "execution_count": 5,
   "metadata": {},
   "outputs": [
    {
     "output_type": "execute_result",
     "data": {
      "text/plain": [
       "(70000, 784)"
      ]
     },
     "metadata": {},
     "execution_count": 5
    }
   ],
   "source": [
    "X, y = mnist['data'], mnist['target']\n",
    "X.shape"
   ]
  },
  {
   "cell_type": "code",
   "execution_count": 6,
   "metadata": {},
   "outputs": [],
   "source": [
    "import matplotlib as mpl\n",
    "import matplotlib.pyplot as plt"
   ]
  },
  {
   "cell_type": "code",
   "execution_count": 7,
   "metadata": {},
   "outputs": [],
   "source": [
    "some_digit = X[0]\n",
    "some_digit_image = some_digit.reshape(28,28)"
   ]
  },
  {
   "cell_type": "code",
   "execution_count": 8,
   "metadata": {},
   "outputs": [
    {
     "output_type": "execute_result",
     "data": {
      "text/plain": [
       "(-0.5, 27.5, 27.5, -0.5)"
      ]
     },
     "metadata": {},
     "execution_count": 8
    },
    {
     "output_type": "display_data",
     "data": {
      "text/plain": "<Figure size 432x288 with 1 Axes>",
      "image/svg+xml": "<?xml version=\"1.0\" encoding=\"utf-8\" standalone=\"no\"?>\n<!DOCTYPE svg PUBLIC \"-//W3C//DTD SVG 1.1//EN\"\n  \"http://www.w3.org/Graphics/SVG/1.1/DTD/svg11.dtd\">\n<!-- Created with matplotlib (https://matplotlib.org/) -->\n<svg height=\"248.518125pt\" version=\"1.1\" viewBox=\"0 0 251.565 248.518125\" width=\"251.565pt\" xmlns=\"http://www.w3.org/2000/svg\" xmlns:xlink=\"http://www.w3.org/1999/xlink\">\n <defs>\n  <style type=\"text/css\">\n*{stroke-linecap:butt;stroke-linejoin:round;}\n  </style>\n </defs>\n <g id=\"figure_1\">\n  <g id=\"patch_1\">\n   <path d=\"M 0 248.518125 \nL 251.565 248.518125 \nL 251.565 0 \nL 0 0 \nz\n\" style=\"fill:none;\"/>\n  </g>\n  <g id=\"axes_1\">\n   <g clip-path=\"url(#p2cd37366ec)\">\n    <image height=\"218\" id=\"image8073ee79fc\" transform=\"scale(1 -1)translate(0 -218)\" width=\"218\" x=\"26.925\" xlink:href=\"data:image/png;base64,\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\" y=\"-6.64\"/>\n   </g>\n  </g>\n </g>\n <defs>\n  <clipPath id=\"p2cd37366ec\">\n   <rect height=\"217.44\" width=\"217.44\" x=\"26.925\" y=\"7.2\"/>\n  </clipPath>\n </defs>\n</svg>\n",
      "image/png": "[encoded data removed]"
     },
     "metadata": {
      "needs_background": "light"
     }
    }
   ],
   "source": [
    "plt.imshow(some_digit_image, cmap='binary')\n",
    "plt.axis('off')"
   ]
  },
  {
   "cell_type": "code",
   "execution_count": 9,
   "metadata": {},
   "outputs": [
    {
     "output_type": "execute_result",
     "data": {
      "text/plain": [
       "'5'"
      ]
     },
     "metadata": {},
     "execution_count": 9
    }
   ],
   "source": [
    "y[0]"
   ]
  },
  {
   "cell_type": "code",
   "execution_count": 10,
   "metadata": {},
   "outputs": [],
   "source": [
    "y = y.astype(np.uint8)"
   ]
  },
  {
   "cell_type": "code",
   "execution_count": 11,
   "metadata": {},
   "outputs": [],
   "source": [
    "X_train, X_test, y_train, y_test = X[:60000], X[60000:], y[:60000], y[60000:]"
   ]
  },
  {
   "cell_type": "code",
   "execution_count": 12,
   "metadata": {},
   "outputs": [],
   "source": [
    "#### BINARY CLASSIFIER 5 - NOT 5"
   ]
  },
  {
   "cell_type": "code",
   "execution_count": 13,
   "metadata": {},
   "outputs": [
    {
     "output_type": "execute_result",
     "data": {
      "text/plain": [
       "array([ True, False, False, ...,  True, False, False])"
      ]
     },
     "metadata": {},
     "execution_count": 13
    }
   ],
   "source": [
    "y_train_5 = (y_train == 5)\n",
    "y_test_5 = (y_test == 5)\n",
    "y_train_5"
   ]
  },
  {
   "cell_type": "code",
   "execution_count": 14,
   "metadata": {},
   "outputs": [
    {
     "output_type": "execute_result",
     "data": {
      "text/plain": [
       "SGDClassifier(alpha=0.0001, average=False, class_weight=None,\n",
       "       early_stopping=False, epsilon=0.1, eta0=0.0, fit_intercept=True,\n",
       "       l1_ratio=0.15, learning_rate='optimal', loss='hinge', max_iter=None,\n",
       "       n_iter=None, n_iter_no_change=5, n_jobs=None, penalty='l2',\n",
       "       power_t=0.5, random_state=42, shuffle=True, tol=None,\n",
       "       validation_fraction=0.1, verbose=0, warm_start=False)"
      ]
     },
     "metadata": {},
     "execution_count": 14
    }
   ],
   "source": [
    "from sklearn.linear_model import SGDClassifier\n",
    "\n",
    "sgd_clf = SGDClassifier(random_state=42)\n",
    "sgd_clf.fit(X_train, y_train_5)"
   ]
  },
  {
   "cell_type": "code",
   "execution_count": 15,
   "metadata": {},
   "outputs": [
    {
     "output_type": "execute_result",
     "data": {
      "text/plain": [
       "(60000, 784)"
      ]
     },
     "metadata": {},
     "execution_count": 15
    }
   ],
   "source": [
    "X_train.shape"
   ]
  },
  {
   "cell_type": "code",
   "execution_count": 16,
   "metadata": {},
   "outputs": [
    {
     "output_type": "execute_result",
     "data": {
      "text/plain": [
       "array([False,  True])"
      ]
     },
     "metadata": {},
     "execution_count": 16
    }
   ],
   "source": [
    "import numpy as np\n",
    "np.unique(y_train_5)"
   ]
  },
  {
   "cell_type": "code",
   "execution_count": 17,
   "metadata": {},
   "outputs": [
    {
     "output_type": "execute_result",
     "data": {
      "text/plain": [
       "array([False])"
      ]
     },
     "metadata": {},
     "execution_count": 17
    }
   ],
   "source": [
    "sgd_clf.predict([some_digit])"
   ]
  },
  {
   "cell_type": "code",
   "execution_count": 18,
   "metadata": {},
   "outputs": [
    {
     "output_type": "execute_result",
     "data": {
      "text/plain": [
       "array([0.9532 , 0.95125, 0.9625 ])"
      ]
     },
     "metadata": {},
     "execution_count": 18
    }
   ],
   "source": [
    "from sklearn.model_selection import cross_val_score\n",
    "cross_val_score(sgd_clf, X_train, y_train_5, cv=3, scoring='accuracy')"
   ]
  },
  {
   "source": [
    "### CONFUSION MATRIX!"
   ],
   "cell_type": "markdown",
   "metadata": {}
  },
  {
   "cell_type": "code",
   "execution_count": 19,
   "metadata": {},
   "outputs": [],
   "source": [
    "from sklearn.model_selection import cross_val_predict\n",
    "y_train_pred = cross_val_predict(sgd_clf, X_train, y_train_5, cv=3)"
   ]
  },
  {
   "cell_type": "code",
   "execution_count": 20,
   "metadata": {},
   "outputs": [
    {
     "output_type": "execute_result",
     "data": {
      "text/plain": [
       "array([ True, False, False, False, False, False, False, False, False,\n",
       "       False])"
      ]
     },
     "metadata": {},
     "execution_count": 20
    }
   ],
   "source": [
    "y_train_pred[:10]"
   ]
  },
  {
   "cell_type": "code",
   "execution_count": 21,
   "metadata": {},
   "outputs": [
    {
     "output_type": "execute_result",
     "data": {
      "text/plain": [
       "array([[52992,  1587],\n",
       "       [ 1074,  4347]])"
      ]
     },
     "metadata": {},
     "execution_count": 21
    }
   ],
   "source": [
    "from sklearn.metrics import confusion_matrix\n",
    "confusion_matrix(y_train_5, y_train_pred)"
   ]
  },
  {
   "cell_type": "code",
   "execution_count": 22,
   "metadata": {},
   "outputs": [],
   "source": [
    "from sklearn.metrics import precision_score, recall_score\n"
   ]
  },
  {
   "cell_type": "code",
   "execution_count": 23,
   "metadata": {},
   "outputs": [
    {
     "output_type": "execute_result",
     "data": {
      "text/plain": [
       "0.7325581395348837"
      ]
     },
     "metadata": {},
     "execution_count": 23
    }
   ],
   "source": [
    "precision_score(y_train_5, y_train_pred)"
   ]
  },
  {
   "cell_type": "code",
   "execution_count": 24,
   "metadata": {},
   "outputs": [
    {
     "output_type": "execute_result",
     "data": {
      "text/plain": [
       "0.8018815716657444"
      ]
     },
     "metadata": {},
     "execution_count": 24
    }
   ],
   "source": [
    "recall_score(y_train_5, y_train_pred)"
   ]
  },
  {
   "cell_type": "code",
   "execution_count": 25,
   "metadata": {},
   "outputs": [
    {
     "output_type": "execute_result",
     "data": {
      "text/plain": [
       "0.765653896961691"
      ]
     },
     "metadata": {},
     "execution_count": 25
    }
   ],
   "source": [
    "from sklearn.metrics import f1_score\n",
    "f1_score(y_train_5, y_train_pred)"
   ]
  },
  {
   "cell_type": "code",
   "execution_count": 26,
   "metadata": {},
   "outputs": [
    {
     "output_type": "execute_result",
     "data": {
      "text/plain": [
       "array([-45148.19955869])"
      ]
     },
     "metadata": {},
     "execution_count": 26
    }
   ],
   "source": [
    "y_scores = sgd_clf.decision_function([some_digit])\n",
    "y_scores"
   ]
  },
  {
   "cell_type": "code",
   "execution_count": 27,
   "metadata": {},
   "outputs": [
    {
     "output_type": "execute_result",
     "data": {
      "text/plain": [
       "array([False])"
      ]
     },
     "metadata": {},
     "execution_count": 27
    }
   ],
   "source": [
    "threshold = 0\n",
    "y_some_digit_pred = (y_scores > threshold)\n",
    "y_some_digit_pred"
   ]
  },
  {
   "cell_type": "code",
   "execution_count": 28,
   "metadata": {},
   "outputs": [],
   "source": [
    "y_scores = cross_val_predict(sgd_clf, X_train, y_train_5, cv=3,\n",
    "                             method='decision_function')"
   ]
  },
  {
   "cell_type": "code",
   "execution_count": 29,
   "metadata": {},
   "outputs": [],
   "source": [
    "from sklearn.metrics import precision_recall_curve\n",
    "precisions, recalls, thresholds = precision_recall_curve(y_train_5, y_scores)"
   ]
  },
  {
   "cell_type": "code",
   "execution_count": 30,
   "metadata": {},
   "outputs": [
    {
     "output_type": "display_data",
     "data": {
      "text/plain": "<Figure size 432x288 with 1 Axes>",
      "image/svg+xml": "<?xml version=\"1.0\" encoding=\"utf-8\" standalone=\"no\"?>\n<!DOCTYPE svg PUBLIC \"-//W3C//DTD SVG 1.1//EN\"\n  \"http://www.w3.org/Graphics/SVG/1.1/DTD/svg11.dtd\">\n<!-- Created with matplotlib (https://matplotlib.org/) -->\n<svg height=\"252.018125pt\" version=\"1.1\" viewBox=\"0 0 375.603125 252.018125\" width=\"375.603125pt\" xmlns=\"http://www.w3.org/2000/svg\" xmlns:xlink=\"http://www.w3.org/1999/xlink\">\n <defs>\n  <style type=\"text/css\">\n*{stroke-linecap:butt;stroke-linejoin:round;}\n  </style>\n </defs>\n <g id=\"figure_1\">\n  <g id=\"patch_1\">\n   <path d=\"M 0 252.018125 \nL 375.603125 252.018125 \nL 375.603125 0 \nL 0 0 \nz\n\" style=\"fill:none;\"/>\n  </g>\n  <g id=\"axes_1\">\n   <g id=\"patch_2\">\n    <path d=\"M 30.103125 228.14 \nL 364.903125 228.14 \nL 364.903125 10.7 \nL 30.103125 10.7 \nz\n\" style=\"fill:#ffffff;\"/>\n   </g>\n   <g id=\"matplotlib.axis_1\">\n    <g id=\"xtick_1\">\n     <g id=\"line2d_1\">\n      <defs>\n       <path d=\"M 0 0 \nL 0 3.5 \n\" id=\"md8cf406a96\" style=\"stroke:#000000;stroke-width:0.8;\"/>\n      </defs>\n      <g>\n       <use style=\"stroke:#000000;stroke-width:0.8;\" x=\"65.962734\" xlink:href=\"#md8cf406a96\" y=\"228.14\"/>\n      </g>\n     </g>\n     <g id=\"text_1\">\n      <!-- −1500000 -->\n      <defs>\n       <path d=\"M 10.59375 35.5 \nL 73.1875 35.5 \nL 73.1875 27.203125 \nL 10.59375 27.203125 \nz\n\" id=\"DejaVuSans-8722\"/>\n       <path d=\"M 12.40625 8.296875 \nL 28.515625 8.296875 \nL 28.515625 63.921875 \nL 10.984375 60.40625 \nL 10.984375 69.390625 \nL 28.421875 72.90625 \nL 38.28125 72.90625 \nL 38.28125 8.296875 \nL 54.390625 8.296875 \nL 54.390625 0 \nL 12.40625 0 \nz\n\" id=\"DejaVuSans-49\"/>\n       <path d=\"M 10.796875 72.90625 \nL 49.515625 72.90625 \nL 49.515625 64.59375 \nL 19.828125 64.59375 \nL 19.828125 46.734375 \nQ 21.96875 47.46875 24.109375 47.828125 \nQ 26.265625 48.1875 28.421875 48.1875 \nQ 40.625 48.1875 47.75 41.5 \nQ 54.890625 34.8125 54.890625 23.390625 \nQ 54.890625 11.625 47.5625 5.09375 \nQ 40.234375 -1.421875 26.90625 -1.421875 \nQ 22.3125 -1.421875 17.546875 -0.640625 \nQ 12.796875 0.140625 7.71875 1.703125 \nL 7.71875 11.625 \nQ 12.109375 9.234375 16.796875 8.0625 \nQ 21.484375 6.890625 26.703125 6.890625 \nQ 35.15625 6.890625 40.078125 11.328125 \nQ 45.015625 15.765625 45.015625 23.390625 \nQ 45.015625 31 40.078125 35.4375 \nQ 35.15625 39.890625 26.703125 39.890625 \nQ 22.75 39.890625 18.8125 39.015625 \nQ 14.890625 38.140625 10.796875 36.28125 \nz\n\" id=\"DejaVuSans-53\"/>\n       <path d=\"M 31.78125 66.40625 \nQ 24.171875 66.40625 20.328125 58.90625 \nQ 16.5 51.421875 16.5 36.375 \nQ 16.5 21.390625 20.328125 13.890625 \nQ 24.171875 6.390625 31.78125 6.390625 \nQ 39.453125 6.390625 43.28125 13.890625 \nQ 47.125 21.390625 47.125 36.375 \nQ 47.125 51.421875 43.28125 58.90625 \nQ 39.453125 66.40625 31.78125 66.40625 \nz\nM 31.78125 74.21875 \nQ 44.046875 74.21875 50.515625 64.515625 \nQ 56.984375 54.828125 56.984375 36.375 \nQ 56.984375 17.96875 50.515625 8.265625 \nQ 44.046875 -1.421875 31.78125 -1.421875 \nQ 19.53125 -1.421875 13.0625 8.265625 \nQ 6.59375 17.96875 6.59375 36.375 \nQ 6.59375 54.828125 13.0625 64.515625 \nQ 19.53125 74.21875 31.78125 74.21875 \nz\n\" id=\"DejaVuSans-48\"/>\n      </defs>\n      <g transform=\"translate(39.504141 242.738437)scale(0.1 -0.1)\">\n       <use xlink:href=\"#DejaVuSans-8722\"/>\n       <use x=\"83.789062\" xlink:href=\"#DejaVuSans-49\"/>\n       <use x=\"147.412109\" xlink:href=\"#DejaVuSans-53\"/>\n       <use x=\"211.035156\" xlink:href=\"#DejaVuSans-48\"/>\n       <use x=\"274.658203\" xlink:href=\"#DejaVuSans-48\"/>\n       <use x=\"338.28125\" xlink:href=\"#DejaVuSans-48\"/>\n       <use x=\"401.904297\" xlink:href=\"#DejaVuSans-48\"/>\n       <use x=\"465.527344\" xlink:href=\"#DejaVuSans-48\"/>\n      </g>\n     </g>\n    </g>\n    <g id=\"xtick_2\">\n     <g id=\"line2d_2\">\n      <g>\n       <use style=\"stroke:#000000;stroke-width:0.8;\" x=\"120.284907\" xlink:href=\"#md8cf406a96\" y=\"228.14\"/>\n      </g>\n     </g>\n     <g id=\"text_2\">\n      <!-- −1000000 -->\n      <g transform=\"translate(93.826313 242.738437)scale(0.1 -0.1)\">\n       <use xlink:href=\"#DejaVuSans-8722\"/>\n       <use x=\"83.789062\" xlink:href=\"#DejaVuSans-49\"/>\n       <use x=\"147.412109\" xlink:href=\"#DejaVuSans-48\"/>\n       <use x=\"211.035156\" xlink:href=\"#DejaVuSans-48\"/>\n       <use x=\"274.658203\" xlink:href=\"#DejaVuSans-48\"/>\n       <use x=\"338.28125\" xlink:href=\"#DejaVuSans-48\"/>\n       <use x=\"401.904297\" xlink:href=\"#DejaVuSans-48\"/>\n       <use x=\"465.527344\" xlink:href=\"#DejaVuSans-48\"/>\n      </g>\n     </g>\n    </g>\n    <g id=\"xtick_3\">\n     <g id=\"line2d_3\">\n      <g>\n       <use style=\"stroke:#000000;stroke-width:0.8;\" x=\"174.60708\" xlink:href=\"#md8cf406a96\" y=\"228.14\"/>\n      </g>\n     </g>\n     <g id=\"text_3\">\n      <!-- −500000 -->\n      <g transform=\"translate(151.329736 242.738437)scale(0.1 -0.1)\">\n       <use xlink:href=\"#DejaVuSans-8722\"/>\n       <use x=\"83.789062\" xlink:href=\"#DejaVuSans-53\"/>\n       <use x=\"147.412109\" xlink:href=\"#DejaVuSans-48\"/>\n       <use x=\"211.035156\" xlink:href=\"#DejaVuSans-48\"/>\n       <use x=\"274.658203\" xlink:href=\"#DejaVuSans-48\"/>\n       <use x=\"338.28125\" xlink:href=\"#DejaVuSans-48\"/>\n       <use x=\"401.904297\" xlink:href=\"#DejaVuSans-48\"/>\n      </g>\n     </g>\n    </g>\n    <g id=\"xtick_4\">\n     <g id=\"line2d_4\">\n      <g>\n       <use style=\"stroke:#000000;stroke-width:0.8;\" x=\"228.929252\" xlink:href=\"#md8cf406a96\" y=\"228.14\"/>\n      </g>\n     </g>\n     <g id=\"text_4\">\n      <!-- 0 -->\n      <g transform=\"translate(225.748002 242.738437)scale(0.1 -0.1)\">\n       <use xlink:href=\"#DejaVuSans-48\"/>\n      </g>\n     </g>\n    </g>\n    <g id=\"xtick_5\">\n     <g id=\"line2d_5\">\n      <g>\n       <use style=\"stroke:#000000;stroke-width:0.8;\" x=\"283.251425\" xlink:href=\"#md8cf406a96\" y=\"228.14\"/>\n      </g>\n     </g>\n     <g id=\"text_5\">\n      <!-- 500000 -->\n      <g transform=\"translate(264.163925 242.738437)scale(0.1 -0.1)\">\n       <use xlink:href=\"#DejaVuSans-53\"/>\n       <use x=\"63.623047\" xlink:href=\"#DejaVuSans-48\"/>\n       <use x=\"127.246094\" xlink:href=\"#DejaVuSans-48\"/>\n       <use x=\"190.869141\" xlink:href=\"#DejaVuSans-48\"/>\n       <use x=\"254.492188\" xlink:href=\"#DejaVuSans-48\"/>\n       <use x=\"318.115234\" xlink:href=\"#DejaVuSans-48\"/>\n      </g>\n     </g>\n    </g>\n    <g id=\"xtick_6\">\n     <g id=\"line2d_6\">\n      <g>\n       <use style=\"stroke:#000000;stroke-width:0.8;\" x=\"337.573598\" xlink:href=\"#md8cf406a96\" y=\"228.14\"/>\n      </g>\n     </g>\n     <g id=\"text_6\">\n      <!-- 1000000 -->\n      <g transform=\"translate(315.304848 242.738437)scale(0.1 -0.1)\">\n       <use xlink:href=\"#DejaVuSans-49\"/>\n       <use x=\"63.623047\" xlink:href=\"#DejaVuSans-48\"/>\n       <use x=\"127.246094\" xlink:href=\"#DejaVuSans-48\"/>\n       <use x=\"190.869141\" xlink:href=\"#DejaVuSans-48\"/>\n       <use x=\"254.492188\" xlink:href=\"#DejaVuSans-48\"/>\n       <use x=\"318.115234\" xlink:href=\"#DejaVuSans-48\"/>\n       <use x=\"381.738281\" xlink:href=\"#DejaVuSans-48\"/>\n      </g>\n     </g>\n    </g>\n   </g>\n   <g id=\"matplotlib.axis_2\">\n    <g id=\"ytick_1\">\n     <g id=\"line2d_7\">\n      <defs>\n       <path d=\"M 0 0 \nL -3.5 0 \n\" id=\"m9dfa87357d\" style=\"stroke:#000000;stroke-width:0.8;\"/>\n      </defs>\n      <g>\n       <use style=\"stroke:#000000;stroke-width:0.8;\" x=\"30.103125\" xlink:href=\"#m9dfa87357d\" y=\"218.292835\"/>\n      </g>\n     </g>\n     <g id=\"text_7\">\n      <!-- 0.0 -->\n      <defs>\n       <path d=\"M 10.6875 12.40625 \nL 21 12.40625 \nL 21 0 \nL 10.6875 0 \nz\n\" id=\"DejaVuSans-46\"/>\n      </defs>\n      <g transform=\"translate(7.2 222.092053)scale(0.1 -0.1)\">\n       <use xlink:href=\"#DejaVuSans-48\"/>\n       <use x=\"63.623047\" xlink:href=\"#DejaVuSans-46\"/>\n       <use x=\"95.410156\" xlink:href=\"#DejaVuSans-48\"/>\n      </g>\n     </g>\n    </g>\n    <g id=\"ytick_2\">\n     <g id=\"line2d_8\">\n      <g>\n       <use style=\"stroke:#000000;stroke-width:0.8;\" x=\"30.103125\" xlink:href=\"#m9dfa87357d\" y=\"178.750995\"/>\n      </g>\n     </g>\n     <g id=\"text_8\">\n      <!-- 0.2 -->\n      <defs>\n       <path d=\"M 19.1875 8.296875 \nL 53.609375 8.296875 \nL 53.609375 0 \nL 7.328125 0 \nL 7.328125 8.296875 \nQ 12.9375 14.109375 22.625 23.890625 \nQ 32.328125 33.6875 34.8125 36.53125 \nQ 39.546875 41.84375 41.421875 45.53125 \nQ 43.3125 49.21875 43.3125 52.78125 \nQ 43.3125 58.59375 39.234375 62.25 \nQ 35.15625 65.921875 28.609375 65.921875 \nQ 23.96875 65.921875 18.8125 64.3125 \nQ 13.671875 62.703125 7.8125 59.421875 \nL 7.8125 69.390625 \nQ 13.765625 71.78125 18.9375 73 \nQ 24.125 74.21875 28.421875 74.21875 \nQ 39.75 74.21875 46.484375 68.546875 \nQ 53.21875 62.890625 53.21875 53.421875 \nQ 53.21875 48.921875 51.53125 44.890625 \nQ 49.859375 40.875 45.40625 35.40625 \nQ 44.1875 33.984375 37.640625 27.21875 \nQ 31.109375 20.453125 19.1875 8.296875 \nz\n\" id=\"DejaVuSans-50\"/>\n      </defs>\n      <g transform=\"translate(7.2 182.550214)scale(0.1 -0.1)\">\n       <use xlink:href=\"#DejaVuSans-48\"/>\n       <use x=\"63.623047\" xlink:href=\"#DejaVuSans-46\"/>\n       <use x=\"95.410156\" xlink:href=\"#DejaVuSans-50\"/>\n      </g>\n     </g>\n    </g>\n    <g id=\"ytick_3\">\n     <g id=\"line2d_9\">\n      <g>\n       <use style=\"stroke:#000000;stroke-width:0.8;\" x=\"30.103125\" xlink:href=\"#m9dfa87357d\" y=\"139.209155\"/>\n      </g>\n     </g>\n     <g id=\"text_9\">\n      <!-- 0.4 -->\n      <defs>\n       <path d=\"M 37.796875 64.3125 \nL 12.890625 25.390625 \nL 37.796875 25.390625 \nz\nM 35.203125 72.90625 \nL 47.609375 72.90625 \nL 47.609375 25.390625 \nL 58.015625 25.390625 \nL 58.015625 17.1875 \nL 47.609375 17.1875 \nL 47.609375 0 \nL 37.796875 0 \nL 37.796875 17.1875 \nL 4.890625 17.1875 \nL 4.890625 26.703125 \nz\n\" id=\"DejaVuSans-52\"/>\n      </defs>\n      <g transform=\"translate(7.2 143.008374)scale(0.1 -0.1)\">\n       <use xlink:href=\"#DejaVuSans-48\"/>\n       <use x=\"63.623047\" xlink:href=\"#DejaVuSans-46\"/>\n       <use x=\"95.410156\" xlink:href=\"#DejaVuSans-52\"/>\n      </g>\n     </g>\n    </g>\n    <g id=\"ytick_4\">\n     <g id=\"line2d_10\">\n      <g>\n       <use style=\"stroke:#000000;stroke-width:0.8;\" x=\"30.103125\" xlink:href=\"#m9dfa87357d\" y=\"99.667316\"/>\n      </g>\n     </g>\n     <g id=\"text_10\">\n      <!-- 0.6 -->\n      <defs>\n       <path d=\"M 33.015625 40.375 \nQ 26.375 40.375 22.484375 35.828125 \nQ 18.609375 31.296875 18.609375 23.390625 \nQ 18.609375 15.53125 22.484375 10.953125 \nQ 26.375 6.390625 33.015625 6.390625 \nQ 39.65625 6.390625 43.53125 10.953125 \nQ 47.40625 15.53125 47.40625 23.390625 \nQ 47.40625 31.296875 43.53125 35.828125 \nQ 39.65625 40.375 33.015625 40.375 \nz\nM 52.59375 71.296875 \nL 52.59375 62.3125 \nQ 48.875 64.0625 45.09375 64.984375 \nQ 41.3125 65.921875 37.59375 65.921875 \nQ 27.828125 65.921875 22.671875 59.328125 \nQ 17.53125 52.734375 16.796875 39.40625 \nQ 19.671875 43.65625 24.015625 45.921875 \nQ 28.375 48.1875 33.59375 48.1875 \nQ 44.578125 48.1875 50.953125 41.515625 \nQ 57.328125 34.859375 57.328125 23.390625 \nQ 57.328125 12.15625 50.6875 5.359375 \nQ 44.046875 -1.421875 33.015625 -1.421875 \nQ 20.359375 -1.421875 13.671875 8.265625 \nQ 6.984375 17.96875 6.984375 36.375 \nQ 6.984375 53.65625 15.1875 63.9375 \nQ 23.390625 74.21875 37.203125 74.21875 \nQ 40.921875 74.21875 44.703125 73.484375 \nQ 48.484375 72.75 52.59375 71.296875 \nz\n\" id=\"DejaVuSans-54\"/>\n      </defs>\n      <g transform=\"translate(7.2 103.466534)scale(0.1 -0.1)\">\n       <use xlink:href=\"#DejaVuSans-48\"/>\n       <use x=\"63.623047\" xlink:href=\"#DejaVuSans-46\"/>\n       <use x=\"95.410156\" xlink:href=\"#DejaVuSans-54\"/>\n      </g>\n     </g>\n    </g>\n    <g id=\"ytick_5\">\n     <g id=\"line2d_11\">\n      <g>\n       <use style=\"stroke:#000000;stroke-width:0.8;\" x=\"30.103125\" xlink:href=\"#m9dfa87357d\" y=\"60.125476\"/>\n      </g>\n     </g>\n     <g id=\"text_11\">\n      <!-- 0.8 -->\n      <defs>\n       <path d=\"M 31.78125 34.625 \nQ 24.75 34.625 20.71875 30.859375 \nQ 16.703125 27.09375 16.703125 20.515625 \nQ 16.703125 13.921875 20.71875 10.15625 \nQ 24.75 6.390625 31.78125 6.390625 \nQ 38.8125 6.390625 42.859375 10.171875 \nQ 46.921875 13.96875 46.921875 20.515625 \nQ 46.921875 27.09375 42.890625 30.859375 \nQ 38.875 34.625 31.78125 34.625 \nz\nM 21.921875 38.8125 \nQ 15.578125 40.375 12.03125 44.71875 \nQ 8.5 49.078125 8.5 55.328125 \nQ 8.5 64.0625 14.71875 69.140625 \nQ 20.953125 74.21875 31.78125 74.21875 \nQ 42.671875 74.21875 48.875 69.140625 \nQ 55.078125 64.0625 55.078125 55.328125 \nQ 55.078125 49.078125 51.53125 44.71875 \nQ 48 40.375 41.703125 38.8125 \nQ 48.828125 37.15625 52.796875 32.3125 \nQ 56.78125 27.484375 56.78125 20.515625 \nQ 56.78125 9.90625 50.3125 4.234375 \nQ 43.84375 -1.421875 31.78125 -1.421875 \nQ 19.734375 -1.421875 13.25 4.234375 \nQ 6.78125 9.90625 6.78125 20.515625 \nQ 6.78125 27.484375 10.78125 32.3125 \nQ 14.796875 37.15625 21.921875 38.8125 \nz\nM 18.3125 54.390625 \nQ 18.3125 48.734375 21.84375 45.5625 \nQ 25.390625 42.390625 31.78125 42.390625 \nQ 38.140625 42.390625 41.71875 45.5625 \nQ 45.3125 48.734375 45.3125 54.390625 \nQ 45.3125 60.0625 41.71875 63.234375 \nQ 38.140625 66.40625 31.78125 66.40625 \nQ 25.390625 66.40625 21.84375 63.234375 \nQ 18.3125 60.0625 18.3125 54.390625 \nz\n\" id=\"DejaVuSans-56\"/>\n      </defs>\n      <g transform=\"translate(7.2 63.924695)scale(0.1 -0.1)\">\n       <use xlink:href=\"#DejaVuSans-48\"/>\n       <use x=\"63.623047\" xlink:href=\"#DejaVuSans-46\"/>\n       <use x=\"95.410156\" xlink:href=\"#DejaVuSans-56\"/>\n      </g>\n     </g>\n    </g>\n    <g id=\"ytick_6\">\n     <g id=\"line2d_12\">\n      <g>\n       <use style=\"stroke:#000000;stroke-width:0.8;\" x=\"30.103125\" xlink:href=\"#m9dfa87357d\" y=\"20.583636\"/>\n      </g>\n     </g>\n     <g id=\"text_12\">\n      <!-- 1.0 -->\n      <g transform=\"translate(7.2 24.382855)scale(0.1 -0.1)\">\n       <use xlink:href=\"#DejaVuSans-49\"/>\n       <use x=\"63.623047\" xlink:href=\"#DejaVuSans-46\"/>\n       <use x=\"95.410156\" xlink:href=\"#DejaVuSans-48\"/>\n      </g>\n     </g>\n    </g>\n   </g>\n   <g id=\"line2d_13\">\n    <path clip-path=\"url(#pd88e1d916c)\" d=\"M 45.321307 200.329212 \nL 46.890364 200.327708 \nL 76.450395 200.196907 \nL 118.790506 199.500969 \nL 139.266593 198.384271 \nL 139.694978 198.349994 \nL 141.265854 198.217415 \nL 141.425009 198.206447 \nL 146.301587 197.733733 \nL 146.431453 197.721428 \nL 147.887787 197.566777 \nL 148.044012 197.549423 \nL 149.437096 197.38371 \nL 157.42256 196.183056 \nL 157.55656 196.156815 \nL 158.471057 195.987692 \nL 158.597627 195.959572 \nL 158.918014 195.904061 \nL 167.966643 193.703074 \nL 168.139386 193.643579 \nL 169.22267 193.304556 \nL 169.774926 193.132408 \nL 170.23497 192.983789 \nL 170.467854 192.896383 \nL 171.020072 192.713568 \nL 178.845423 189.421514 \nL 179.099701 189.294977 \nL 179.353549 189.147295 \nL 179.502118 189.078997 \nL 179.817021 188.924129 \nL 180.009197 188.824989 \nL 181.103853 188.227162 \nL 181.444944 188.037026 \nL 181.715278 187.896252 \nL 182.049704 187.693681 \nL 182.298049 187.54154 \nL 183.001055 187.077447 \nL 183.62789 186.675312 \nL 184.915774 185.806528 \nL 185.238832 185.551145 \nL 185.571422 185.322653 \nL 185.685147 185.22803 \nL 185.929402 185.041257 \nL 186.133104 184.868313 \nL 186.392624 184.700789 \nL 186.603052 184.509751 \nL 186.766289 184.397633 \nL 186.939526 184.239878 \nL 187.575963 183.739619 \nL 188.023721 183.343505 \nL 188.252269 183.146157 \nL 188.371864 183.060435 \nL 188.677292 182.785383 \nL 189.14421 182.339524 \nL 189.386123 182.122345 \nL 191.408629 180.239626 \nL 191.816979 179.814678 \nL 191.820686 179.820562 \nL 192.016447 179.639328 \nL 192.910042 178.625858 \nL 193.023272 178.490742 \nL 194.183619 177.126933 \nL 194.337328 176.959435 \nL 194.757445 176.44076 \nL 195.011337 176.104583 \nL 195.222541 175.791189 \nL 195.435929 175.525951 \nL 195.9023 174.874669 \nL 196.133196 174.57807 \nL 198.358017 171.285683 \nL 201.043557 166.545051 \nL 201.229388 166.198062 \nL 201.379246 165.921542 \nL 201.688463 165.301987 \nL 201.881878 164.904965 \nL 202.058493 164.565368 \nL 202.1933 164.289705 \nL 202.316988 164.044573 \nL 202.317797 164.052174 \nL 202.406752 163.863666 \nL 202.572049 163.569942 \nL 202.795972 163.093588 \nL 202.977316 162.771758 \nL 202.978028 162.773452 \nL 203.103139 162.488255 \nL 203.259544 162.166338 \nL 204.081768 160.34533 \nL 204.380285 159.576017 \nL 204.438903 159.447141 \nL 204.576142 159.151217 \nL 204.638707 158.976618 \nL 204.833203 158.451068 \nL 204.986542 158.036484 \nL 205.14135 157.648807 \nL 204.989226 158.037488 \nL 205.146019 157.649748 \nL 205.219584 157.475612 \nL 205.369828 157.044927 \nL 205.536493 156.648157 \nL 205.688286 156.270919 \nL 205.876843 155.837218 \nL 206.224452 154.97751 \nL 206.338804 154.651736 \nL 206.429244 154.427708 \nL 206.55683 154.073058 \nL 206.704742 153.737557 \nL 206.834669 153.365266 \nL 206.962379 153.07732 \nL 207.627451 151.422144 \nL 207.859082 150.845475 \nL 208.317573 149.563104 \nL 208.387203 149.321992 \nL 208.604132 148.683661 \nL 211.955974 138.424506 \nL 212.232244 137.503568 \nL 212.490856 136.616837 \nL 212.614923 136.136092 \nL 212.77649 135.639153 \nL 213.024536 134.695645 \nL 213.580333 132.821125 \nL 213.702918 132.426999 \nL 213.704026 132.436777 \nL 213.783697 132.235873 \nL 213.898106 131.873433 \nL 213.902742 131.883238 \nL 213.941362 131.707795 \nL 214.179685 130.933366 \nL 214.265487 130.610948 \nL 214.383803 130.143031 \nL 214.525039 129.749762 \nL 215.114117 127.584834 \nL 215.11782 127.586351 \nL 215.194594 127.345125 \nL 215.306355 126.860924 \nL 216.361982 123.033125 \nL 216.475276 122.52591 \nL 216.597596 122.140366 \nL 216.852366 121.292881 \nL 219.069397 112.756785 \nL 219.137902 112.365333 \nL 220.007079 108.830629 \nL 220.007942 108.840912 \nL 220.091151 108.544338 \nL 220.321757 107.592506 \nL 220.538458 106.882842 \nL 220.579112 106.696871 \nL 220.755485 105.991539 \nL 220.757268 106.001803 \nL 220.847919 105.585467 \nL 220.959277 105.000688 \nL 221.027621 104.735178 \nL 222.828289 97.359366 \nL 222.958893 96.760366 \nL 222.973157 96.770439 \nL 222.984747 96.657844 \nL 223.092072 96.355103 \nL 223.378219 95.325092 \nL 223.379192 95.335127 \nL 223.463676 95.103977 \nL 223.849458 93.731174 \nL 223.995361 93.250867 \nL 223.999264 93.260853 \nL 224.051381 93.094254 \nL 224.393411 91.673816 \nL 224.626846 90.701596 \nL 224.627792 90.711497 \nL 224.819531 89.707211 \nL 224.948502 89.336055 \nL 224.954241 89.365596 \nL 224.98463 89.088015 \nL 225.275942 88.091997 \nL 225.51481 86.959922 \nL 225.699631 86.185153 \nL 225.701652 86.194838 \nL 225.793547 85.714821 \nL 225.940957 85.229535 \nL 225.95818 85.239171 \nL 225.978815 85.139333 \nL 226.394105 83.264597 \nL 226.621 82.396167 \nL 227.151311 80.443955 \nL 227.293113 79.737531 \nL 227.295874 79.746852 \nL 227.299057 79.756177 \nL 227.334267 79.5468 \nL 227.590528 78.670366 \nL 227.671454 78.178973 \nL 227.783728 77.758311 \nL 228.833107 73.925313 \nL 228.958843 73.363918 \nL 229.644171 71.259014 \nL 229.658431 71.276548 \nL 229.685638 71.294095 \nL 229.705686 71.18431 \nL 229.817115 70.949702 \nL 229.830628 70.958479 \nL 229.870195 70.856289 \nL 229.980661 70.616875 \nL 229.990867 70.625639 \nL 230.398313 69.227214 \nL 230.403127 69.244553 \nL 230.404562 69.253227 \nL 230.469287 68.98562 \nL 230.658358 68.533635 \nL 230.808724 68.035274 \nL 230.821815 68.052445 \nL 230.83569 68.069628 \nL 230.880705 67.950719 \nL 230.989762 67.511702 \nL 231.093489 66.954509 \nL 231.096926 66.962994 \nL 231.198961 66.616553 \nL 231.27225 66.34325 \nL 231.415796 65.800462 \nL 231.422726 65.825597 \nL 231.431866 65.833981 \nL 231.45585 65.709321 \nL 231.478063 65.726074 \nL 231.609238 65.383464 \nL 231.616328 65.40018 \nL 231.628664 65.442026 \nL 231.678026 65.144077 \nL 231.680656 65.160766 \nL 232.686351 61.699127 \nL 232.705481 61.715175 \nL 232.743949 61.739271 \nL 232.771587 61.632936 \nL 232.896219 61.197113 \nL 232.897101 61.213071 \nL 233.19421 60.298491 \nL 233.200421 60.314295 \nL 233.203583 60.322202 \nL 233.24016 60.133362 \nL 233.330227 59.7375 \nL 233.355257 59.792459 \nL 233.40512 59.744197 \nL 233.406046 59.71234 \nL 233.532166 59.399425 \nL 233.533825 59.407259 \nL 233.589422 59.140533 \nL 233.725717 58.84734 \nL 233.73731 58.87069 \nL 233.975633 58.13416 \nL 233.983744 58.149604 \nL 234.079294 57.824919 \nL 234.196771 57.410614 \nL 234.204887 57.418255 \nL 234.455508 56.643545 \nL 234.456489 56.651088 \nL 234.522391 56.364726 \nL 234.522727 56.37224 \nL 234.556909 56.402327 \nL 234.587604 56.296161 \nL 234.819143 55.683422 \nL 234.868778 55.671241 \nL 234.880498 55.609532 \nL 234.986176 55.329455 \nL 235.008038 55.359159 \nL 235.148591 54.768195 \nL 235.158649 54.775548 \nL 235.293191 54.509562 \nL 235.46106 54.215247 \nL 235.501372 54.20882 \nL 235.474362 54.186895 \nL 235.51874 54.137417 \nL 235.650212 53.75835 \nL 235.650498 53.7656 \nL 237.311085 50.379184 \nL 237.343699 50.406715 \nL 237.369865 50.427397 \nL 237.376118 50.310904 \nL 237.486661 49.759872 \nL 237.723518 49.283359 \nL 237.777023 49.337129 \nL 237.819924 49.337965 \nL 237.796776 49.31101 \nL 237.860804 49.265393 \nL 237.964051 49.100281 \nL 237.97227 49.106992 \nL 238.043734 49.014238 \nL 238.284092 48.686822 \nL 238.343701 48.626159 \nL 238.471022 48.211743 \nL 238.487901 48.238258 \nL 238.503064 48.251534 \nL 238.525327 48.128997 \nL 238.716511 47.563551 \nL 238.812003 47.594138 \nL 238.836328 47.517794 \nL 239.027774 47.022055 \nL 239.02852 47.028508 \nL 239.084839 46.996463 \nL 239.092248 46.960996 \nL 239.258666 46.488673 \nL 239.266584 46.495079 \nL 239.294621 46.416464 \nL 239.320478 46.429256 \nL 239.423939 46.053262 \nL 239.435313 46.059598 \nL 239.441232 46.065937 \nL 239.451046 45.980188 \nL 239.489765 45.962559 \nL 239.597441 45.735844 \nL 239.651974 45.779926 \nL 239.66225 45.656532 \nL 239.807299 45.24746 \nL 239.82556 45.259898 \nL 239.856455 45.278578 \nL 239.870415 45.197433 \nL 239.984262 44.826729 \nL 240.013908 44.851373 \nL 240.412683 44.047576 \nL 240.520887 43.819457 \nL 240.586803 43.759092 \nL 240.684317 43.631703 \nL 240.701381 43.637702 \nL 240.706376 43.643704 \nL 240.738143 43.513163 \nL 240.75219 43.531105 \nL 240.765806 43.400207 \nL 240.773769 43.406166 \nL 240.998253 42.77708 \nL 241.025571 42.794638 \nL 241.064268 42.707864 \nL 241.086353 42.719549 \nL 241.190343 42.411403 \nL 241.208007 42.417198 \nL 241.215245 42.422995 \nL 241.234862 42.329547 \nL 241.24786 42.352681 \nL 241.296501 42.311656 \nL 241.35703 42.346403 \nL 241.441876 42.123116 \nL 241.517501 42.027725 \nL 241.552576 42.039217 \nL 241.562353 42.056478 \nL 241.608374 41.931769 \nL 241.643213 41.948985 \nL 241.65791 41.859848 \nL 241.827321 41.583559 \nL 241.832355 41.594917 \nL 242.18933 40.707124 \nL 242.189516 40.712646 \nL 242.222374 40.62063 \nL 242.277706 40.642667 \nL 242.364097 40.392756 \nL 242.383887 40.409172 \nL 242.501173 40.403833 \nL 242.509553 40.354556 \nL 242.627927 40.079195 \nL 242.63666 40.100941 \nL 242.719772 40.055835 \nL 242.844826 39.743657 \nL 242.892501 39.78681 \nL 242.906848 39.691626 \nL 242.920343 39.7024 \nL 243.082084 39.301004 \nL 243.102385 39.327568 \nL 243.360554 39.345604 \nL 243.496934 39.127789 \nL 243.515735 39.076067 \nL 243.588699 39.140351 \nL 243.775334 38.740604 \nL 243.892627 38.546664 \nL 243.932054 38.583593 \nL 243.967908 38.477975 \nL 243.978529 38.493764 \nL 244.089642 38.408921 \nL 244.209262 37.971742 \nL 244.21358 37.987202 \nL 244.348017 37.980165 \nL 244.358141 37.926548 \nL 244.442662 37.752654 \nL 244.463204 37.773172 \nL 244.491258 37.670346 \nL 244.565253 37.711322 \nL 244.623501 37.569167 \nL 244.678294 37.625478 \nL 244.795722 37.617228 \nL 244.798236 37.562594 \nL 244.809098 37.453226 \nL 244.901978 37.530139 \nL 245.054453 37.523225 \nL 245.187568 37.241791 \nL 245.189206 37.246915 \nL 245.287602 37.176324 \nL 245.440568 36.880707 \nL 245.466719 36.895872 \nL 245.493804 36.921209 \nL 245.556264 36.720649 \nL 245.571831 36.669079 \nL 245.66468 36.687769 \nL 245.824232 36.400372 \nL 245.835011 36.415331 \nL 245.847808 36.362951 \nL 245.944034 36.397872 \nL 246.042792 36.169104 \nL 246.229195 36.122442 \nL 246.381203 35.792036 \nL 246.397341 35.796933 \nL 246.402045 35.738158 \nL 246.500587 35.550945 \nL 246.523111 35.555789 \nL 246.758892 35.5489 \nL 246.904746 35.219168 \nL 246.956338 35.25762 \nL 247.109793 35.180492 \nL 247.125803 35.059706 \nL 247.183557 35.088409 \nL 248.477714 33.367737 \nL 248.500799 33.389878 \nL 248.811161 33.33013 \nL 248.887119 33.027359 \nL 248.947103 33.053667 \nL 249.033936 33.097762 \nL 249.03417 33.032252 \nL 249.105006 32.870252 \nL 249.255719 32.803605 \nL 249.338036 32.652061 \nL 249.366319 32.665076 \nL 249.39701 32.678118 \nL 249.420895 32.619967 \nL 249.499521 32.318819 \nL 249.535264 32.331574 \nL 249.545426 32.340093 \nL 249.547542 32.272646 \nL 249.5953 32.28963 \nL 249.611567 32.222041 \nL 249.708714 32.273012 \nL 249.835432 32.281976 \nL 249.84424 32.213589 \nL 249.926581 31.916819 \nL 250.001189 31.954666 \nL 250.024658 31.967338 \nL 250.035297 31.898098 \nL 250.037141 31.902304 \nL 250.100062 31.780282 \nL 250.171626 31.80956 \nL 250.232523 31.790126 \nL 250.241664 31.724275 \nL 250.323643 31.393528 \nL 250.349502 31.401687 \nL 250.636844 31.374635 \nL 250.762741 31.268572 \nL 250.775726 31.289088 \nL 250.941368 31.274748 \nL 251.048857 31.005517 \nL 251.155906 31.041999 \nL 251.170198 30.977227 \nL 251.219098 30.908279 \nL 251.287442 30.924398 \nL 251.371331 30.973061 \nL 251.381319 30.903622 \nL 251.492499 30.710585 \nL 251.565471 30.734583 \nL 251.567072 30.660478 \nL 251.676423 30.633985 \nL 251.766468 30.370439 \nL 251.802526 30.393937 \nL 252.25602 30.404696 \nL 252.330039 30.279224 \nL 252.363902 30.291126 \nL 252.748922 30.292203 \nL 252.761571 30.213935 \nL 252.860687 30.274452 \nL 252.958795 30.339847 \nL 252.99021 30.268715 \nL 253.086623 30.046211 \nL 253.113883 30.050221 \nL 253.152693 30.07032 \nL 253.162647 29.994359 \nL 253.28025 29.873688 \nL 253.295853 29.877659 \nL 253.36602 29.925566 \nL 253.396852 29.860564 \nL 253.501772 29.733673 \nL 253.662366 29.703382 \nL 253.670592 29.539105 \nL 253.766329 29.597997 \nL 254.01724 29.594277 \nL 254.130705 29.382444 \nL 254.232491 29.445546 \nL 254.281809 29.380585 \nL 254.563892 29.452332 \nL 254.573252 29.366729 \nL 254.679158 29.382683 \nL 254.865492 29.388867 \nL 255.472314 29.422401 \nL 255.563148 29.269019 \nL 255.569732 29.277232 \nL 255.726666 29.232826 \nL 255.726959 29.142883 \nL 255.828735 29.192027 \nL 255.865224 29.216812 \nL 255.866656 29.126041 \nL 255.924305 28.869137 \nL 255.976952 28.889141 \nL 256.270757 28.902125 \nL 256.318518 28.71663 \nL 256.381 28.736593 \nL 256.446122 28.667313 \nL 256.565707 28.440932 \nL 256.570259 28.444837 \nL 256.647685 28.369791 \nL 256.671732 28.092831 \nL 256.758739 28.134339 \nL 256.898827 28.195541 \nL 257.135013 28.164511 \nL 257.14464 28.067258 \nL 257.244156 28.098008 \nL 257.563728 28.136107 \nL 257.576518 28.036549 \nL 257.661567 28.083669 \nL 257.890766 28.038418 \nL 257.974076 27.878789 \nL 257.984568 27.882692 \nL 258.396607 27.938245 \nL 258.44694 27.838026 \nL 258.517629 27.881992 \nL 258.741796 27.865337 \nL 258.75348 27.759012 \nL 258.851953 27.819615 \nL 259.225329 27.834862 \nL 259.231335 27.725654 \nL 259.306013 27.746189 \nL 259.853077 27.8976 \nL 259.864258 27.906199 \nL 259.869702 27.794207 \nL 259.910236 27.806954 \nL 259.99021 27.724111 \nL 259.992698 27.611215 \nL 260.080272 27.653095 \nL 260.81386 27.770847 \nL 260.851981 27.540071 \nL 260.908585 27.552977 \nL 261.416525 27.743372 \nL 261.456203 27.757045 \nL 261.462382 27.635684 \nL 261.47884 27.644679 \nL 261.561141 27.563101 \nL 261.687644 26.746001 \nL 261.717897 26.750005 \nL 261.871757 26.82298 \nL 261.875215 26.697013 \nL 262.151137 26.638645 \nL 262.203401 26.390849 \nL 262.243842 26.394728 \nL 262.674599 26.414566 \nL 262.811358 26.298562 \nL 262.8218 26.306439 \nL 262.921926 26.354162 \nL 262.922763 26.220686 \nL 263.024041 26.252222 \nL 263.083525 26.272112 \nL 263.13467 25.881908 \nL 263.202917 25.915751 \nL 263.578575 25.934946 \nL 263.585818 25.794128 \nL 263.670159 25.817115 \nL 264.119085 25.810088 \nL 264.260015 25.687746 \nL 264.264296 25.691625 \nL 264.359486 25.734681 \nL 264.368725 25.587013 \nL 264.476295 25.617898 \nL 264.530188 25.633484 \nL 264.55142 25.484252 \nL 264.65832 25.510968 \nL 265.228041 25.506516 \nL 265.230004 25.351543 \nL 265.336994 25.394079 \nL 265.661588 25.485517 \nL 265.712274 25.329966 \nL 265.789031 25.365594 \nL 266.309192 25.505153 \nL 266.34559 25.522109 \nL 266.347634 25.355927 \nL 266.445205 25.384901 \nL 266.5822 25.431147 \nL 266.583847 25.262119 \nL 266.673462 25.278578 \nL 266.712584 25.286851 \nL 266.818386 24.957734 \nL 266.86161 24.984999 \nL 267.089867 25.064806 \nL 267.198893 24.721317 \nL 267.205995 24.725086 \nL 267.23468 24.728861 \nL 267.247759 24.552252 \nL 267.344886 24.592486 \nL 268.669792 24.903003 \nL 268.6819 24.710767 \nL 268.769038 24.74385 \nL 268.832938 24.752204 \nL 268.846525 24.557691 \nL 268.92614 24.565695 \nL 269.888911 24.745935 \nL 270.107736 24.808192 \nL 270.116812 24.601256 \nL 270.206864 24.631562 \nL 270.681533 24.78551 \nL 270.692548 24.568816 \nL 270.772973 24.586747 \nL 271.552207 24.755694 \nL 272.110358 24.907774 \nL 272.217903 24.682486 \nL 272.268424 24.712698 \nL 272.507982 24.769261 \nL 272.540831 24.52796 \nL 272.601425 24.552704 \nL 272.911449 24.613378 \nL 272.927418 24.366338 \nL 272.970801 24.380868 \nL 273.518585 24.522067 \nL 273.834866 24.624015 \nL 273.855887 24.359801 \nL 273.944108 24.37532 \nL 274.197681 24.406742 \nL 274.206864 24.138574 \nL 274.306169 24.168322 \nL 274.627764 24.234516 \nL 274.663087 23.681644 \nL 274.69107 23.69494 \nL 275.663668 23.868835 \nL 276.007095 23.939811 \nL 278.877605 24.656298 \nL 278.908924 24.293002 \nL 278.999381 24.32105 \nL 280.126373 24.6103 \nL 280.827602 24.781284 \nL 281.199589 24.891026 \nL 281.224799 24.468752 \nL 281.2887 24.502982 \nL 281.358908 24.511634 \nL 281.372601 24.082914 \nL 281.477461 24.106295 \nL 282.30433 24.340581 \nL 282.335247 23.87879 \nL 282.393889 23.902496 \nL 282.541442 23.926546 \nL 282.713106 23.018479 \nL 284.104446 23.219759 \nL 284.138765 22.698173 \nL 285.597552 22.875917 \nL 285.886591 22.951411 \nL 286.06493 22.370165 \nL 290.557018 22.994724 \nL 291.495304 23.196533 \nL 293.167825 23.519912 \nL 293.287145 23.594436 \nL 296.761133 24.290684 \nL 298.162484 24.460287 \nL 298.271263 24.485792 \nL 298.353461 23.202301 \nL 298.43427 23.219759 \nL 300.200245 23.469902 \nL 301.455819 23.721878 \nL 301.953465 23.87879 \nL 302.017114 23.90648 \nL 303.100605 24.052219 \nL 303.228022 24.178349 \nL 303.428642 22.397482 \nL 305.748541 22.732649 \nL 305.998835 22.805088 \nL 306.485412 22.882581 \nL 307.337015 23.024491 \nL 307.385461 23.086284 \nL 308.122107 23.291982 \nL 308.172575 23.368273 \nL 309.389544 23.721878 \nL 310.403206 23.93464 \nL 312.136626 24.385736 \nL 312.316744 24.53782 \nL 314.406127 24.881662 \nL 314.651793 25.077027 \nL 316.114738 25.405812 \nL 316.174871 25.78651 \nL 316.566944 25.927128 \nL 316.738598 26.398613 \nL 318.809558 26.762049 \nL 319.145979 26.961352 \nL 319.536441 20.583636 \nL 349.684943 20.583636 \nL 349.684943 20.583636 \n\" style=\"fill:none;stroke:#0000ff;stroke-dasharray:5.55,2.4;stroke-dashoffset:0;stroke-width:1.5;\"/>\n   </g>\n   <g id=\"line2d_14\">\n    <path clip-path=\"url(#pd88e1d916c)\" d=\"M 45.321307 20.583636 \nL 45.543732 20.620107 \nL 89.852305 20.72952 \nL 90.051308 20.765991 \nL 98.75817 20.875404 \nL 99.046716 20.911875 \nL 111.379603 21.021288 \nL 111.487064 21.057759 \nL 124.49704 21.167172 \nL 124.615847 21.203643 \nL 130.068971 21.313056 \nL 130.185735 21.349527 \nL 137.689081 21.45894 \nL 137.800822 21.495411 \nL 142.100181 21.604824 \nL 142.213577 21.641295 \nL 147.450661 21.750708 \nL 147.561755 21.787179 \nL 151.231709 21.896592 \nL 151.351903 21.933063 \nL 155.833457 22.042476 \nL 155.939069 22.078947 \nL 157.684161 22.18836 \nL 157.798162 22.224831 \nL 160.030037 22.334244 \nL 160.145854 22.370715 \nL 164.414712 22.480127 \nL 164.526945 22.516598 \nL 164.743343 22.626011 \nL 164.849151 22.662482 \nL 167.434791 22.771895 \nL 167.546663 22.808366 \nL 170.162443 22.917779 \nL 170.273615 22.95425 \nL 171.887539 23.063663 \nL 172.002506 23.136605 \nL 173.787095 23.246018 \nL 173.900189 23.282489 \nL 174.57443 23.391902 \nL 174.683054 23.464844 \nL 175.740076 23.574257 \nL 175.870629 23.647199 \nL 177.212863 23.756612 \nL 177.323849 23.793083 \nL 178.486622 23.902496 \nL 178.595743 23.938967 \nL 179.49046 24.04838 \nL 179.597341 24.121322 \nL 181.359179 24.230735 \nL 181.468622 24.267206 \nL 182.684268 24.376619 \nL 182.798641 24.41309 \nL 183.964272 24.522503 \nL 184.080425 24.595444 \nL 184.878364 24.704857 \nL 184.985254 24.777799 \nL 185.732816 24.887212 \nL 185.846157 24.960154 \nL 186.35726 25.069567 \nL 186.468016 25.106038 \nL 186.62997 25.215451 \nL 186.738215 25.288393 \nL 188.271663 25.397806 \nL 188.383244 25.434277 \nL 189.579261 25.54369 \nL 189.689241 25.580161 \nL 190.018959 25.689574 \nL 190.133264 25.726045 \nL 190.644549 25.835458 \nL 190.754561 25.9084 \nL 191.312429 26.017813 \nL 191.426824 26.054284 \nL 191.76624 26.163697 \nL 191.880521 26.236639 \nL 192.585746 26.346052 \nL 192.698608 26.382523 \nL 193.255946 26.491936 \nL 193.364903 26.528407 \nL 193.938646 26.63782 \nL 194.050862 26.747232 \nL 194.920886 26.856645 \nL 195.034165 26.893116 \nL 195.588869 27.002529 \nL 195.702233 27.075471 \nL 196.369367 27.184884 \nL 196.480794 27.294297 \nL 196.867133 27.40371 \nL 196.97821 27.476652 \nL 197.440525 27.586065 \nL 197.552189 27.622536 \nL 197.849455 27.731949 \nL 197.961561 27.76842 \nL 198.328575 27.877833 \nL 198.439333 27.950775 \nL 198.952281 28.060188 \nL 199.067203 28.169601 \nL 199.228047 28.279014 \nL 199.338924 28.388427 \nL 199.848128 28.49784 \nL 199.957756 28.534311 \nL 200.604805 28.643724 \nL 200.717086 28.753137 \nL 201.117906 28.862549 \nL 201.229132 29.008433 \nL 201.65494 29.117846 \nL 201.772233 29.227259 \nL 202.221246 29.336672 \nL 202.343884 29.482556 \nL 202.534384 29.591969 \nL 202.648153 29.701382 \nL 202.884693 29.810795 \nL 202.996072 29.920208 \nL 203.861265 30.029621 \nL 203.973336 30.175505 \nL 204.265013 30.284918 \nL 204.374504 30.35786 \nL 204.572667 30.467273 \nL 204.682672 30.540215 \nL 205.066384 30.649628 \nL 205.178657 30.759041 \nL 205.558411 30.868454 \nL 205.690617 31.014337 \nL 205.948688 31.12375 \nL 206.062462 31.160221 \nL 206.479768 31.269634 \nL 206.593562 31.379047 \nL 207.047619 31.48846 \nL 207.158165 31.597873 \nL 207.436221 31.707286 \nL 207.550114 31.780228 \nL 207.845002 31.889641 \nL 207.955586 31.999054 \nL 208.117661 32.108467 \nL 208.234538 32.21788 \nL 208.277058 32.327293 \nL 208.415344 32.436706 \nL 208.545118 32.546119 \nL 208.664145 32.764945 \nL 208.881532 32.874358 \nL 208.992108 33.020242 \nL 209.201171 33.129654 \nL 209.316668 33.275538 \nL 209.675334 33.384951 \nL 209.787146 33.603777 \nL 210.017397 33.71319 \nL 210.132825 33.859074 \nL 210.249432 33.968487 \nL 210.367606 34.187313 \nL 210.517542 34.296726 \nL 210.62664 34.406139 \nL 210.822402 34.515552 \nL 210.93864 34.661436 \nL 211.113649 34.770849 \nL 211.233879 34.989675 \nL 211.279331 35.099088 \nL 211.394731 35.208501 \nL 211.515416 35.317913 \nL 211.629411 35.427326 \nL 211.87404 35.536739 \nL 211.986111 35.719094 \nL 212.187228 35.828507 \nL 212.298262 35.901449 \nL 212.459583 36.010862 \nL 212.568977 36.083804 \nL 212.639274 36.193217 \nL 212.766253 36.412043 \nL 213.115677 36.521456 \nL 213.227689 36.66734 \nL 213.371221 36.776753 \nL 213.484945 36.813224 \nL 213.568138 36.922637 \nL 213.691037 37.068521 \nL 213.791504 37.177934 \nL 213.915013 37.360288 \nL 214.056344 37.469701 \nL 214.18958 37.579114 \nL 214.290918 37.688527 \nL 214.411104 37.834411 \nL 214.566391 37.943824 \nL 214.739747 38.16265 \nL 214.936388 38.272063 \nL 215.046681 38.563831 \nL 215.179584 38.673244 \nL 215.295585 38.819128 \nL 215.404784 38.928541 \nL 215.533589 39.147367 \nL 215.734416 39.25678 \nL 215.850708 39.439135 \nL 215.980888 39.548547 \nL 216.088662 39.65796 \nL 216.165643 39.767373 \nL 216.279099 39.876786 \nL 216.37757 39.986199 \nL 216.487502 40.168554 \nL 216.514913 40.277967 \nL 216.632438 40.533264 \nL 216.699607 40.642677 \nL 216.822803 40.825032 \nL 216.892154 40.934445 \nL 217.015516 41.080329 \nL 217.290124 41.189742 \nL 217.402546 41.262684 \nL 217.558428 41.372097 \nL 217.670957 41.590923 \nL 217.754475 41.700335 \nL 217.878481 41.88269 \nL 217.897399 41.992103 \nL 218.009 42.283871 \nL 218.065367 42.393284 \nL 218.180194 42.575639 \nL 218.325459 42.685052 \nL 218.445953 42.867407 \nL 218.562858 42.97682 \nL 218.683641 43.268588 \nL 218.754358 43.378001 \nL 218.865013 43.450943 \nL 218.947643 43.560356 \nL 219.064914 43.74271 \nL 219.212079 43.852123 \nL 219.385899 44.034478 \nL 219.537051 44.143891 \nL 219.6603 44.289775 \nL 219.748044 44.399188 \nL 219.884475 44.618014 \nL 219.919848 44.727427 \nL 220.161652 45.420376 \nL 220.424572 45.529789 \nL 220.538458 45.639202 \nL 220.67285 45.748615 \nL 220.789867 45.930969 \nL 220.851744 46.040382 \nL 220.959277 46.149795 \nL 221.06058 46.259208 \nL 221.177297 46.368621 \nL 221.357897 46.478034 \nL 221.466757 46.587447 \nL 221.56979 46.69686 \nL 221.704958 46.915686 \nL 221.836381 47.025099 \nL 221.868322 47.134512 \nL 221.986025 47.353338 \nL 222.009737 47.462751 \nL 222.137626 47.645106 \nL 222.23919 47.754519 \nL 222.570951 48.301583 \nL 222.700001 48.410996 \nL 222.813224 48.593351 \nL 222.910242 48.702764 \nL 223.019454 48.775706 \nL 223.126068 48.885119 \nL 223.233669 49.103945 \nL 223.299359 49.213358 \nL 223.43797 49.541597 \nL 223.555257 49.65101 \nL 223.676983 49.942778 \nL 223.776326 50.052191 \nL 223.887985 50.234545 \nL 223.969686 50.343958 \nL 225.436809 52.823985 \nL 225.502795 52.933398 \nL 225.611738 53.079282 \nL 225.699631 53.188695 \nL 225.816975 53.37105 \nL 225.88934 53.480463 \nL 226.000238 53.699289 \nL 226.157649 53.808702 \nL 226.283617 54.063999 \nL 226.369274 54.173412 \nL 226.475076 54.465179 \nL 226.704359 54.829889 \nL 226.7726 54.939302 \nL 226.889493 55.267541 \nL 226.927342 55.376954 \nL 227.060551 55.705193 \nL 227.197757 55.814606 \nL 227.234507 55.924019 \nL 227.34738 56.215787 \nL 227.468677 56.3252 \nL 227.599365 56.72638 \nL 227.715908 56.835793 \nL 227.825255 57.346387 \nL 227.877887 57.4558 \nL 228.015736 57.856981 \nL 228.162872 57.966394 \nL 228.302898 58.258162 \nL 228.366827 58.367575 \nL 228.487037 58.732284 \nL 228.527773 58.841697 \nL 228.726154 59.206407 \nL 228.771758 59.31582 \nL 228.896683 59.68053 \nL 228.935244 59.789943 \nL 229.041082 60.04524 \nL 229.099507 60.154653 \nL 229.351311 60.738189 \nL 229.388622 60.847601 \nL 229.515743 61.17584 \nL 229.53543 61.285253 \nL 230.920083 65.297061 \nL 231.011457 65.406474 \nL 231.702401 67.558262 \nL 231.881892 68.105327 \nL 231.93793 68.21474 \nL 232.223369 69.053573 \nL 232.251616 69.162986 \nL 232.399973 69.600637 \nL 233.137724 71.460657 \nL 233.159072 71.57007 \nL 233.355257 72.481845 \nL 233.418527 72.773613 \nL 233.776379 73.904213 \nL 233.872215 74.123039 \nL 233.949464 74.451278 \nL 234.065108 74.815988 \nL 234.112617 74.925401 \nL 234.522727 76.056001 \nL 235.967972 80.177222 \nL 236.015089 80.286635 \nL 236.369165 81.19841 \nL 236.407119 81.307823 \nL 236.634825 82.073714 \nL 236.69625 82.183126 \nL 237.289089 84.079618 \nL 237.328076 84.189031 \nL 238.203225 86.486702 \nL 238.326766 86.77847 \nL 238.365853 86.887883 \nL 238.538279 87.690245 \nL 239.08453 89.112613 \nL 239.199363 89.696149 \nL 239.206488 89.805562 \nL 242.688896 100.600973 \nL 242.834039 101.038625 \nL 242.857166 101.148038 \nL 244.039234 105.597497 \nL 244.117519 105.70691 \nL 244.348017 106.399859 \nL 244.373116 106.509272 \nL 244.491792 106.910453 \nL 244.562915 107.129279 \nL 244.678294 107.712814 \nL 244.784042 107.968111 \nL 244.985889 109.02577 \nL 245.691232 111.469326 \nL 245.985485 112.344629 \nL 246.015443 112.454042 \nL 246.117681 112.855223 \nL 246.195023 113.037578 \nL 246.319106 113.438759 \nL 246.995348 115.517605 \nL 247.038764 115.627018 \nL 247.288819 116.210554 \nL 247.489379 116.721147 \nL 248.284206 119.091761 \nL 248.348972 119.201174 \nL 248.567461 119.930594 \nL 248.658338 120.331775 \nL 248.898519 121.207078 \nL 248.988948 121.498846 \nL 249.195819 122.447092 \nL 249.269236 122.629446 \nL 249.630456 123.942402 \nL 249.679455 124.124757 \nL 249.935652 125.36477 \nL 254.230314 140.536699 \nL 254.349808 140.901409 \nL 254.504763 141.30259 \nL 254.623041 141.521416 \nL 254.703388 141.703771 \nL 255.390333 144.074384 \nL 255.449724 144.183797 \nL 255.744466 145.059101 \nL 255.828735 145.38734 \nL 256.33118 146.919121 \nL 256.391919 147.101476 \nL 257.007871 149.399148 \nL 257.291834 150.165039 \nL 257.686865 151.733291 \nL 258.201463 153.228601 \nL 258.422262 154.103905 \nL 258.497841 154.395673 \nL 258.609665 154.760382 \nL 258.838229 155.745099 \nL 259.0281 156.438048 \nL 259.306013 157.167467 \nL 259.389812 157.349822 \nL 259.557411 157.714532 \nL 259.734787 158.188655 \nL 259.910236 158.662778 \nL 260.039459 159.100429 \nL 260.304097 160.048675 \nL 260.417655 160.267501 \nL 261.35451 162.783999 \nL 261.463111 163.112238 \nL 261.812634 164.169896 \nL 261.875215 164.571077 \nL 262.020075 164.753432 \nL 262.154746 165.191084 \nL 262.638843 166.504039 \nL 262.751609 166.795807 \nL 262.838415 166.978162 \nL 262.965707 167.452284 \nL 263.07089 167.744052 \nL 263.363317 168.911124 \nL 263.509445 169.567601 \nL 263.560973 169.677014 \nL 263.711828 170.114666 \nL 264.157976 171.281738 \nL 264.323554 171.646448 \nL 264.496883 172.302925 \nL 268.106294 181.01949 \nL 268.237915 181.238316 \nL 268.92614 182.806568 \nL 269.06181 183.025394 \nL 269.246598 183.390104 \nL 269.358837 183.572459 \nL 270.677554 186.271312 \nL 270.772973 186.526609 \nL 270.98957 186.781905 \nL 274.096664 192.325495 \nL 274.268278 192.544321 \nL 274.759766 193.237269 \nL 275.222609 193.820805 \nL 275.344463 194.258457 \nL 275.617671 194.513754 \nL 275.964967 194.914935 \nL 276.070725 195.13376 \nL 276.268438 195.316115 \nL 276.359508 195.571412 \nL 276.540893 195.86318 \nL 277.067982 196.629071 \nL 277.228534 196.920839 \nL 277.923813 197.7232 \nL 278.691536 198.963214 \nL 278.84533 199.18204 \nL 279.758542 200.349111 \nL 279.868457 200.531466 \nL 280.280136 200.859705 \nL 280.412072 201.115002 \nL 281.372601 202.099718 \nL 281.539476 202.318544 \nL 282.660968 203.631499 \nL 282.800422 203.886796 \nL 283.148365 204.069151 \nL 283.451452 204.39739 \nL 284.373166 204.980926 \nL 284.475316 205.053868 \nL 284.623537 205.163281 \nL 285.055625 205.527991 \nL 285.29995 205.710346 \nL 285.644673 205.965642 \nL 286.23755 206.403294 \nL 286.50585 206.549178 \nL 286.513043 206.585649 \nL 286.775895 206.768004 \nL 286.882648 206.877417 \nL 287.890229 207.497424 \nL 288.279275 207.643308 \nL 288.5498 207.898604 \nL 289.309543 208.372727 \nL 289.445525 208.48214 \nL 289.782234 208.737437 \nL 289.928559 208.919792 \nL 290.391824 209.248031 \nL 290.475647 209.320973 \nL 291.039499 209.868038 \nL 291.439966 210.086863 \nL 292.148925 210.451573 \nL 292.307265 210.597457 \nL 292.323751 210.670399 \nL 293.019294 210.925696 \nL 293.230709 211.108051 \nL 293.471527 211.326877 \nL 295.356818 212.129239 \nL 296.192624 212.384535 \nL 296.647731 212.530419 \nL 296.761133 212.56689 \nL 298.095752 212.749245 \nL 298.353461 212.858658 \nL 299.237944 213.223368 \nL 300.464891 213.478665 \nL 302.017114 214.02573 \nL 302.796497 214.171614 \nL 303.187402 214.317497 \nL 303.228022 214.353968 \nL 303.785629 214.463381 \nL 307.597385 215.484569 \nL 307.62314 215.557511 \nL 308.493748 215.812808 \nL 308.589723 215.88575 \nL 310.403206 216.177518 \nL 316.635088 217.052821 \nL 316.738598 217.089292 \nL 320.541881 217.308118 \nL 320.575795 217.344589 \nL 322.270541 217.490473 \nL 323.983952 217.636357 \nL 325.509233 217.709299 \nL 330.392633 217.964596 \nL 331.145634 218.074009 \nL 349.684943 218.256364 \nL 349.684943 218.256364 \n\" style=\"fill:none;stroke:#008000;stroke-linecap:square;stroke-width:1.5;\"/>\n   </g>\n   <g id=\"patch_3\">\n    <path d=\"M 30.103125 228.14 \nL 30.103125 10.7 \n\" style=\"fill:none;stroke:#000000;stroke-linecap:square;stroke-linejoin:miter;stroke-width:0.8;\"/>\n   </g>\n   <g id=\"patch_4\">\n    <path d=\"M 364.903125 228.14 \nL 364.903125 10.7 \n\" style=\"fill:none;stroke:#000000;stroke-linecap:square;stroke-linejoin:miter;stroke-width:0.8;\"/>\n   </g>\n   <g id=\"patch_5\">\n    <path d=\"M 30.103125 228.14 \nL 364.903125 228.14 \n\" style=\"fill:none;stroke:#000000;stroke-linecap:square;stroke-linejoin:miter;stroke-width:0.8;\"/>\n   </g>\n   <g id=\"patch_6\">\n    <path d=\"M 30.103125 10.7 \nL 364.903125 10.7 \n\" style=\"fill:none;stroke:#000000;stroke-linecap:square;stroke-linejoin:miter;stroke-width:0.8;\"/>\n   </g>\n  </g>\n </g>\n <defs>\n  <clipPath id=\"pd88e1d916c\">\n   <rect height=\"217.44\" width=\"334.8\" x=\"30.103125\" y=\"10.7\"/>\n  </clipPath>\n </defs>\n</svg>\n",
      "image/png": "[encoded data removed]"
     },
     "metadata": {
      "needs_background": "light"
     }
    }
   ],
   "source": [
    "def plot_precision_recall_vs_threshold(precisions, recalls, thresholds):\n",
    "    plt.plot(thresholds, precisions[:-1], \"b--\", label=\"Precision\")\n",
    "    plt.plot(thresholds, recalls[:-1], \"g-\", label=\"Recall\")\n",
    "    # ...highlight the threshold and add the legend, axis label, and grid\n",
    "\n",
    "plot_precision_recall_vs_threshold(precisions, recalls, thresholds)\n",
    "plt.show()"
   ]
  },
  {
   "cell_type": "code",
   "execution_count": 31,
   "metadata": {},
   "outputs": [],
   "source": [
    "threshold_90_precision = thresholds[np.argmax(precisions >= 0.9)]"
   ]
  },
  {
   "cell_type": "code",
   "execution_count": 32,
   "metadata": {},
   "outputs": [
    {
     "output_type": "execute_result",
     "data": {
      "text/plain": [
       "124997.76937872983"
      ]
     },
     "metadata": {},
     "execution_count": 32
    }
   ],
   "source": [
    "threshold_90_precision"
   ]
  },
  {
   "cell_type": "code",
   "execution_count": 33,
   "metadata": {},
   "outputs": [],
   "source": [
    "y_train_pred_90 = (y_scores >= threshold_90_precision)"
   ]
  },
  {
   "cell_type": "code",
   "execution_count": 34,
   "metadata": {},
   "outputs": [
    {
     "output_type": "execute_result",
     "data": {
      "text/plain": [
       "0.9"
      ]
     },
     "metadata": {},
     "execution_count": 34
    }
   ],
   "source": [
    "precision_score(y_train_5, y_train_pred_90)"
   ]
  },
  {
   "cell_type": "code",
   "execution_count": 35,
   "metadata": {},
   "outputs": [
    {
     "output_type": "execute_result",
     "data": {
      "text/plain": [
       "0.5993359158826784"
      ]
     },
     "metadata": {},
     "execution_count": 35
    }
   ],
   "source": [
    "recall_score(y_train_5, y_train_pred_90)"
   ]
  },
  {
   "cell_type": "code",
   "execution_count": 36,
   "metadata": {},
   "outputs": [],
   "source": [
    "### ROC!!"
   ]
  },
  {
   "cell_type": "code",
   "execution_count": 37,
   "metadata": {},
   "outputs": [],
   "source": [
    "from sklearn.metrics import roc_curve\n",
    "fpr, tpr, thresholds = roc_curve(y_train_5, y_scores)"
   ]
  },
  {
   "cell_type": "code",
   "execution_count": 38,
   "metadata": {},
   "outputs": [
    {
     "output_type": "display_data",
     "data": {
      "text/plain": "<Figure size 432x288 with 1 Axes>",
      "image/svg+xml": "<?xml version=\"1.0\" encoding=\"utf-8\" standalone=\"no\"?>\n<!DOCTYPE svg PUBLIC \"-//W3C//DTD SVG 1.1//EN\"\n  \"http://www.w3.org/Graphics/SVG/1.1/DTD/svg11.dtd\">\n<!-- Created with matplotlib (https://matplotlib.org/) -->\n<svg height=\"252.018125pt\" version=\"1.1\" viewBox=\"0 0 375.603125 252.018125\" width=\"375.603125pt\" xmlns=\"http://www.w3.org/2000/svg\" xmlns:xlink=\"http://www.w3.org/1999/xlink\">\n <defs>\n  <style type=\"text/css\">\n*{stroke-linecap:butt;stroke-linejoin:round;}\n  </style>\n </defs>\n <g id=\"figure_1\">\n  <g id=\"patch_1\">\n   <path d=\"M 0 252.018125 \nL 375.603125 252.018125 \nL 375.603125 0 \nL 0 0 \nz\n\" style=\"fill:none;\"/>\n  </g>\n  <g id=\"axes_1\">\n   <g id=\"patch_2\">\n    <path d=\"M 30.103125 228.14 \nL 364.903125 228.14 \nL 364.903125 10.7 \nL 30.103125 10.7 \nz\n\" style=\"fill:#ffffff;\"/>\n   </g>\n   <g id=\"matplotlib.axis_1\">\n    <g id=\"xtick_1\">\n     <g id=\"line2d_1\">\n      <defs>\n       <path d=\"M 0 0 \nL 0 3.5 \n\" id=\"m2c126c933b\" style=\"stroke:#000000;stroke-width:0.8;\"/>\n      </defs>\n      <g>\n       <use style=\"stroke:#000000;stroke-width:0.8;\" x=\"45.321307\" xlink:href=\"#m2c126c933b\" y=\"228.14\"/>\n      </g>\n     </g>\n     <g id=\"text_1\">\n      <!-- 0.0 -->\n      <defs>\n       <path d=\"M 31.78125 66.40625 \nQ 24.171875 66.40625 20.328125 58.90625 \nQ 16.5 51.421875 16.5 36.375 \nQ 16.5 21.390625 20.328125 13.890625 \nQ 24.171875 6.390625 31.78125 6.390625 \nQ 39.453125 6.390625 43.28125 13.890625 \nQ 47.125 21.390625 47.125 36.375 \nQ 47.125 51.421875 43.28125 58.90625 \nQ 39.453125 66.40625 31.78125 66.40625 \nz\nM 31.78125 74.21875 \nQ 44.046875 74.21875 50.515625 64.515625 \nQ 56.984375 54.828125 56.984375 36.375 \nQ 56.984375 17.96875 50.515625 8.265625 \nQ 44.046875 -1.421875 31.78125 -1.421875 \nQ 19.53125 -1.421875 13.0625 8.265625 \nQ 6.59375 17.96875 6.59375 36.375 \nQ 6.59375 54.828125 13.0625 64.515625 \nQ 19.53125 74.21875 31.78125 74.21875 \nz\n\" id=\"DejaVuSans-48\"/>\n       <path d=\"M 10.6875 12.40625 \nL 21 12.40625 \nL 21 0 \nL 10.6875 0 \nz\n\" id=\"DejaVuSans-46\"/>\n      </defs>\n      <g transform=\"translate(37.369744 242.738437)scale(0.1 -0.1)\">\n       <use xlink:href=\"#DejaVuSans-48\"/>\n       <use x=\"63.623047\" xlink:href=\"#DejaVuSans-46\"/>\n       <use x=\"95.410156\" xlink:href=\"#DejaVuSans-48\"/>\n      </g>\n     </g>\n    </g>\n    <g id=\"xtick_2\">\n     <g id=\"line2d_2\">\n      <g>\n       <use style=\"stroke:#000000;stroke-width:0.8;\" x=\"106.194034\" xlink:href=\"#m2c126c933b\" y=\"228.14\"/>\n      </g>\n     </g>\n     <g id=\"text_2\">\n      <!-- 0.2 -->\n      <defs>\n       <path d=\"M 19.1875 8.296875 \nL 53.609375 8.296875 \nL 53.609375 0 \nL 7.328125 0 \nL 7.328125 8.296875 \nQ 12.9375 14.109375 22.625 23.890625 \nQ 32.328125 33.6875 34.8125 36.53125 \nQ 39.546875 41.84375 41.421875 45.53125 \nQ 43.3125 49.21875 43.3125 52.78125 \nQ 43.3125 58.59375 39.234375 62.25 \nQ 35.15625 65.921875 28.609375 65.921875 \nQ 23.96875 65.921875 18.8125 64.3125 \nQ 13.671875 62.703125 7.8125 59.421875 \nL 7.8125 69.390625 \nQ 13.765625 71.78125 18.9375 73 \nQ 24.125 74.21875 28.421875 74.21875 \nQ 39.75 74.21875 46.484375 68.546875 \nQ 53.21875 62.890625 53.21875 53.421875 \nQ 53.21875 48.921875 51.53125 44.890625 \nQ 49.859375 40.875 45.40625 35.40625 \nQ 44.1875 33.984375 37.640625 27.21875 \nQ 31.109375 20.453125 19.1875 8.296875 \nz\n\" id=\"DejaVuSans-50\"/>\n      </defs>\n      <g transform=\"translate(98.242472 242.738437)scale(0.1 -0.1)\">\n       <use xlink:href=\"#DejaVuSans-48\"/>\n       <use x=\"63.623047\" xlink:href=\"#DejaVuSans-46\"/>\n       <use x=\"95.410156\" xlink:href=\"#DejaVuSans-50\"/>\n      </g>\n     </g>\n    </g>\n    <g id=\"xtick_3\">\n     <g id=\"line2d_3\">\n      <g>\n       <use style=\"stroke:#000000;stroke-width:0.8;\" x=\"167.066761\" xlink:href=\"#m2c126c933b\" y=\"228.14\"/>\n      </g>\n     </g>\n     <g id=\"text_3\">\n      <!-- 0.4 -->\n      <defs>\n       <path d=\"M 37.796875 64.3125 \nL 12.890625 25.390625 \nL 37.796875 25.390625 \nz\nM 35.203125 72.90625 \nL 47.609375 72.90625 \nL 47.609375 25.390625 \nL 58.015625 25.390625 \nL 58.015625 17.1875 \nL 47.609375 17.1875 \nL 47.609375 0 \nL 37.796875 0 \nL 37.796875 17.1875 \nL 4.890625 17.1875 \nL 4.890625 26.703125 \nz\n\" id=\"DejaVuSans-52\"/>\n      </defs>\n      <g transform=\"translate(159.115199 242.738437)scale(0.1 -0.1)\">\n       <use xlink:href=\"#DejaVuSans-48\"/>\n       <use x=\"63.623047\" xlink:href=\"#DejaVuSans-46\"/>\n       <use x=\"95.410156\" xlink:href=\"#DejaVuSans-52\"/>\n      </g>\n     </g>\n    </g>\n    <g id=\"xtick_4\">\n     <g id=\"line2d_4\">\n      <g>\n       <use style=\"stroke:#000000;stroke-width:0.8;\" x=\"227.939489\" xlink:href=\"#m2c126c933b\" y=\"228.14\"/>\n      </g>\n     </g>\n     <g id=\"text_4\">\n      <!-- 0.6 -->\n      <defs>\n       <path d=\"M 33.015625 40.375 \nQ 26.375 40.375 22.484375 35.828125 \nQ 18.609375 31.296875 18.609375 23.390625 \nQ 18.609375 15.53125 22.484375 10.953125 \nQ 26.375 6.390625 33.015625 6.390625 \nQ 39.65625 6.390625 43.53125 10.953125 \nQ 47.40625 15.53125 47.40625 23.390625 \nQ 47.40625 31.296875 43.53125 35.828125 \nQ 39.65625 40.375 33.015625 40.375 \nz\nM 52.59375 71.296875 \nL 52.59375 62.3125 \nQ 48.875 64.0625 45.09375 64.984375 \nQ 41.3125 65.921875 37.59375 65.921875 \nQ 27.828125 65.921875 22.671875 59.328125 \nQ 17.53125 52.734375 16.796875 39.40625 \nQ 19.671875 43.65625 24.015625 45.921875 \nQ 28.375 48.1875 33.59375 48.1875 \nQ 44.578125 48.1875 50.953125 41.515625 \nQ 57.328125 34.859375 57.328125 23.390625 \nQ 57.328125 12.15625 50.6875 5.359375 \nQ 44.046875 -1.421875 33.015625 -1.421875 \nQ 20.359375 -1.421875 13.671875 8.265625 \nQ 6.984375 17.96875 6.984375 36.375 \nQ 6.984375 53.65625 15.1875 63.9375 \nQ 23.390625 74.21875 37.203125 74.21875 \nQ 40.921875 74.21875 44.703125 73.484375 \nQ 48.484375 72.75 52.59375 71.296875 \nz\n\" id=\"DejaVuSans-54\"/>\n      </defs>\n      <g transform=\"translate(219.987926 242.738437)scale(0.1 -0.1)\">\n       <use xlink:href=\"#DejaVuSans-48\"/>\n       <use x=\"63.623047\" xlink:href=\"#DejaVuSans-46\"/>\n       <use x=\"95.410156\" xlink:href=\"#DejaVuSans-54\"/>\n      </g>\n     </g>\n    </g>\n    <g id=\"xtick_5\">\n     <g id=\"line2d_5\">\n      <g>\n       <use style=\"stroke:#000000;stroke-width:0.8;\" x=\"288.812216\" xlink:href=\"#m2c126c933b\" y=\"228.14\"/>\n      </g>\n     </g>\n     <g id=\"text_5\">\n      <!-- 0.8 -->\n      <defs>\n       <path d=\"M 31.78125 34.625 \nQ 24.75 34.625 20.71875 30.859375 \nQ 16.703125 27.09375 16.703125 20.515625 \nQ 16.703125 13.921875 20.71875 10.15625 \nQ 24.75 6.390625 31.78125 6.390625 \nQ 38.8125 6.390625 42.859375 10.171875 \nQ 46.921875 13.96875 46.921875 20.515625 \nQ 46.921875 27.09375 42.890625 30.859375 \nQ 38.875 34.625 31.78125 34.625 \nz\nM 21.921875 38.8125 \nQ 15.578125 40.375 12.03125 44.71875 \nQ 8.5 49.078125 8.5 55.328125 \nQ 8.5 64.0625 14.71875 69.140625 \nQ 20.953125 74.21875 31.78125 74.21875 \nQ 42.671875 74.21875 48.875 69.140625 \nQ 55.078125 64.0625 55.078125 55.328125 \nQ 55.078125 49.078125 51.53125 44.71875 \nQ 48 40.375 41.703125 38.8125 \nQ 48.828125 37.15625 52.796875 32.3125 \nQ 56.78125 27.484375 56.78125 20.515625 \nQ 56.78125 9.90625 50.3125 4.234375 \nQ 43.84375 -1.421875 31.78125 -1.421875 \nQ 19.734375 -1.421875 13.25 4.234375 \nQ 6.78125 9.90625 6.78125 20.515625 \nQ 6.78125 27.484375 10.78125 32.3125 \nQ 14.796875 37.15625 21.921875 38.8125 \nz\nM 18.3125 54.390625 \nQ 18.3125 48.734375 21.84375 45.5625 \nQ 25.390625 42.390625 31.78125 42.390625 \nQ 38.140625 42.390625 41.71875 45.5625 \nQ 45.3125 48.734375 45.3125 54.390625 \nQ 45.3125 60.0625 41.71875 63.234375 \nQ 38.140625 66.40625 31.78125 66.40625 \nQ 25.390625 66.40625 21.84375 63.234375 \nQ 18.3125 60.0625 18.3125 54.390625 \nz\n\" id=\"DejaVuSans-56\"/>\n      </defs>\n      <g transform=\"translate(280.860653 242.738437)scale(0.1 -0.1)\">\n       <use xlink:href=\"#DejaVuSans-48\"/>\n       <use x=\"63.623047\" xlink:href=\"#DejaVuSans-46\"/>\n       <use x=\"95.410156\" xlink:href=\"#DejaVuSans-56\"/>\n      </g>\n     </g>\n    </g>\n    <g id=\"xtick_6\">\n     <g id=\"line2d_6\">\n      <g>\n       <use style=\"stroke:#000000;stroke-width:0.8;\" x=\"349.684943\" xlink:href=\"#m2c126c933b\" y=\"228.14\"/>\n      </g>\n     </g>\n     <g id=\"text_6\">\n      <!-- 1.0 -->\n      <defs>\n       <path d=\"M 12.40625 8.296875 \nL 28.515625 8.296875 \nL 28.515625 63.921875 \nL 10.984375 60.40625 \nL 10.984375 69.390625 \nL 28.421875 72.90625 \nL 38.28125 72.90625 \nL 38.28125 8.296875 \nL 54.390625 8.296875 \nL 54.390625 0 \nL 12.40625 0 \nz\n\" id=\"DejaVuSans-49\"/>\n      </defs>\n      <g transform=\"translate(341.733381 242.738437)scale(0.1 -0.1)\">\n       <use xlink:href=\"#DejaVuSans-49\"/>\n       <use x=\"63.623047\" xlink:href=\"#DejaVuSans-46\"/>\n       <use x=\"95.410156\" xlink:href=\"#DejaVuSans-48\"/>\n      </g>\n     </g>\n    </g>\n   </g>\n   <g id=\"matplotlib.axis_2\">\n    <g id=\"ytick_1\">\n     <g id=\"line2d_7\">\n      <defs>\n       <path d=\"M 0 0 \nL -3.5 0 \n\" id=\"m177961904e\" style=\"stroke:#000000;stroke-width:0.8;\"/>\n      </defs>\n      <g>\n       <use style=\"stroke:#000000;stroke-width:0.8;\" x=\"30.103125\" xlink:href=\"#m177961904e\" y=\"218.256364\"/>\n      </g>\n     </g>\n     <g id=\"text_7\">\n      <!-- 0.0 -->\n      <g transform=\"translate(7.2 222.055582)scale(0.1 -0.1)\">\n       <use xlink:href=\"#DejaVuSans-48\"/>\n       <use x=\"63.623047\" xlink:href=\"#DejaVuSans-46\"/>\n       <use x=\"95.410156\" xlink:href=\"#DejaVuSans-48\"/>\n      </g>\n     </g>\n    </g>\n    <g id=\"ytick_2\">\n     <g id=\"line2d_8\">\n      <g>\n       <use style=\"stroke:#000000;stroke-width:0.8;\" x=\"30.103125\" xlink:href=\"#m177961904e\" y=\"178.721818\"/>\n      </g>\n     </g>\n     <g id=\"text_8\">\n      <!-- 0.2 -->\n      <g transform=\"translate(7.2 182.521037)scale(0.1 -0.1)\">\n       <use xlink:href=\"#DejaVuSans-48\"/>\n       <use x=\"63.623047\" xlink:href=\"#DejaVuSans-46\"/>\n       <use x=\"95.410156\" xlink:href=\"#DejaVuSans-50\"/>\n      </g>\n     </g>\n    </g>\n    <g id=\"ytick_3\">\n     <g id=\"line2d_9\">\n      <g>\n       <use style=\"stroke:#000000;stroke-width:0.8;\" x=\"30.103125\" xlink:href=\"#m177961904e\" y=\"139.187273\"/>\n      </g>\n     </g>\n     <g id=\"text_9\">\n      <!-- 0.4 -->\n      <g transform=\"translate(7.2 142.986491)scale(0.1 -0.1)\">\n       <use xlink:href=\"#DejaVuSans-48\"/>\n       <use x=\"63.623047\" xlink:href=\"#DejaVuSans-46\"/>\n       <use x=\"95.410156\" xlink:href=\"#DejaVuSans-52\"/>\n      </g>\n     </g>\n    </g>\n    <g id=\"ytick_4\">\n     <g id=\"line2d_10\">\n      <g>\n       <use style=\"stroke:#000000;stroke-width:0.8;\" x=\"30.103125\" xlink:href=\"#m177961904e\" y=\"99.652727\"/>\n      </g>\n     </g>\n     <g id=\"text_10\">\n      <!-- 0.6 -->\n      <g transform=\"translate(7.2 103.451946)scale(0.1 -0.1)\">\n       <use xlink:href=\"#DejaVuSans-48\"/>\n       <use x=\"63.623047\" xlink:href=\"#DejaVuSans-46\"/>\n       <use x=\"95.410156\" xlink:href=\"#DejaVuSans-54\"/>\n      </g>\n     </g>\n    </g>\n    <g id=\"ytick_5\">\n     <g id=\"line2d_11\">\n      <g>\n       <use style=\"stroke:#000000;stroke-width:0.8;\" x=\"30.103125\" xlink:href=\"#m177961904e\" y=\"60.118182\"/>\n      </g>\n     </g>\n     <g id=\"text_11\">\n      <!-- 0.8 -->\n      <g transform=\"translate(7.2 63.917401)scale(0.1 -0.1)\">\n       <use xlink:href=\"#DejaVuSans-48\"/>\n       <use x=\"63.623047\" xlink:href=\"#DejaVuSans-46\"/>\n       <use x=\"95.410156\" xlink:href=\"#DejaVuSans-56\"/>\n      </g>\n     </g>\n    </g>\n    <g id=\"ytick_6\">\n     <g id=\"line2d_12\">\n      <g>\n       <use style=\"stroke:#000000;stroke-width:0.8;\" x=\"30.103125\" xlink:href=\"#m177961904e\" y=\"20.583636\"/>\n      </g>\n     </g>\n     <g id=\"text_12\">\n      <!-- 1.0 -->\n      <g transform=\"translate(7.2 24.382855)scale(0.1 -0.1)\">\n       <use xlink:href=\"#DejaVuSans-49\"/>\n       <use x=\"63.623047\" xlink:href=\"#DejaVuSans-46\"/>\n       <use x=\"95.410156\" xlink:href=\"#DejaVuSans-48\"/>\n      </g>\n     </g>\n    </g>\n   </g>\n   <g id=\"line2d_13\">\n    <path clip-path=\"url(#p41fc3d0dc3)\" d=\"M 45.321307 218.256364 \nL 45.427262 184.855106 \nL 45.432838 184.855106 \nL 45.538793 167.899227 \nL 45.549946 167.789834 \nL 45.655901 158.892556 \nL 45.661478 158.892556 \nL 45.767432 147.770958 \nL 45.778586 147.69803 \nL 45.88454 139.748822 \nL 45.890117 139.748822 \nL 45.996072 133.148792 \nL 46.001648 133.148792 \nL 46.107603 128.189653 \nL 46.11318 128.189653 \nL 46.219135 124.360907 \nL 46.224711 124.360907 \nL 46.325089 121.042659 \nL 46.336243 121.042659 \nL 46.442197 117.760876 \nL 46.453351 117.651484 \nL 46.559305 115.791807 \nL 46.570459 115.791807 \nL 46.676413 113.312237 \nL 46.68199 113.312237 \nL 46.787945 110.686811 \nL 46.804675 110.577418 \nL 46.910629 107.76967 \nL 46.916206 107.76967 \nL 47.011008 105.654744 \nL 47.038891 105.545351 \nL 47.144845 103.321031 \nL 47.155998 103.211639 \nL 47.261953 100.914391 \nL 47.273106 100.804998 \nL 47.379061 98.945321 \nL 47.395791 98.872392 \nL 47.496169 97.887857 \nL 47.507322 97.887857 \nL 47.607701 96.502216 \nL 47.62443 96.502216 \nL 47.730385 95.007181 \nL 47.769421 94.970717 \nL 47.875376 93.840325 \nL 47.880953 93.840325 \nL 47.981331 92.782862 \nL 48.003637 92.673469 \nL 48.104015 91.506613 \nL 48.120745 91.39722 \nL 48.221123 90.303292 \nL 48.265736 90.230364 \nL 48.371691 88.881186 \nL 48.382844 88.808258 \nL 48.477646 88.006044 \nL 48.494375 88.006044 \nL 48.60033 87.240295 \nL 48.605907 87.240295 \nL 48.711862 85.854653 \nL 48.734168 85.781725 \nL 48.840123 84.578404 \nL 48.884735 84.469011 \nL 48.985114 83.922048 \nL 49.012996 83.812655 \nL 49.118951 82.937513 \nL 49.146834 82.82812 \nL 49.252789 81.734192 \nL 49.263942 81.734192 \nL 49.36432 80.85905 \nL 49.38105 80.85905 \nL 49.475852 80.166229 \nL 49.503735 80.056837 \nL 49.604113 79.364016 \nL 49.637572 79.254623 \nL 49.737951 78.452409 \nL 49.749104 78.452409 \nL 49.849482 77.796053 \nL 49.905248 77.68666 \nL 50.000049 76.993839 \nL 50.022356 76.957375 \nL 50.128311 76.009304 \nL 50.156193 75.936376 \nL 50.256572 75.352948 \nL 50.329067 75.243555 \nL 50.407139 74.805984 \nL 50.468481 74.696591 \nL 50.56886 74.00377 \nL 50.602319 73.930842 \nL 50.702697 73.274485 \nL 50.725004 73.165092 \nL 50.830958 72.508736 \nL 50.836535 72.508736 \nL 50.931337 71.852379 \nL 50.95922 71.742986 \nL 51.054021 71.196023 \nL 51.098634 71.159558 \nL 51.193435 70.649059 \nL 51.238048 70.539666 \nL 51.344003 69.919774 \nL 51.388615 69.810381 \nL 51.488994 69.482203 \nL 51.539183 69.37281 \nL 51.645138 68.898774 \nL 51.678597 68.789382 \nL 51.784552 68.388275 \nL 51.823588 68.351811 \nL 51.91839 68.023632 \nL 51.957426 67.91424 \nL 52.052227 67.330811 \nL 52.09684 67.294347 \nL 52.191642 66.528598 \nL 52.208371 66.528598 \nL 52.314326 66.091027 \nL 52.358939 65.981634 \nL 52.464894 65.726384 \nL 52.548542 65.616991 \nL 52.643344 65.288813 \nL 52.721416 65.17942 \nL 52.799488 64.851242 \nL 52.866407 64.778314 \nL 52.972361 64.121957 \nL 53.022551 64.049029 \nL 53.122929 63.392672 \nL 53.156388 63.283279 \nL 53.25119 63.064494 \nL 53.290226 62.991565 \nL 53.396181 62.699851 \nL 53.407334 62.663387 \nL 53.502136 62.043494 \nL 53.530018 61.970566 \nL 53.635973 61.277745 \nL 53.680586 61.168352 \nL 53.758658 61.022495 \nL 53.792117 61.022495 \nL 53.881342 60.54846 \nL 53.959414 60.475532 \nL 54.037486 60.03796 \nL 54.126711 59.965032 \nL 54.221513 59.636854 \nL 54.310738 59.563925 \nL 54.416693 59.162818 \nL 54.533801 59.053426 \nL 54.60072 58.83464 \nL 54.712251 58.725247 \nL 54.81263 58.433533 \nL 54.851666 58.32414 \nL 54.924161 58.178283 \nL 55.030116 58.068891 \nL 55.113764 57.850105 \nL 55.247602 57.740712 \nL 55.353557 57.084356 \nL 55.387016 56.974963 \nL 55.453935 56.719713 \nL 55.637962 56.61032 \nL 55.743917 56.318606 \nL 55.849872 56.209214 \nL 55.95025 55.990428 \nL 56.000439 55.9175 \nL 56.084088 55.771643 \nL 56.245808 55.66225 \nL 56.351763 55.297607 \nL 56.429835 55.188215 \nL 56.53579 54.860036 \nL 56.669628 54.750643 \nL 56.775582 54.677715 \nL 56.836925 54.568322 \nL 56.92615 54.276608 \nL 57.032105 54.167215 \nL 57.048834 54.057823 \nL 57.188249 54.021358 \nL 57.271897 53.729644 \nL 57.556302 53.620252 \nL 57.656681 53.401466 \nL 57.779365 53.292073 \nL 57.857437 53.18268 \nL 57.996851 53.073288 \nL 58.091653 52.963895 \nL 58.147419 52.854502 \nL 58.147419 52.818038 \nL 58.320292 52.708645 \nL 58.325869 52.635717 \nL 58.565662 52.526324 \nL 58.660463 52.344003 \nL 58.866796 52.23461 \nL 58.967175 51.833503 \nL 59.145625 51.72411 \nL 59.162355 51.651182 \nL 59.390994 51.578253 \nL 59.496949 51.323003 \nL 59.692129 51.213611 \nL 59.798084 51.031289 \nL 59.853849 50.921897 \nL 59.937498 50.703111 \nL 60.199597 50.593718 \nL 60.266516 50.302004 \nL 60.444966 50.192612 \nL 60.539767 50.01029 \nL 60.740524 49.900898 \nL 60.79629 49.645648 \nL 60.963587 49.536255 \nL 61.024929 49.317469 \nL 61.175496 49.208077 \nL 61.281451 48.952827 \nL 61.437595 48.843434 \nL 61.482208 48.770506 \nL 61.694118 48.697577 \nL 61.694118 48.588184 \nL 61.972946 48.478792 \nL 62.039865 48.405863 \nL 62.335423 48.29647 \nL 62.335423 48.260006 \nL 62.469261 48.187078 \nL 62.53618 47.895363 \nL 62.748089 47.785971 \nL 62.826161 47.640114 \nL 63.060377 47.530721 \nL 63.144026 47.3484 \nL 63.249981 47.239007 \nL 63.355936 47.129614 \nL 63.473044 47.020221 \nL 63.567845 46.947293 \nL 63.740719 46.8379 \nL 63.824367 46.692043 \nL 64.075313 46.58265 \nL 64.075313 46.546186 \nL 64.387601 46.436793 \nL 64.393178 46.363865 \nL 64.805844 46.254472 \nL 64.895069 46.145079 \nL 65.212933 46.035686 \nL 65.240816 45.926294 \nL 65.486185 45.816901 \nL 65.536375 45.671044 \nL 65.943464 45.561651 \nL 65.943464 45.525187 \nL 66.428626 45.415794 \nL 66.506698 45.233473 \nL 66.657265 45.12408 \nL 66.735337 44.832366 \nL 66.852445 44.722973 \nL 66.9584 44.540652 \nL 67.237229 44.431259 \nL 67.326454 44.321866 \nL 67.588552 44.212474 \nL 67.638742 44.139545 \nL 68.140633 44.030152 \nL 68.168516 43.92076 \nL 68.369272 43.811367 \nL 68.458497 43.738438 \nL 68.865587 43.629046 \nL 68.971542 43.483189 \nL 69.211334 43.373796 \nL 69.2671 43.264403 \nL 69.456704 43.15501 \nL 69.534776 43.009153 \nL 69.707649 42.899761 \nL 69.707649 42.863296 \nL 70.025514 42.753904 \nL 70.114739 42.680975 \nL 70.493946 42.571582 \nL 70.577594 42.425725 \nL 70.756044 42.316332 \nL 70.81181 42.170475 \nL 71.00699 42.097547 \nL 71.04045 41.878761 \nL 71.330431 41.769369 \nL 71.436386 41.623512 \nL 71.659449 41.514119 \nL 71.737521 41.404726 \nL 71.988467 41.331798 \nL 71.988467 41.258869 \nL 72.986673 41.149476 \nL 73.008979 41.076548 \nL 73.393762 40.967155 \nL 73.477411 40.894226 \nL 73.711627 40.784834 \nL 73.728356 40.675441 \nL 73.851041 40.602512 \nL 73.851041 40.529584 \nL 74.135446 40.420191 \nL 74.241401 40.23787 \nL 74.414275 40.128477 \nL 74.497923 40.019084 \nL 74.821364 39.909692 \nL 74.821364 39.873227 \nL 75.25076 39.763835 \nL 75.334409 39.654442 \nL 75.685733 39.545049 \nL 75.741498 39.472121 \nL 75.992444 39.362728 \nL 75.992444 39.326264 \nL 76.455299 39.216871 \nL 76.494335 39.143942 \nL 76.784317 39.034549 \nL 76.784317 38.998085 \nL 77.107758 38.888692 \nL 77.135641 38.815764 \nL 77.581767 38.706371 \nL 77.682145 38.633443 \nL 77.944244 38.52405 \nL 78.016739 38.414657 \nL 78.139424 38.305264 \nL 78.139424 38.2688 \nL 78.752846 38.159407 \nL 78.752846 38.122943 \nL 79.154359 38.01355 \nL 79.226855 37.904158 \nL 79.712017 37.794765 \nL 79.712017 37.758301 \nL 80.152566 37.648908 \nL 80.169295 37.575979 \nL 80.604268 37.466587 \nL 80.687916 37.393658 \nL 81.083853 37.284265 \nL 81.100583 37.211337 \nL 81.424024 37.101944 \nL 81.490942 37.029015 \nL 81.881302 36.919623 \nL 81.964951 36.81023 \nL 82.433383 36.737301 \nL 82.433383 36.664373 \nL 82.985463 36.55498 \nL 82.985463 36.518516 \nL 84.078471 36.409123 \nL 84.106354 36.336195 \nL 84.446525 36.226802 \nL 84.513444 36.117409 \nL 85.08783 36.008016 \nL 85.126866 35.935088 \nL 85.840667 35.825695 \nL 85.846244 35.752767 \nL 86.654847 35.643374 \nL 86.721766 35.570445 \nL 87.480179 35.497517 \nL 87.480179 35.424588 \nL 88.054566 35.315195 \nL 88.054566 35.278731 \nL 88.439349 35.169338 \nL 88.439349 35.132874 \nL 88.695871 35.059946 \nL 88.695871 34.987017 \nL 89.119691 34.877624 \nL 89.18661 34.731767 \nL 89.744267 34.622375 \nL 89.744267 34.58591 \nL 90.614212 34.476518 \nL 90.681131 34.403589 \nL 91.216481 34.294196 \nL 91.322436 34.221268 \nL 91.846634 34.111875 \nL 91.930282 34.002482 \nL 92.404291 33.89309 \nL 92.432174 33.783697 \nL 92.883876 33.674304 \nL 92.883876 33.63784 \nL 93.887659 33.564911 \nL 93.98246 33.38259 \nL 95.075468 33.273197 \nL 95.075468 33.236733 \nL 95.566206 33.12734 \nL 95.566206 33.090876 \nL 96.068098 32.981483 \nL 96.068098 32.945019 \nL 96.826511 32.835626 \nL 96.826511 32.799162 \nL 97.439934 32.689769 \nL 97.439934 32.653305 \nL 97.952978 32.543912 \nL 97.952978 32.507448 \nL 98.544095 32.398055 \nL 98.544095 32.361591 \nL 98.940031 32.252198 \nL 98.940031 32.215734 \nL 99.447499 32.106341 \nL 99.542301 32.033412 \nL 100.417822 31.92402 \nL 100.479165 31.851091 \nL 101.856578 31.741698 \nL 101.856578 31.705234 \nL 102.815748 31.595841 \nL 102.832477 31.522913 \nL 103.691269 31.41352 \nL 103.691269 31.377056 \nL 105.063106 31.267663 \nL 105.063106 31.231199 \nL 107.243545 31.121806 \nL 107.338346 31.048878 \nL 108.50385 30.939485 \nL 108.50385 30.866556 \nL 110.143361 30.757164 \nL 110.143361 30.720699 \nL 110.784667 30.611307 \nL 110.784667 30.574842 \nL 112.74762 30.46545 \nL 112.74762 30.428985 \nL 113.840627 30.319592 \nL 113.840627 30.283128 \nL 115.245923 30.173735 \nL 115.335148 30.064343 \nL 118.418992 29.95495 \nL 118.418992 29.918486 \nL 119.417198 29.845557 \nL 119.417198 29.772629 \nL 120.722115 29.663236 \nL 120.722115 29.626772 \nL 121.23516 29.517379 \nL 121.23516 29.480915 \nL 122.099528 29.371522 \nL 122.099528 29.335058 \nL 124.034598 29.225665 \nL 124.034598 29.189201 \nL 125.144336 29.079808 \nL 125.144336 29.043344 \nL 126.532902 28.933951 \nL 126.532902 28.897487 \nL 127.514378 28.788094 \nL 127.514378 28.75163 \nL 129.310034 28.642237 \nL 129.31561 28.569308 \nL 133.542651 28.459915 \nL 133.542651 28.423451 \nL 134.736037 28.314058 \nL 134.814109 28.24113 \nL 135.695207 28.131737 \nL 135.695207 28.095273 \nL 138.148898 27.98588 \nL 138.148898 27.949416 \nL 139.866482 27.840023 \nL 139.866482 27.803559 \nL 141.812705 27.694166 \nL 141.874047 27.621238 \nL 143.758928 27.511845 \nL 143.758928 27.475381 \nL 145.716304 27.365988 \nL 145.716304 27.329524 \nL 147.221978 27.220131 \nL 147.221978 27.183667 \nL 150.300245 27.074274 \nL 150.300245 27.03781 \nL 152.508567 26.928417 \nL 152.508567 26.891953 \nL 156.395436 26.78256 \nL 156.395436 26.746095 \nL 157.839768 26.636703 \nL 157.839768 26.600238 \nL 160.79535 26.490846 \nL 160.79535 26.454381 \nL 164.420121 26.344989 \nL 164.420121 26.308524 \nL 167.085722 26.199132 \nL 167.085722 26.162667 \nL 169.076557 26.053275 \nL 169.076557 26.01681 \nL 171.351798 25.907418 \nL 171.351798 25.870953 \nL 172.539608 25.761561 \nL 172.539608 25.725096 \nL 175.065794 25.615704 \nL 175.065794 25.579239 \nL 180.91004 25.469847 \nL 180.91004 25.433382 \nL 186.871394 25.32399 \nL 186.871394 25.287525 \nL 189.018373 25.178133 \nL 189.02395 25.105204 \nL 191.131893 24.995811 \nL 191.131893 24.959347 \nL 193.451747 24.849954 \nL 193.451747 24.81349 \nL 197.109977 24.704097 \nL 197.109977 24.667633 \nL 199.703082 24.55824 \nL 199.703082 24.521776 \nL 204.710842 24.412383 \nL 204.710842 24.375919 \nL 209.897053 24.266526 \nL 209.897053 24.230062 \nL 216.577784 24.120669 \nL 216.60009 24.047741 \nL 220.531573 23.938348 \nL 220.531573 23.901884 \nL 225.076477 23.792491 \nL 225.076477 23.756027 \nL 230.229228 23.646634 \nL 230.279418 23.573705 \nL 234.032449 23.464313 \nL 234.032449 23.427848 \nL 236.051168 23.318456 \nL 236.051168 23.281991 \nL 241.583126 23.172598 \nL 241.583126 23.136134 \nL 243.992204 23.026741 \nL 243.992204 22.990277 \nL 254.130409 22.880884 \nL 254.130409 22.84442 \nL 264.274191 22.735027 \nL 264.274191 22.698563 \nL 265.311433 22.58917 \nL 265.311433 22.552706 \nL 270.888003 22.443313 \nL 270.888003 22.406849 \nL 279.252859 22.297456 \nL 279.252859 22.260992 \nL 286.006086 22.151599 \nL 286.006086 22.115135 \nL 293.010258 22.005742 \nL 293.010258 21.969278 \nL 298.296847 21.859885 \nL 298.296847 21.823421 \nL 307.118981 21.714028 \nL 307.118981 21.677564 \nL 313.660298 21.568171 \nL 313.660298 21.531707 \nL 319.275905 21.422314 \nL 319.275905 21.38585 \nL 327.417698 21.276457 \nL 327.417698 21.239993 \nL 335.16913 21.1306 \nL 335.16913 21.094136 \nL 338.810631 20.984743 \nL 338.810631 20.948279 \nL 342.424249 20.838886 \nL 342.424249 20.802422 \nL 345.307335 20.693029 \nL 345.307335 20.656565 \nL 349.684943 20.583636 \nL 349.684943 20.583636 \n\" style=\"fill:none;stroke:#1f77b4;stroke-linecap:square;stroke-width:2;\"/>\n   </g>\n   <g id=\"line2d_14\">\n    <path clip-path=\"url(#p41fc3d0dc3)\" d=\"M 45.321307 218.256364 \nL 349.684943 20.583636 \n\" style=\"fill:none;stroke:#000000;stroke-dasharray:5.55,2.4;stroke-dashoffset:0;stroke-width:1.5;\"/>\n   </g>\n   <g id=\"patch_3\">\n    <path d=\"M 30.103125 228.14 \nL 30.103125 10.7 \n\" style=\"fill:none;stroke:#000000;stroke-linecap:square;stroke-linejoin:miter;stroke-width:0.8;\"/>\n   </g>\n   <g id=\"patch_4\">\n    <path d=\"M 364.903125 228.14 \nL 364.903125 10.7 \n\" style=\"fill:none;stroke:#000000;stroke-linecap:square;stroke-linejoin:miter;stroke-width:0.8;\"/>\n   </g>\n   <g id=\"patch_5\">\n    <path d=\"M 30.103125 228.14 \nL 364.903125 228.14 \n\" style=\"fill:none;stroke:#000000;stroke-linecap:square;stroke-linejoin:miter;stroke-width:0.8;\"/>\n   </g>\n   <g id=\"patch_6\">\n    <path d=\"M 30.103125 10.7 \nL 364.903125 10.7 \n\" style=\"fill:none;stroke:#000000;stroke-linecap:square;stroke-linejoin:miter;stroke-width:0.8;\"/>\n   </g>\n  </g>\n </g>\n <defs>\n  <clipPath id=\"p41fc3d0dc3\">\n   <rect height=\"217.44\" width=\"334.8\" x=\"30.103125\" y=\"10.7\"/>\n  </clipPath>\n </defs>\n</svg>\n",
      "image/png": "[encoded data removed]"
     },
     "metadata": {
      "needs_background": "light"
     }
    }
   ],
   "source": [
    "def plot_roc_curve(fpr, tpr, label=None):\n",
    "    plt.plot(fpr, tpr, linewidth=2, label=label)\n",
    "    plt.plot([0, 1], [0, 1], 'k--') # Dashed diagonal\n",
    "    #... Add axis labels and grid\n",
    "\n",
    "plot_roc_curve(fpr, tpr)\n",
    "plt.show()"
   ]
  },
  {
   "cell_type": "code",
   "execution_count": 39,
   "metadata": {},
   "outputs": [
    {
     "output_type": "execute_result",
     "data": {
      "text/plain": [
       "0.9584692857783504"
      ]
     },
     "metadata": {},
     "execution_count": 39
    }
   ],
   "source": [
    "from sklearn.metrics import roc_auc_score\n",
    "roc_auc_score(y_train_5, y_scores)"
   ]
  },
  {
   "cell_type": "code",
   "execution_count": 40,
   "metadata": {},
   "outputs": [
    {
     "output_type": "error",
     "ename": "KeyboardInterrupt",
     "evalue": "",
     "traceback": [
      "\u001b[0;31m---------------------------------------------------------------------------\u001b[0m",
      "\u001b[0;31mKeyboardInterrupt\u001b[0m                         Traceback (most recent call last)",
      "\u001b[0;32m<ipython-input-40-706fa394c450>\u001b[0m in \u001b[0;36m<module>\u001b[0;34m\u001b[0m\n\u001b[1;32m      3\u001b[0m \u001b[0mforest_clf\u001b[0m \u001b[0;34m=\u001b[0m \u001b[0mRandomForestClassifier\u001b[0m\u001b[0;34m(\u001b[0m\u001b[0mrandom_state\u001b[0m\u001b[0;34m=\u001b[0m\u001b[0;36m42\u001b[0m\u001b[0;34m)\u001b[0m\u001b[0;34m\u001b[0m\u001b[0;34m\u001b[0m\u001b[0m\n\u001b[1;32m      4\u001b[0m y_probas_forest = cross_val_predict(forest_clf, X_train, y_train_5,\n\u001b[0;32m----> 5\u001b[0;31m                                     cv=3, method='predict_proba')\n\u001b[0m",
      "\u001b[0;32m~/anaconda3/envs/ml/lib/python3.7/site-packages/sklearn/model_selection/_validation.py\u001b[0m in \u001b[0;36mcross_val_predict\u001b[0;34m(estimator, X, y, groups, cv, n_jobs, verbose, fit_params, pre_dispatch, method)\u001b[0m\n\u001b[1;32m    775\u001b[0m     prediction_blocks = parallel(delayed(_fit_and_predict)(\n\u001b[1;32m    776\u001b[0m         clone(estimator), X, y, train, test, verbose, fit_params, method)\n\u001b[0;32m--> 777\u001b[0;31m         for train, test in cv.split(X, y, groups))\n\u001b[0m\u001b[1;32m    778\u001b[0m \u001b[0;34m\u001b[0m\u001b[0m\n\u001b[1;32m    779\u001b[0m     \u001b[0;31m# Concatenate the predictions\u001b[0m\u001b[0;34m\u001b[0m\u001b[0;34m\u001b[0m\u001b[0;34m\u001b[0m\u001b[0m\n",
      "\u001b[0;32m~/anaconda3/envs/ml/lib/python3.7/site-packages/sklearn/externals/joblib/parallel.py\u001b[0m in \u001b[0;36m__call__\u001b[0;34m(self, iterable)\u001b[0m\n\u001b[1;32m    918\u001b[0m                 \u001b[0mself\u001b[0m\u001b[0;34m.\u001b[0m\u001b[0m_iterating\u001b[0m \u001b[0;34m=\u001b[0m \u001b[0mself\u001b[0m\u001b[0;34m.\u001b[0m\u001b[0m_original_iterator\u001b[0m \u001b[0;32mis\u001b[0m \u001b[0;32mnot\u001b[0m \u001b[0;32mNone\u001b[0m\u001b[0;34m\u001b[0m\u001b[0;34m\u001b[0m\u001b[0m\n\u001b[1;32m    919\u001b[0m \u001b[0;34m\u001b[0m\u001b[0m\n\u001b[0;32m--> 920\u001b[0;31m             \u001b[0;32mwhile\u001b[0m \u001b[0mself\u001b[0m\u001b[0;34m.\u001b[0m\u001b[0mdispatch_one_batch\u001b[0m\u001b[0;34m(\u001b[0m\u001b[0miterator\u001b[0m\u001b[0;34m)\u001b[0m\u001b[0;34m:\u001b[0m\u001b[0;34m\u001b[0m\u001b[0;34m\u001b[0m\u001b[0m\n\u001b[0m\u001b[1;32m    921\u001b[0m                 \u001b[0;32mpass\u001b[0m\u001b[0;34m\u001b[0m\u001b[0;34m\u001b[0m\u001b[0m\n\u001b[1;32m    922\u001b[0m \u001b[0;34m\u001b[0m\u001b[0m\n",
      "\u001b[0;32m~/anaconda3/envs/ml/lib/python3.7/site-packages/sklearn/externals/joblib/parallel.py\u001b[0m in \u001b[0;36mdispatch_one_batch\u001b[0;34m(self, iterator)\u001b[0m\n\u001b[1;32m    757\u001b[0m                 \u001b[0;32mreturn\u001b[0m \u001b[0;32mFalse\u001b[0m\u001b[0;34m\u001b[0m\u001b[0;34m\u001b[0m\u001b[0m\n\u001b[1;32m    758\u001b[0m             \u001b[0;32melse\u001b[0m\u001b[0;34m:\u001b[0m\u001b[0;34m\u001b[0m\u001b[0;34m\u001b[0m\u001b[0m\n\u001b[0;32m--> 759\u001b[0;31m                 \u001b[0mself\u001b[0m\u001b[0;34m.\u001b[0m\u001b[0m_dispatch\u001b[0m\u001b[0;34m(\u001b[0m\u001b[0mtasks\u001b[0m\u001b[0;34m)\u001b[0m\u001b[0;34m\u001b[0m\u001b[0;34m\u001b[0m\u001b[0m\n\u001b[0m\u001b[1;32m    760\u001b[0m                 \u001b[0;32mreturn\u001b[0m \u001b[0;32mTrue\u001b[0m\u001b[0;34m\u001b[0m\u001b[0;34m\u001b[0m\u001b[0m\n\u001b[1;32m    761\u001b[0m \u001b[0;34m\u001b[0m\u001b[0m\n",
      "\u001b[0;32m~/anaconda3/envs/ml/lib/python3.7/site-packages/sklearn/externals/joblib/parallel.py\u001b[0m in \u001b[0;36m_dispatch\u001b[0;34m(self, batch)\u001b[0m\n\u001b[1;32m    714\u001b[0m         \u001b[0;32mwith\u001b[0m \u001b[0mself\u001b[0m\u001b[0;34m.\u001b[0m\u001b[0m_lock\u001b[0m\u001b[0;34m:\u001b[0m\u001b[0;34m\u001b[0m\u001b[0;34m\u001b[0m\u001b[0m\n\u001b[1;32m    715\u001b[0m             \u001b[0mjob_idx\u001b[0m \u001b[0;34m=\u001b[0m \u001b[0mlen\u001b[0m\u001b[0;34m(\u001b[0m\u001b[0mself\u001b[0m\u001b[0;34m.\u001b[0m\u001b[0m_jobs\u001b[0m\u001b[0;34m)\u001b[0m\u001b[0;34m\u001b[0m\u001b[0;34m\u001b[0m\u001b[0m\n\u001b[0;32m--> 716\u001b[0;31m             \u001b[0mjob\u001b[0m \u001b[0;34m=\u001b[0m \u001b[0mself\u001b[0m\u001b[0;34m.\u001b[0m\u001b[0m_backend\u001b[0m\u001b[0;34m.\u001b[0m\u001b[0mapply_async\u001b[0m\u001b[0;34m(\u001b[0m\u001b[0mbatch\u001b[0m\u001b[0;34m,\u001b[0m \u001b[0mcallback\u001b[0m\u001b[0;34m=\u001b[0m\u001b[0mcb\u001b[0m\u001b[0;34m)\u001b[0m\u001b[0;34m\u001b[0m\u001b[0;34m\u001b[0m\u001b[0m\n\u001b[0m\u001b[1;32m    717\u001b[0m             \u001b[0;31m# A job can complete so quickly than its callback is\u001b[0m\u001b[0;34m\u001b[0m\u001b[0;34m\u001b[0m\u001b[0;34m\u001b[0m\u001b[0m\n\u001b[1;32m    718\u001b[0m             \u001b[0;31m# called before we get here, causing self._jobs to\u001b[0m\u001b[0;34m\u001b[0m\u001b[0;34m\u001b[0m\u001b[0;34m\u001b[0m\u001b[0m\n",
      "\u001b[0;32m~/anaconda3/envs/ml/lib/python3.7/site-packages/sklearn/externals/joblib/_parallel_backends.py\u001b[0m in \u001b[0;36mapply_async\u001b[0;34m(self, func, callback)\u001b[0m\n\u001b[1;32m    180\u001b[0m     \u001b[0;32mdef\u001b[0m \u001b[0mapply_async\u001b[0m\u001b[0;34m(\u001b[0m\u001b[0mself\u001b[0m\u001b[0;34m,\u001b[0m \u001b[0mfunc\u001b[0m\u001b[0;34m,\u001b[0m \u001b[0mcallback\u001b[0m\u001b[0;34m=\u001b[0m\u001b[0;32mNone\u001b[0m\u001b[0;34m)\u001b[0m\u001b[0;34m:\u001b[0m\u001b[0;34m\u001b[0m\u001b[0;34m\u001b[0m\u001b[0m\n\u001b[1;32m    181\u001b[0m         \u001b[0;34m\"\"\"Schedule a func to be run\"\"\"\u001b[0m\u001b[0;34m\u001b[0m\u001b[0;34m\u001b[0m\u001b[0m\n\u001b[0;32m--> 182\u001b[0;31m         \u001b[0mresult\u001b[0m \u001b[0;34m=\u001b[0m \u001b[0mImmediateResult\u001b[0m\u001b[0;34m(\u001b[0m\u001b[0mfunc\u001b[0m\u001b[0;34m)\u001b[0m\u001b[0;34m\u001b[0m\u001b[0;34m\u001b[0m\u001b[0m\n\u001b[0m\u001b[1;32m    183\u001b[0m         \u001b[0;32mif\u001b[0m \u001b[0mcallback\u001b[0m\u001b[0;34m:\u001b[0m\u001b[0;34m\u001b[0m\u001b[0;34m\u001b[0m\u001b[0m\n\u001b[1;32m    184\u001b[0m             \u001b[0mcallback\u001b[0m\u001b[0;34m(\u001b[0m\u001b[0mresult\u001b[0m\u001b[0;34m)\u001b[0m\u001b[0;34m\u001b[0m\u001b[0;34m\u001b[0m\u001b[0m\n",
      "\u001b[0;32m~/anaconda3/envs/ml/lib/python3.7/site-packages/sklearn/externals/joblib/_parallel_backends.py\u001b[0m in \u001b[0;36m__init__\u001b[0;34m(self, batch)\u001b[0m\n\u001b[1;32m    547\u001b[0m         \u001b[0;31m# Don't delay the application, to avoid keeping the input\u001b[0m\u001b[0;34m\u001b[0m\u001b[0;34m\u001b[0m\u001b[0;34m\u001b[0m\u001b[0m\n\u001b[1;32m    548\u001b[0m         \u001b[0;31m# arguments in memory\u001b[0m\u001b[0;34m\u001b[0m\u001b[0;34m\u001b[0m\u001b[0;34m\u001b[0m\u001b[0m\n\u001b[0;32m--> 549\u001b[0;31m         \u001b[0mself\u001b[0m\u001b[0;34m.\u001b[0m\u001b[0mresults\u001b[0m \u001b[0;34m=\u001b[0m \u001b[0mbatch\u001b[0m\u001b[0;34m(\u001b[0m\u001b[0;34m)\u001b[0m\u001b[0;34m\u001b[0m\u001b[0;34m\u001b[0m\u001b[0m\n\u001b[0m\u001b[1;32m    550\u001b[0m \u001b[0;34m\u001b[0m\u001b[0m\n\u001b[1;32m    551\u001b[0m     \u001b[0;32mdef\u001b[0m \u001b[0mget\u001b[0m\u001b[0;34m(\u001b[0m\u001b[0mself\u001b[0m\u001b[0;34m)\u001b[0m\u001b[0;34m:\u001b[0m\u001b[0;34m\u001b[0m\u001b[0;34m\u001b[0m\u001b[0m\n",
      "\u001b[0;32m~/anaconda3/envs/ml/lib/python3.7/site-packages/sklearn/externals/joblib/parallel.py\u001b[0m in \u001b[0;36m__call__\u001b[0;34m(self)\u001b[0m\n\u001b[1;32m    223\u001b[0m         \u001b[0;32mwith\u001b[0m \u001b[0mparallel_backend\u001b[0m\u001b[0;34m(\u001b[0m\u001b[0mself\u001b[0m\u001b[0;34m.\u001b[0m\u001b[0m_backend\u001b[0m\u001b[0;34m,\u001b[0m \u001b[0mn_jobs\u001b[0m\u001b[0;34m=\u001b[0m\u001b[0mself\u001b[0m\u001b[0;34m.\u001b[0m\u001b[0m_n_jobs\u001b[0m\u001b[0;34m)\u001b[0m\u001b[0;34m:\u001b[0m\u001b[0;34m\u001b[0m\u001b[0;34m\u001b[0m\u001b[0m\n\u001b[1;32m    224\u001b[0m             return [func(*args, **kwargs)\n\u001b[0;32m--> 225\u001b[0;31m                     for func, args, kwargs in self.items]\n\u001b[0m\u001b[1;32m    226\u001b[0m \u001b[0;34m\u001b[0m\u001b[0m\n\u001b[1;32m    227\u001b[0m     \u001b[0;32mdef\u001b[0m \u001b[0m__len__\u001b[0m\u001b[0;34m(\u001b[0m\u001b[0mself\u001b[0m\u001b[0;34m)\u001b[0m\u001b[0;34m:\u001b[0m\u001b[0;34m\u001b[0m\u001b[0;34m\u001b[0m\u001b[0m\n",
      "\u001b[0;32m~/anaconda3/envs/ml/lib/python3.7/site-packages/sklearn/externals/joblib/parallel.py\u001b[0m in \u001b[0;36m<listcomp>\u001b[0;34m(.0)\u001b[0m\n\u001b[1;32m    223\u001b[0m         \u001b[0;32mwith\u001b[0m \u001b[0mparallel_backend\u001b[0m\u001b[0;34m(\u001b[0m\u001b[0mself\u001b[0m\u001b[0;34m.\u001b[0m\u001b[0m_backend\u001b[0m\u001b[0;34m,\u001b[0m \u001b[0mn_jobs\u001b[0m\u001b[0;34m=\u001b[0m\u001b[0mself\u001b[0m\u001b[0;34m.\u001b[0m\u001b[0m_n_jobs\u001b[0m\u001b[0;34m)\u001b[0m\u001b[0;34m:\u001b[0m\u001b[0;34m\u001b[0m\u001b[0;34m\u001b[0m\u001b[0m\n\u001b[1;32m    224\u001b[0m             return [func(*args, **kwargs)\n\u001b[0;32m--> 225\u001b[0;31m                     for func, args, kwargs in self.items]\n\u001b[0m\u001b[1;32m    226\u001b[0m \u001b[0;34m\u001b[0m\u001b[0m\n\u001b[1;32m    227\u001b[0m     \u001b[0;32mdef\u001b[0m \u001b[0m__len__\u001b[0m\u001b[0;34m(\u001b[0m\u001b[0mself\u001b[0m\u001b[0;34m)\u001b[0m\u001b[0;34m:\u001b[0m\u001b[0;34m\u001b[0m\u001b[0;34m\u001b[0m\u001b[0m\n",
      "\u001b[0;32m~/anaconda3/envs/ml/lib/python3.7/site-packages/sklearn/model_selection/_validation.py\u001b[0m in \u001b[0;36m_fit_and_predict\u001b[0;34m(estimator, X, y, train, test, verbose, fit_params, method)\u001b[0m\n\u001b[1;32m    843\u001b[0m \u001b[0;34m\u001b[0m\u001b[0m\n\u001b[1;32m    844\u001b[0m     \u001b[0mX_train\u001b[0m\u001b[0;34m,\u001b[0m \u001b[0my_train\u001b[0m \u001b[0;34m=\u001b[0m \u001b[0m_safe_split\u001b[0m\u001b[0;34m(\u001b[0m\u001b[0mestimator\u001b[0m\u001b[0;34m,\u001b[0m \u001b[0mX\u001b[0m\u001b[0;34m,\u001b[0m \u001b[0my\u001b[0m\u001b[0;34m,\u001b[0m \u001b[0mtrain\u001b[0m\u001b[0;34m)\u001b[0m\u001b[0;34m\u001b[0m\u001b[0;34m\u001b[0m\u001b[0m\n\u001b[0;32m--> 845\u001b[0;31m     \u001b[0mX_test\u001b[0m\u001b[0;34m,\u001b[0m \u001b[0m_\u001b[0m \u001b[0;34m=\u001b[0m \u001b[0m_safe_split\u001b[0m\u001b[0;34m(\u001b[0m\u001b[0mestimator\u001b[0m\u001b[0;34m,\u001b[0m \u001b[0mX\u001b[0m\u001b[0;34m,\u001b[0m \u001b[0my\u001b[0m\u001b[0;34m,\u001b[0m \u001b[0mtest\u001b[0m\u001b[0;34m,\u001b[0m \u001b[0mtrain\u001b[0m\u001b[0;34m)\u001b[0m\u001b[0;34m\u001b[0m\u001b[0;34m\u001b[0m\u001b[0m\n\u001b[0m\u001b[1;32m    846\u001b[0m \u001b[0;34m\u001b[0m\u001b[0m\n\u001b[1;32m    847\u001b[0m     \u001b[0;32mif\u001b[0m \u001b[0my_train\u001b[0m \u001b[0;32mis\u001b[0m \u001b[0;32mNone\u001b[0m\u001b[0;34m:\u001b[0m\u001b[0;34m\u001b[0m\u001b[0;34m\u001b[0m\u001b[0m\n",
      "\u001b[0;32m~/anaconda3/envs/ml/lib/python3.7/site-packages/sklearn/utils/metaestimators.py\u001b[0m in \u001b[0;36m_safe_split\u001b[0;34m(estimator, X, y, indices, train_indices)\u001b[0m\n\u001b[1;32m    201\u001b[0m             \u001b[0mX_subset\u001b[0m \u001b[0;34m=\u001b[0m \u001b[0mX\u001b[0m\u001b[0;34m[\u001b[0m\u001b[0mnp\u001b[0m\u001b[0;34m.\u001b[0m\u001b[0mix_\u001b[0m\u001b[0;34m(\u001b[0m\u001b[0mindices\u001b[0m\u001b[0;34m,\u001b[0m \u001b[0mtrain_indices\u001b[0m\u001b[0;34m)\u001b[0m\u001b[0;34m]\u001b[0m\u001b[0;34m\u001b[0m\u001b[0;34m\u001b[0m\u001b[0m\n\u001b[1;32m    202\u001b[0m     \u001b[0;32melse\u001b[0m\u001b[0;34m:\u001b[0m\u001b[0;34m\u001b[0m\u001b[0;34m\u001b[0m\u001b[0m\n\u001b[0;32m--> 203\u001b[0;31m         \u001b[0mX_subset\u001b[0m \u001b[0;34m=\u001b[0m \u001b[0msafe_indexing\u001b[0m\u001b[0;34m(\u001b[0m\u001b[0mX\u001b[0m\u001b[0;34m,\u001b[0m \u001b[0mindices\u001b[0m\u001b[0;34m)\u001b[0m\u001b[0;34m\u001b[0m\u001b[0;34m\u001b[0m\u001b[0m\n\u001b[0m\u001b[1;32m    204\u001b[0m \u001b[0;34m\u001b[0m\u001b[0m\n\u001b[1;32m    205\u001b[0m     \u001b[0;32mif\u001b[0m \u001b[0my\u001b[0m \u001b[0;32mis\u001b[0m \u001b[0;32mnot\u001b[0m \u001b[0;32mNone\u001b[0m\u001b[0;34m:\u001b[0m\u001b[0;34m\u001b[0m\u001b[0;34m\u001b[0m\u001b[0m\n",
      "\u001b[0;32m~/anaconda3/envs/ml/lib/python3.7/site-packages/sklearn/utils/__init__.py\u001b[0m in \u001b[0;36msafe_indexing\u001b[0;34m(X, indices)\u001b[0m\n\u001b[1;32m    214\u001b[0m                                    indices.dtype.kind == 'i'):\n\u001b[1;32m    215\u001b[0m             \u001b[0;31m# This is often substantially faster than X[indices]\u001b[0m\u001b[0;34m\u001b[0m\u001b[0;34m\u001b[0m\u001b[0;34m\u001b[0m\u001b[0m\n\u001b[0;32m--> 216\u001b[0;31m             \u001b[0;32mreturn\u001b[0m \u001b[0mX\u001b[0m\u001b[0;34m.\u001b[0m\u001b[0mtake\u001b[0m\u001b[0;34m(\u001b[0m\u001b[0mindices\u001b[0m\u001b[0;34m,\u001b[0m \u001b[0maxis\u001b[0m\u001b[0;34m=\u001b[0m\u001b[0;36m0\u001b[0m\u001b[0;34m)\u001b[0m\u001b[0;34m\u001b[0m\u001b[0;34m\u001b[0m\u001b[0m\n\u001b[0m\u001b[1;32m    217\u001b[0m         \u001b[0;32melse\u001b[0m\u001b[0;34m:\u001b[0m\u001b[0;34m\u001b[0m\u001b[0;34m\u001b[0m\u001b[0m\n\u001b[1;32m    218\u001b[0m             \u001b[0;32mreturn\u001b[0m \u001b[0mX\u001b[0m\u001b[0;34m[\u001b[0m\u001b[0mindices\u001b[0m\u001b[0;34m]\u001b[0m\u001b[0;34m\u001b[0m\u001b[0;34m\u001b[0m\u001b[0m\n",
      "\u001b[0;31mKeyboardInterrupt\u001b[0m: "
     ]
    }
   ],
   "source": [
    "from sklearn.ensemble import RandomForestClassifier\n",
    "\n",
    "forest_clf = RandomForestClassifier(random_state=42)\n",
    "y_probas_forest = cross_val_predict(forest_clf, X_train, y_train_5,\n",
    "                                    cv=3, method='predict_proba')"
   ]
  },
  {
   "cell_type": "code",
   "execution_count": 42,
   "metadata": {},
   "outputs": [],
   "source": [
    "import warnings\n",
    "warnings.filterwarnings(action='ignore')"
   ]
  },
  {
   "cell_type": "code",
   "execution_count": 43,
   "metadata": {},
   "outputs": [],
   "source": [
    "y_scores_forest = y_probas_forest[:, 1]\n",
    "fpr_forest, tpr_forest, thresholds_forest = roc_curve(y_train_5, y_scores_forest)"
   ]
  },
  {
   "cell_type": "code",
   "execution_count": 44,
   "metadata": {},
   "outputs": [
    {
     "data": {
      "image/png": "[encoded data removed]",
      "text/plain": [
       "<Figure size 432x288 with 1 Axes>"
      ]
     },
     "metadata": {
      "needs_background": "light"
     },
     "output_type": "display_data"
    }
   ],
   "source": [
    "plt.plot(fpr, tpr, 'b:', label=\"SGD\")\n",
    "plot_roc_curve(fpr_forest, tpr_forest, \"Random Forest\")\n",
    "plt.legend(loc='lower right')\n",
    "plt.show()"
   ]
  },
  {
   "cell_type": "code",
   "execution_count": 45,
   "metadata": {},
   "outputs": [
    {
     "data": {
      "text/plain": [
       "0.9920527492698306"
      ]
     },
     "execution_count": 45,
     "metadata": {},
     "output_type": "execute_result"
    }
   ],
   "source": [
    "roc_auc_score(y_train_5, y_scores_forest)"
   ]
  },
  {
   "cell_type": "code",
   "execution_count": 46,
   "metadata": {},
   "outputs": [
    {
     "data": {
      "text/plain": [
       "array([0.9, 0. , 0.1, ..., 1. , 0. , 0. ])"
      ]
     },
     "execution_count": 46,
     "metadata": {},
     "output_type": "execute_result"
    }
   ],
   "source": [
    "y_scores_forest"
   ]
  },
  {
   "cell_type": "code",
   "execution_count": 47,
   "metadata": {},
   "outputs": [],
   "source": [
    "y_train_pred_forest = cross_val_predict(forest_clf, X_train, y_train_5, cv=3)"
   ]
  },
  {
   "cell_type": "code",
   "execution_count": 48,
   "metadata": {},
   "outputs": [
    {
     "data": {
      "text/plain": [
       "0.986046511627907"
      ]
     },
     "execution_count": 48,
     "metadata": {},
     "output_type": "execute_result"
    }
   ],
   "source": [
    "precision_score(y_train_5, y_train_pred_forest)"
   ]
  },
  {
   "cell_type": "code",
   "execution_count": 49,
   "metadata": {},
   "outputs": [
    {
     "data": {
      "text/plain": [
       "0.8212506917542889"
      ]
     },
     "execution_count": 49,
     "metadata": {},
     "output_type": "execute_result"
    }
   ],
   "source": [
    "recall_score(y_train_5, y_train_pred_forest)"
   ]
  },
  {
   "cell_type": "code",
   "execution_count": 50,
   "metadata": {},
   "outputs": [
    {
     "data": {
      "text/plain": [
       "array([ True, False, False, ...,  True, False, False])"
      ]
     },
     "execution_count": 50,
     "metadata": {},
     "output_type": "execute_result"
    }
   ],
   "source": [
    "y_train_pred_forest"
   ]
  },
  {
   "cell_type": "markdown",
   "metadata": {},
   "source": [
    "#### MULTICLASS CLASSIFICATION"
   ]
  },
  {
   "cell_type": "code",
   "execution_count": 52,
   "metadata": {},
   "outputs": [
    {
     "data": {
      "text/plain": [
       "array([5], dtype=uint8)"
      ]
     },
     "execution_count": 52,
     "metadata": {},
     "output_type": "execute_result"
    }
   ],
   "source": [
    "from sklearn.svm import SVC\n",
    "svm_clf = SVC()\n",
    "svm_clf.fit(X_train, y_train)\n",
    "svm_clf.predict([some_digit])"
   ]
  },
  {
   "cell_type": "code",
   "execution_count": 53,
   "metadata": {},
   "outputs": [
    {
     "data": {
      "text/plain": [
       "array([[ 2.93122677,  8.00623816,  4.93475188,  5.95181157, -0.07701849,\n",
       "         9.5       ,  1.93070389,  6.96454079,  0.92390001,  3.93384542]])"
      ]
     },
     "execution_count": 53,
     "metadata": {},
     "output_type": "execute_result"
    }
   ],
   "source": [
    "some_digit_scores = svm_clf.decision_function([some_digit])\n",
    "some_digit_scores"
   ]
  },
  {
   "cell_type": "code",
   "execution_count": 54,
   "metadata": {},
   "outputs": [
    {
     "data": {
      "text/plain": [
       "5"
      ]
     },
     "execution_count": 54,
     "metadata": {},
     "output_type": "execute_result"
    }
   ],
   "source": [
    "np.argmax(some_digit_scores)"
   ]
  },
  {
   "cell_type": "code",
   "execution_count": 55,
   "metadata": {},
   "outputs": [
    {
     "data": {
      "text/plain": [
       "array([0, 1, 2, 3, 4, 5, 6, 7, 8, 9], dtype=uint8)"
      ]
     },
     "execution_count": 55,
     "metadata": {},
     "output_type": "execute_result"
    }
   ],
   "source": [
    "svm_clf.classes_"
   ]
  },
  {
   "cell_type": "code",
   "execution_count": 56,
   "metadata": {},
   "outputs": [
    {
     "data": {
      "text/plain": [
       "5"
      ]
     },
     "execution_count": 56,
     "metadata": {},
     "output_type": "execute_result"
    }
   ],
   "source": [
    "svm_clf.classes_[5]"
   ]
  },
  {
   "cell_type": "code",
   "execution_count": 57,
   "metadata": {},
   "outputs": [
    {
     "data": {
      "text/plain": [
       "OneVsRestClassifier(estimator=SVC(C=1.0, cache_size=200, class_weight=None, coef0=0.0,\n",
       "  decision_function_shape='ovr', degree=3, gamma='auto_deprecated',\n",
       "  kernel='rbf', max_iter=-1, probability=False, random_state=None,\n",
       "  shrinking=True, tol=0.001, verbose=False),\n",
       "          n_jobs=None)"
      ]
     },
     "execution_count": 57,
     "metadata": {},
     "output_type": "execute_result"
    }
   ],
   "source": [
    "from sklearn.multiclass import OneVsRestClassifier\n",
    "ovr_clf = OneVsRestClassifier(SVC())\n",
    "ovr_clf.fit(X_train[:1000], y_train[:1000])"
   ]
  },
  {
   "cell_type": "code",
   "execution_count": 58,
   "metadata": {},
   "outputs": [
    {
     "data": {
      "text/plain": [
       "array([5], dtype=uint8)"
      ]
     },
     "execution_count": 58,
     "metadata": {},
     "output_type": "execute_result"
    }
   ],
   "source": [
    "ovr_clf.predict([some_digit])"
   ]
  },
  {
   "cell_type": "code",
   "execution_count": 59,
   "metadata": {},
   "outputs": [
    {
     "data": {
      "text/plain": [
       "10"
      ]
     },
     "execution_count": 59,
     "metadata": {},
     "output_type": "execute_result"
    }
   ],
   "source": [
    "len(ovr_clf.estimators_)"
   ]
  },
  {
   "cell_type": "code",
   "execution_count": 62,
   "metadata": {},
   "outputs": [
    {
     "data": {
      "text/plain": [
       "array([5], dtype=uint8)"
      ]
     },
     "execution_count": 62,
     "metadata": {},
     "output_type": "execute_result"
    }
   ],
   "source": [
    "sgd_clf.fit(X_train, y_train)\n",
    "sgd_clf.predict([some_digit])"
   ]
  },
  {
   "cell_type": "code",
   "execution_count": 63,
   "metadata": {},
   "outputs": [
    {
     "data": {
      "text/plain": [
       "array([[-433195.51807197, -338154.39320296, -233775.78280018,\n",
       "         -96549.33208399, -775699.13613034,  -45148.19955869,\n",
       "        -536304.97603686, -298210.05377635, -535633.57179217,\n",
       "        -490653.60782097]])"
      ]
     },
     "execution_count": 63,
     "metadata": {},
     "output_type": "execute_result"
    }
   ],
   "source": [
    "sgd_clf.decision_function([some_digit])"
   ]
  },
  {
   "cell_type": "code",
   "execution_count": 64,
   "metadata": {},
   "outputs": [
    {
     "data": {
      "text/plain": [
       "array([0.86872625, 0.87639382, 0.87848177])"
      ]
     },
     "execution_count": 64,
     "metadata": {},
     "output_type": "execute_result"
    }
   ],
   "source": [
    "cross_val_score(sgd_clf, X_train, y_train, cv=3, scoring='accuracy')"
   ]
  },
  {
   "cell_type": "code",
   "execution_count": 65,
   "metadata": {},
   "outputs": [
    {
     "data": {
      "text/plain": [
       "array([0.90736853, 0.90884544, 0.91363705])"
      ]
     },
     "execution_count": 65,
     "metadata": {},
     "output_type": "execute_result"
    }
   ],
   "source": [
    "from sklearn.preprocessing import StandardScaler\n",
    "scaler = StandardScaler()\n",
    "X_train_scaled = scaler.fit_transform(X_train.astype(np.float64))\n",
    "cross_val_score(sgd_clf, X_train_scaled, y_train, cv=3, scoring='accuracy')"
   ]
  },
  {
   "cell_type": "markdown",
   "metadata": {},
   "source": [
    "#### ERROR ANALYSIS"
   ]
  },
  {
   "cell_type": "code",
   "execution_count": 67,
   "metadata": {},
   "outputs": [],
   "source": [
    "y_train_pred = cross_val_predict(sgd_clf, X_train_scaled, y_train, cv=3)\n",
    "conf_mx = confusion_matrix(y_train, y_train_pred)"
   ]
  },
  {
   "cell_type": "code",
   "execution_count": 68,
   "metadata": {},
   "outputs": [
    {
     "data": {
      "text/plain": [
       "<matplotlib.image.AxesImage at 0x7f3efafe1940>"
      ]
     },
     "execution_count": 68,
     "metadata": {},
     "output_type": "execute_result"
    },
    {
     "data": {
      "image/png": "[encoded data removed]",
      "text/plain": [
       "<Figure size 288x288 with 1 Axes>"
      ]
     },
     "metadata": {
      "needs_background": "light"
     },
     "output_type": "display_data"
    }
   ],
   "source": [
    "plt.matshow(conf_mx, cmap=plt.cm.gray)"
   ]
  },
  {
   "cell_type": "code",
   "execution_count": 69,
   "metadata": {},
   "outputs": [],
   "source": [
    "row_sums = conf_mx.sum(axis=1, keepdims=True)\n",
    "norm_conf_mx = conf_mx / row_sums"
   ]
  },
  {
   "cell_type": "code",
   "execution_count": 71,
   "metadata": {},
   "outputs": [
    {
     "data": {
      "text/plain": [
       "<matplotlib.image.AxesImage at 0x7f3efa98da58>"
      ]
     },
     "execution_count": 71,
     "metadata": {},
     "output_type": "execute_result"
    },
    {
     "data": {
      "image/png": "[encoded data removed]",
      "text/plain": [
       "<Figure size 288x288 with 1 Axes>"
      ]
     },
     "metadata": {
      "needs_background": "light"
     },
     "output_type": "display_data"
    }
   ],
   "source": [
    "np.fill_diagonal(norm_conf_mx, 0)\n",
    "plt.matshow(norm_conf_mx, cmap=plt.cm.gray)"
   ]
  },
  {
   "cell_type": "code",
   "execution_count": 73,
   "metadata": {},
   "outputs": [
    {
     "data": {
      "text/plain": [
       "array([[0.        , 0.00033767, 0.00438967, 0.002026  , 0.00185717,\n",
       "        0.00793517, 0.00793517, 0.0015195 , 0.0065845 , 0.00067533],\n",
       "       [0.00014832, 0.        , 0.00622961, 0.00489469, 0.00118659,\n",
       "        0.00578463, 0.00118659, 0.00133492, 0.01676061, 0.00148324],\n",
       "       [0.00923129, 0.00587445, 0.        , 0.01745552, 0.01325948,\n",
       "        0.00335683, 0.01779121, 0.00855992, 0.02920443, 0.00251762],\n",
       "       [0.00733975, 0.00652422, 0.0236503 , 0.        , 0.00048932,\n",
       "        0.03425216, 0.00538248, 0.00815528, 0.02201925, 0.01598434],\n",
       "       [0.00290996, 0.00445053, 0.00650462, 0.00136939, 0.        ,\n",
       "        0.00085587, 0.00975693, 0.0053064 , 0.01472099, 0.03646012],\n",
       "       [0.01365062, 0.00700978, 0.00793212, 0.03670909, 0.01309721,\n",
       "        0.        , 0.02139827, 0.00479616, 0.03228187, 0.01752444],\n",
       "       [0.00557621, 0.00371747, 0.00726597, 0.00033795, 0.00709699,\n",
       "        0.01520784, 0.        , 0.00050693, 0.00726597, 0.        ],\n",
       "       [0.00383081, 0.00367119, 0.01165204, 0.00462889, 0.00957702,\n",
       "        0.0019154 , 0.00063847, 0.        , 0.0028731 , 0.039585  ],\n",
       "       [0.00837464, 0.02820031, 0.0124765 , 0.02563664, 0.00273458,\n",
       "        0.02614938, 0.00854555, 0.00410186, 0.        , 0.02273116],\n",
       "       [0.00655572, 0.00521096, 0.00437048, 0.01546478, 0.02739956,\n",
       "        0.00588334, 0.00050429, 0.0297529 , 0.01327954, 0.        ]])"
      ]
     },
     "execution_count": 73,
     "metadata": {},
     "output_type": "execute_result"
    }
   ],
   "source": [
    "norm_conf_mx"
   ]
  },
  {
   "cell_type": "markdown",
   "metadata": {},
   "source": [
    "### MULTILABEL CLASSIFICATION"
   ]
  },
  {
   "cell_type": "code",
   "execution_count": 74,
   "metadata": {},
   "outputs": [],
   "source": [
    "y_train_large = (y_train >= 7)\n",
    "y_train_odd = (y_train % 2 == 1)\n",
    "y_multilabel = np.c_[y_train_large, y_train_odd]"
   ]
  },
  {
   "cell_type": "code",
   "execution_count": 75,
   "metadata": {},
   "outputs": [
    {
     "data": {
      "text/plain": [
       "array([False, False, False, ..., False, False,  True])"
      ]
     },
     "execution_count": 75,
     "metadata": {},
     "output_type": "execute_result"
    }
   ],
   "source": [
    "y_train_large"
   ]
  },
  {
   "cell_type": "code",
   "execution_count": 77,
   "metadata": {},
   "outputs": [
    {
     "data": {
      "text/plain": [
       "array([ True, False, False, ...,  True, False, False])"
      ]
     },
     "execution_count": 77,
     "metadata": {},
     "output_type": "execute_result"
    }
   ],
   "source": [
    "y_train_odd"
   ]
  },
  {
   "cell_type": "code",
   "execution_count": 78,
   "metadata": {},
   "outputs": [
    {
     "data": {
      "text/plain": [
       "array([[False,  True],\n",
       "       [False, False],\n",
       "       [False, False],\n",
       "       ...,\n",
       "       [False,  True],\n",
       "       [False, False],\n",
       "       [ True, False]])"
      ]
     },
     "execution_count": 78,
     "metadata": {},
     "output_type": "execute_result"
    }
   ],
   "source": [
    "y_multilabel"
   ]
  },
  {
   "cell_type": "code",
   "execution_count": 79,
   "metadata": {},
   "outputs": [
    {
     "data": {
      "text/plain": [
       "KNeighborsClassifier(algorithm='auto', leaf_size=30, metric='minkowski',\n",
       "           metric_params=None, n_jobs=None, n_neighbors=5, p=2,\n",
       "           weights='uniform')"
      ]
     },
     "execution_count": 79,
     "metadata": {},
     "output_type": "execute_result"
    }
   ],
   "source": [
    "from sklearn.neighbors import KNeighborsClassifier\n",
    "knn_clf = KNeighborsClassifier()\n",
    "knn_clf.fit(X_train, y_multilabel)"
   ]
  },
  {
   "cell_type": "code",
   "execution_count": 80,
   "metadata": {},
   "outputs": [
    {
     "data": {
      "text/plain": [
       "array([[False,  True]])"
      ]
     },
     "execution_count": 80,
     "metadata": {},
     "output_type": "execute_result"
    }
   ],
   "source": [
    "knn_clf.predict([some_digit])"
   ]
  },
  {
   "cell_type": "code",
   "execution_count": 82,
   "metadata": {},
   "outputs": [
    {
     "data": {
      "text/plain": [
       "0.976410265560605"
      ]
     },
     "execution_count": 82,
     "metadata": {},
     "output_type": "execute_result"
    }
   ],
   "source": [
    "y_train_knn_pred = cross_val_predict(knn_clf, X_train, y_multilabel, cv=3, n_jobs=-1)\n",
    "f1_score(y_multilabel, y_train_knn_pred, average='macro')"
   ]
  },
  {
   "cell_type": "markdown",
   "metadata": {},
   "source": [
    "### MULTIOUPUT CLASSIFICATION"
   ]
  },
  {
   "cell_type": "code",
   "execution_count": 84,
   "metadata": {},
   "outputs": [],
   "source": [
    "noise = np.random.randint(0, 100, (len(X_train), 784))\n",
    "X_train_mod = X_train + noise\n",
    "noise = np.random.randint(0, 100, (len(X_test), 784))\n",
    "X_test_mod = X_test + noise\n",
    "y_train_mod = X_train\n",
    "y_test_mod = X_test"
   ]
  },
  {
   "cell_type": "code",
   "execution_count": 86,
   "metadata": {},
   "outputs": [
    {
     "ename": "NameError",
     "evalue": "name 'plot_digit' is not defined",
     "output_type": "error",
     "traceback": [
      "\u001b[0;31m---------------------------------------------------------------------------\u001b[0m",
      "\u001b[0;31mNameError\u001b[0m                                 Traceback (most recent call last)",
      "\u001b[0;32m<ipython-input-86-935bf1e91f4c>\u001b[0m in \u001b[0;36m<module>\u001b[0;34m\u001b[0m\n\u001b[1;32m      2\u001b[0m \u001b[0msome_index\u001b[0m \u001b[0;34m=\u001b[0m \u001b[0;36m5\u001b[0m\u001b[0;34m\u001b[0m\u001b[0;34m\u001b[0m\u001b[0m\n\u001b[1;32m      3\u001b[0m \u001b[0mclean_digit\u001b[0m \u001b[0;34m=\u001b[0m \u001b[0mknn_clf\u001b[0m\u001b[0;34m.\u001b[0m\u001b[0mpredict\u001b[0m\u001b[0;34m(\u001b[0m\u001b[0;34m[\u001b[0m\u001b[0mX_test_mod\u001b[0m\u001b[0;34m[\u001b[0m\u001b[0msome_index\u001b[0m\u001b[0;34m]\u001b[0m\u001b[0;34m]\u001b[0m\u001b[0;34m)\u001b[0m\u001b[0;34m\u001b[0m\u001b[0;34m\u001b[0m\u001b[0m\n\u001b[0;32m----> 4\u001b[0;31m \u001b[0mplot_digit\u001b[0m\u001b[0;34m(\u001b[0m\u001b[0mclean_digit\u001b[0m\u001b[0;34m)\u001b[0m\u001b[0;34m\u001b[0m\u001b[0;34m\u001b[0m\u001b[0m\n\u001b[0m",
      "\u001b[0;31mNameError\u001b[0m: name 'plot_digit' is not defined"
     ]
    }
   ],
   "source": [
    "knn_clf.fit(X_train_mod, y_train_mod)\n",
    "some_index = 5\n",
    "clean_digit = knn_clf.predict([X_test_mod[some_index]])\n"
   ]
  },
  {
   "cell_type": "code",
   "execution_count": 89,
   "metadata": {},
   "outputs": [
    {
     "data": {
      "text/plain": [
       "(-0.5, 27.5, 27.5, -0.5)"
      ]
     },
     "execution_count": 89,
     "metadata": {},
     "output_type": "execute_result"
    },
    {
     "data": {
      "image/png": "[encoded data removed]",
      "text/plain": [
       "<Figure size 432x288 with 1 Axes>"
      ]
     },
     "metadata": {
      "needs_background": "light"
     },
     "output_type": "display_data"
    }
   ],
   "source": [
    "clean_digit_image = clean_digit.reshape(28,28)\n",
    "plt.imshow(clean_digit_image, cmap='binary')\n",
    "plt.axis('off')"
   ]
  },
  {
   "cell_type": "code",
   "execution_count": 88,
   "metadata": {},
   "outputs": [
    {
     "data": {
      "text/plain": [
       "array([[  0.,   0.,   0.,   0.,   0.,   0.,   0.,   0.,   0.,   0.,   0.,\n",
       "          0.,   0.,   0.,   0.,   0.,   0.,   0.,   0.,   0.,   0.,   0.,\n",
       "          0.,   0.,   0.,   0.,   0.,   0.,   0.,   0.,   0.,   0.,   0.,\n",
       "          0.,   0.,   0.,   0.,   0.,   0.,   0.,   0.,   0.,   0.,   0.,\n",
       "          0.,   0.,   0.,   0.,   0.,   0.,   0.,   0.,   0.,   0.,   0.,\n",
       "          0.,   0.,   0.,   0.,   0.,   0.,   0.,   0.,   0.,   0.,   0.,\n",
       "          0.,   0.,   0.,   0.,   0.,   0.,   0.,   0.,   0.,   0.,   0.,\n",
       "          0.,   0.,   0.,   0.,   0.,   0.,   0.,   0.,   0.,   0.,   0.,\n",
       "          0.,   0.,   0.,   0.,   0.,   0.,   0.,   0.,   0.,   0.,   0.,\n",
       "          0.,   0.,   0.,   0.,   0.,   0.,   0.,   0.,   0.,   0.,   0.,\n",
       "          0.,   0.,   0.,   0.,   0.,   0.,   0.,   0.,   0.,   0.,   0.,\n",
       "          0.,   0.,   0.,   0.,   0.,   0.,   0.,   0.,   0.,   0.,   0.,\n",
       "          0.,   0.,   0.,   0.,   0.,   0.,   0.,   0.,   0.,   0.,   0.,\n",
       "          0.,   0.,   0.,   0.,   0.,   0.,   0.,   0.,   0.,   0.,   0.,\n",
       "          0.,   0.,  82., 255.,  25.,   0.,   0.,   0.,   0.,   0.,   0.,\n",
       "          0.,   0.,   0.,   0.,   0.,   0.,   0.,   0.,   0.,   0.,   0.,\n",
       "          0.,   0.,   0.,   0.,   0.,   0.,   0.,   0., 177., 253., 119.,\n",
       "          0.,   0.,   0.,   0.,   0.,   0.,   0.,   0.,   0.,   0.,   0.,\n",
       "          0.,   0.,   0.,   0.,   0.,   0.,   0.,   0.,   0.,   0.,   0.,\n",
       "          0.,   0.,  55., 253., 253.,  77.,   0.,   0.,   0.,   0.,   0.,\n",
       "          0.,   0.,   0.,   0.,   0.,   0.,   0.,   0.,   0.,   0.,   0.,\n",
       "          0.,   0.,   0.,   0.,   0.,   0.,   0.,   0., 153., 252., 253.,\n",
       "         15.,   0.,   0.,   0.,   0.,   0.,   0.,   0.,   0.,   0.,   0.,\n",
       "          0.,   0.,   0.,   0.,   0.,   0.,   0.,   0.,   0.,   0.,   0.,\n",
       "          0.,   0.,   0., 253., 253., 153.,   0.,   0.,   0.,   0.,   0.,\n",
       "          0.,   0.,   0.,   0.,   0.,   0.,   0.,   0.,   0.,   0.,   0.,\n",
       "          0.,   0.,   0.,   0.,   0.,   0.,   0.,   0.,  77., 255., 252.,\n",
       "         94.,   0.,   0.,   0.,   0.,   0.,   0.,   0.,   0.,   0.,   0.,\n",
       "          0.,   0.,   0.,   0.,   0.,   0.,   0.,   0.,   0.,   0.,   0.,\n",
       "          0.,   0.,   0., 197., 253., 223.,   0.,   0.,   0.,   0.,   0.,\n",
       "          0.,   0.,   0.,   0.,   0.,   0.,   0.,   0.,   0.,   0.,   0.,\n",
       "          0.,   0.,   0.,   0.,   0.,   0.,   0.,   0.,  26., 227., 253.,\n",
       "        166.,   0.,   0.,   0.,   0.,   0.,   0.,   0.,   0.,   0.,   0.,\n",
       "          0.,   0.,   0.,   0.,   0.,   0.,   0.,   0.,   0.,   0.,   0.,\n",
       "          0.,   0.,   0.,  78., 253., 253.,  89.,   0.,   0.,   0.,   0.,\n",
       "          0.,   0.,   0.,   0.,   0.,   0.,   0.,   0.,   0.,   0.,   0.,\n",
       "          0.,   0.,   0.,   0.,   0.,   0.,   0.,   0.,   0., 131., 252.,\n",
       "        254.,  28.,   0.,   0.,   0.,   0.,   0.,   0.,   0.,   0.,   0.,\n",
       "          0.,   0.,   0.,   0.,   0.,   0.,   0.,   0.,   0.,   0.,   0.,\n",
       "          0.,   0.,   0.,   0., 253., 253., 168.,   0.,   0.,   0.,   0.,\n",
       "          0.,   0.,   0.,   0.,   0.,   0.,   0.,   0.,   0.,   0.,   0.,\n",
       "          0.,   0.,   0.,   0.,   0.,   0.,   0.,   0.,   0.,  45., 253.,\n",
       "        252., 111.,   0.,   0.,   0.,   0.,   0.,   0.,   0.,   0.,   0.,\n",
       "          0.,   0.,   0.,   0.,   0.,   0.,   0.,   0.,   0.,   0.,   0.,\n",
       "          0.,   0.,   0.,   0.,  88., 253., 236.,  34.,   0.,   0.,   0.,\n",
       "          0.,   0.,   0.,   0.,   0.,   0.,   0.,   0.,   0.,   0.,   0.,\n",
       "          0.,   0.,   0.,   0.,   0.,   0.,   0.,   0.,   0.,   0., 252.,\n",
       "        253., 184.,   0.,   0.,   0.,   0.,   0.,   0.,   0.,   0.,   0.,\n",
       "          0.,   0.,   0.,   0.,   0.,   0.,   0.,   0.,   0.,   0.,   0.,\n",
       "          0.,   0.,   0.,   0.,  16., 252., 253., 109.,   0.,   0.,   0.,\n",
       "          0.,   0.,   0.,   0.,   0.,   0.,   0.,   0.,   0.,   0.,   0.,\n",
       "          0.,   0.,   0.,   0.,   0.,   0.,   0.,   0.,   0.,   0., 110.,\n",
       "        253., 253.,  50.,   0.,   0.,   0.,   0.,   0.,   0.,   0.,   0.,\n",
       "          0.,   0.,   0.,   0.,   0.,   0.,   0.,   0.,   0.,   0.,   0.,\n",
       "          0.,   0.,   0.,   0.,   0., 122., 253., 114.,   0.,   0.,   0.,\n",
       "          0.,   0.,   0.,   0.,   0.,   0.,   0.,   0.,   0.,   0.,   0.,\n",
       "          0.,   0.,   0.,   0.,   0.,   0.,   0.,   0.,   0.,   0.,   0.,\n",
       "        150., 252.,  27.,   0.,   0.,   0.,   0.,   0.,   0.,   0.,   0.,\n",
       "          0.,   0.,   0.,   0.,   0.,   0.,   0.,   0.,   0.,   0.,   0.,\n",
       "          0.,   0.,   0.,   0.,   0.,   0., 110., 252.,  27.,   0.,   0.,\n",
       "          0.,   0.,   0.,   0.,   0.,   0.,   0.,   0.,   0.,   0.,   0.,\n",
       "          0.,   0.,   0.,   0.,   0.,   0.,   0.,   0.,   0.,   0.,   0.,\n",
       "          0.,  10., 128.,  12.,   0.,   0.,   0.,   0.,   0.,   0.,   0.,\n",
       "          0.,   0.,   0.,   0.,   0.,   0.,   0.,   0.,   0.,   0.,   0.,\n",
       "          0.,   0.,   0.,   0.,   0.,   0.,   0.,   0.,   0.,   0.,   0.,\n",
       "          0.,   0.,   0.,   0.,   0.,   0.,   0.,   0.,   0.,   0.,   0.,\n",
       "          0.,   0.,   0.,   0.,   0.,   0.,   0.,   0.,   0.,   0.,   0.,\n",
       "          0.,   0.,   0.,   0.,   0.,   0.,   0.,   0.,   0.,   0.,   0.,\n",
       "          0.,   0.,   0.,   0.,   0.,   0.,   0.,   0.,   0.,   0.,   0.,\n",
       "          0.,   0.,   0.,   0.,   0.,   0.,   0.,   0.,   0.,   0.,   0.,\n",
       "          0.,   0.,   0.,   0.,   0.,   0.,   0.,   0.,   0.,   0.,   0.,\n",
       "          0.,   0.,   0.]])"
      ]
     },
     "execution_count": 88,
     "metadata": {},
     "output_type": "execute_result"
    }
   ],
   "source": [
    "clean_digit"
   ]
  },
  {
   "cell_type": "code",
   "execution_count": null,
   "metadata": {},
   "outputs": [],
   "source": []
  }
 ],
 "metadata": {
  "kernelspec": {
   "display_name": "Python 3",
   "language": "python",
   "name": "python3"
  },
  "language_info": {
   "codemirror_mode": {
    "name": "ipython",
    "version": 3
   },
   "file_extension": ".py",
   "mimetype": "text/x-python",
   "name": "python",
   "nbconvert_exporter": "python",
   "pygments_lexer": "ipython3",
   "version": "3.7.2-final"
  }
 },
 "nbformat": 4,
 "nbformat_minor": 4
}