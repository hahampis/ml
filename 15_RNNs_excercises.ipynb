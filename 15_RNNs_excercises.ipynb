{
 "cells": [
  {
   "cell_type": "code",
   "execution_count": 1,
   "metadata": {},
   "outputs": [
    {
     "name": "stderr",
     "output_type": "stream",
     "text": [
      "2023-04-23 16:00:38.522575: I tensorflow/core/platform/cpu_feature_guard.cc:193] This TensorFlow binary is optimized with oneAPI Deep Neural Network Library (oneDNN) to use the following CPU instructions in performance-critical operations:  SSE4.1 SSE4.2 AVX AVX2 FMA\n",
      "To enable them in other operations, rebuild TensorFlow with the appropriate compiler flags.\n"
     ]
    }
   ],
   "source": [
    "import tensorflow_datasets as tfds\n",
    "import matplotlib.pyplot as plt\n",
    "import tensorflow as tf\n",
    "from tensorflow import keras\n",
    "%matplotlib inline\n",
    "\n",
    "# tfds.list_builders()"
   ]
  },
  {
   "attachments": {},
   "cell_type": "markdown",
   "metadata": {},
   "source": [
    "Excercise 10: Bach chorales dataset"
   ]
  },
  {
   "cell_type": "code",
   "execution_count": 28,
   "metadata": {},
   "outputs": [],
   "source": [
    "train = tf.data.experimental.make_csv_dataset(\"/home/nikos/ml/datasets/jsb_chorales/train/*.csv\", batch_size=4)\n",
    "valid = tf.data.experimental.make_csv_dataset(\"/home/nikos/ml/datasets/jsb_chorales/valid/*.csv\", batch_size=4)\n",
    "test = tf.data.experimental.make_csv_dataset(\"/home/nikos/ml/datasets/jsb_chorales/test/*.csv\", batch_size=4)\n"
   ]
  },
  {
   "cell_type": "code",
   "execution_count": 27,
   "metadata": {},
   "outputs": [
    {
     "name": "stdout",
     "output_type": "stream",
     "text": [
      "{'note0': array([67, 69, 72, 76], dtype=int32), 'note1': array([62, 63, 69, 67], dtype=int32), 'note2': array([64, 55, 65, 61], dtype=int32), 'note3': array([48, 48, 53, 45], dtype=int32)}\n"
     ]
    }
   ],
   "source": [
    "iterator = train.as_numpy_iterator()\n",
    "print(dict(next(iterator)))"
   ]
  }
 ],
 "metadata": {
  "kernelspec": {
   "display_name": "ml",
   "language": "python",
   "name": "python3"
  },
  "language_info": {
   "codemirror_mode": {
    "name": "ipython",
    "version": 3
   },
   "file_extension": ".py",
   "mimetype": "text/x-python",
   "name": "python",
   "nbconvert_exporter": "python",
   "pygments_lexer": "ipython3",
   "version": "3.9.16"
  },
  "orig_nbformat": 4
 },
 "nbformat": 4,
 "nbformat_minor": 2
}
